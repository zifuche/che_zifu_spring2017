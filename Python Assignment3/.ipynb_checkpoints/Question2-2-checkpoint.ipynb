{
 "cells": [
  {
   "cell_type": "code",
   "execution_count": 32,
   "metadata": {
    "collapsed": true
   },
   "outputs": [],
   "source": [
    "from pandas import Series, DataFrame\n",
    "import pandas as pd\n",
    "import os\n",
    "import numpy as np\n",
    "import datetime as dt"
   ]
  },
  {
   "cell_type": "code",
   "execution_count": 33,
   "metadata": {
    "collapsed": false
   },
   "outputs": [],
   "source": [
    "df = pd.read_csv(os.getcwd()+'/employee_compensation.csv')\n",
    "\n",
    "df2=df[df[\"Year Type\"]==\"Calendar\"]"
   ]
  },
  {
   "cell_type": "code",
   "execution_count": 34,
   "metadata": {
    "collapsed": false
   },
   "outputs": [],
   "source": [
    "df2=df2[[\"Job Family\",\"Employee Identifier\",\"Salaries\",\"Overtime\",\"Other Salaries\",\"Total Salary\",\"Retirement\",\"Health/Dental\",\"Other Benefits\",\"Total Benefits\",\"Total Compensation\"]]\n"
   ]
  },
  {
   "cell_type": "code",
   "execution_count": 35,
   "metadata": {
    "collapsed": false
   },
   "outputs": [
    {
     "data": {
      "text/html": [
       "<div>\n",
       "<table border=\"1\" class=\"dataframe\">\n",
       "  <thead>\n",
       "    <tr style=\"text-align: right;\">\n",
       "      <th></th>\n",
       "      <th>Job Family</th>\n",
       "      <th>Employee Identifier</th>\n",
       "      <th>Salaries</th>\n",
       "      <th>Overtime</th>\n",
       "      <th>Other Salaries</th>\n",
       "      <th>Total Salary</th>\n",
       "      <th>Retirement</th>\n",
       "      <th>Health/Dental</th>\n",
       "      <th>Other Benefits</th>\n",
       "      <th>Total Benefits</th>\n",
       "      <th>Total Compensation</th>\n",
       "    </tr>\n",
       "  </thead>\n",
       "  <tbody>\n",
       "    <tr>\n",
       "      <th>0</th>\n",
       "      <td>Administrative &amp; Mgmt (Unrep)</td>\n",
       "      <td>2321</td>\n",
       "      <td>291241.175</td>\n",
       "      <td>0.0</td>\n",
       "      <td>0.0</td>\n",
       "      <td>291241.175</td>\n",
       "      <td>57103.3575</td>\n",
       "      <td>13071.9925</td>\n",
       "      <td>19095.6025</td>\n",
       "      <td>89270.9525</td>\n",
       "      <td>380512.1275</td>\n",
       "    </tr>\n",
       "    <tr>\n",
       "      <th>1</th>\n",
       "      <td>Administrative &amp; Mgmt (Unrep)</td>\n",
       "      <td>4800</td>\n",
       "      <td>14463.000</td>\n",
       "      <td>0.0</td>\n",
       "      <td>0.0</td>\n",
       "      <td>14463.000</td>\n",
       "      <td>2636.6100</td>\n",
       "      <td>1543.3700</td>\n",
       "      <td>1857.4400</td>\n",
       "      <td>6037.4200</td>\n",
       "      <td>20500.4200</td>\n",
       "    </tr>\n",
       "    <tr>\n",
       "      <th>2</th>\n",
       "      <td>Administrative &amp; Mgmt (Unrep)</td>\n",
       "      <td>5547</td>\n",
       "      <td>205073.100</td>\n",
       "      <td>0.0</td>\n",
       "      <td>0.0</td>\n",
       "      <td>205073.100</td>\n",
       "      <td>36761.3900</td>\n",
       "      <td>12089.6900</td>\n",
       "      <td>29617.8400</td>\n",
       "      <td>78468.9200</td>\n",
       "      <td>283542.0200</td>\n",
       "    </tr>\n",
       "    <tr>\n",
       "      <th>3</th>\n",
       "      <td>Administrative &amp; Mgmt (Unrep)</td>\n",
       "      <td>5662</td>\n",
       "      <td>128370.200</td>\n",
       "      <td>0.0</td>\n",
       "      <td>0.0</td>\n",
       "      <td>128370.200</td>\n",
       "      <td>23089.5500</td>\n",
       "      <td>3601.1900</td>\n",
       "      <td>5032.4800</td>\n",
       "      <td>31723.2200</td>\n",
       "      <td>160093.4200</td>\n",
       "    </tr>\n",
       "    <tr>\n",
       "      <th>4</th>\n",
       "      <td>Administrative &amp; Mgmt (Unrep)</td>\n",
       "      <td>8493</td>\n",
       "      <td>53658.000</td>\n",
       "      <td>0.0</td>\n",
       "      <td>0.0</td>\n",
       "      <td>53658.000</td>\n",
       "      <td>9524.3400</td>\n",
       "      <td>4630.1000</td>\n",
       "      <td>6796.6700</td>\n",
       "      <td>20951.1100</td>\n",
       "      <td>74609.1100</td>\n",
       "    </tr>\n",
       "  </tbody>\n",
       "</table>\n",
       "</div>"
      ],
      "text/plain": [
       "                      Job Family  Employee Identifier    Salaries  Overtime  \\\n",
       "0  Administrative & Mgmt (Unrep)                 2321  291241.175       0.0   \n",
       "1  Administrative & Mgmt (Unrep)                 4800   14463.000       0.0   \n",
       "2  Administrative & Mgmt (Unrep)                 5547  205073.100       0.0   \n",
       "3  Administrative & Mgmt (Unrep)                 5662  128370.200       0.0   \n",
       "4  Administrative & Mgmt (Unrep)                 8493   53658.000       0.0   \n",
       "\n",
       "   Other Salaries  Total Salary  Retirement  Health/Dental  Other Benefits  \\\n",
       "0             0.0    291241.175  57103.3575     13071.9925      19095.6025   \n",
       "1             0.0     14463.000   2636.6100      1543.3700       1857.4400   \n",
       "2             0.0    205073.100  36761.3900     12089.6900      29617.8400   \n",
       "3             0.0    128370.200  23089.5500      3601.1900       5032.4800   \n",
       "4             0.0     53658.000   9524.3400      4630.1000       6796.6700   \n",
       "\n",
       "   Total Benefits  Total Compensation  \n",
       "0      89270.9525         380512.1275  \n",
       "1       6037.4200          20500.4200  \n",
       "2      78468.9200         283542.0200  \n",
       "3      31723.2200         160093.4200  \n",
       "4      20951.1100          74609.1100  "
      ]
     },
     "execution_count": 35,
     "metadata": {},
     "output_type": "execute_result"
    }
   ],
   "source": [
    "df2=df2.groupby([\"Job Family\",\"Employee Identifier\"],as_index=False).mean()\n",
    "\n",
    "df2.head()                #average salary"
   ]
  },
  {
   "cell_type": "code",
   "execution_count": 28,
   "metadata": {
    "collapsed": false
   },
   "outputs": [],
   "source": [
    "    #average salery"
   ]
  },
  {
   "cell_type": "code",
   "execution_count": 40,
   "metadata": {
    "collapsed": false
   },
   "outputs": [
    {
     "data": {
      "text/html": [
       "<div>\n",
       "<table border=\"1\" class=\"dataframe\">\n",
       "  <thead>\n",
       "    <tr style=\"text-align: right;\">\n",
       "      <th></th>\n",
       "      <th>Job Family</th>\n",
       "      <th>Employee Identifier</th>\n",
       "      <th>Salaries</th>\n",
       "      <th>Overtime</th>\n",
       "      <th>Other Salaries</th>\n",
       "      <th>Total Salary</th>\n",
       "      <th>Retirement</th>\n",
       "      <th>Health/Dental</th>\n",
       "      <th>Other Benefits</th>\n",
       "      <th>Total Benefits</th>\n",
       "      <th>Total Compensation</th>\n",
       "    </tr>\n",
       "  </thead>\n",
       "  <tbody>\n",
       "    <tr>\n",
       "      <th>90</th>\n",
       "      <td>Administrative-Labor &amp; Trades</td>\n",
       "      <td>5727</td>\n",
       "      <td>123810.3575</td>\n",
       "      <td>32152.7675</td>\n",
       "      <td>32016.3475</td>\n",
       "      <td>187979.4725</td>\n",
       "      <td>26494.965</td>\n",
       "      <td>12234.70</td>\n",
       "      <td>10274.5925</td>\n",
       "      <td>49004.2575</td>\n",
       "      <td>236983.73</td>\n",
       "    </tr>\n",
       "    <tr>\n",
       "      <th>92</th>\n",
       "      <td>Administrative-Labor &amp; Trades</td>\n",
       "      <td>8353</td>\n",
       "      <td>66924.4050</td>\n",
       "      <td>59010.0100</td>\n",
       "      <td>11629.3000</td>\n",
       "      <td>137563.7150</td>\n",
       "      <td>15369.260</td>\n",
       "      <td>7708.45</td>\n",
       "      <td>6998.8050</td>\n",
       "      <td>30076.5150</td>\n",
       "      <td>167640.23</td>\n",
       "    </tr>\n",
       "    <tr>\n",
       "      <th>93</th>\n",
       "      <td>Administrative-Labor &amp; Trades</td>\n",
       "      <td>10523</td>\n",
       "      <td>51481.5300</td>\n",
       "      <td>21225.3300</td>\n",
       "      <td>32734.0700</td>\n",
       "      <td>105440.9300</td>\n",
       "      <td>9665.120</td>\n",
       "      <td>5119.45</td>\n",
       "      <td>8446.8400</td>\n",
       "      <td>23231.4100</td>\n",
       "      <td>128672.34</td>\n",
       "    </tr>\n",
       "    <tr>\n",
       "      <th>97</th>\n",
       "      <td>Administrative-Labor &amp; Trades</td>\n",
       "      <td>13187</td>\n",
       "      <td>55484.0000</td>\n",
       "      <td>9646.6800</td>\n",
       "      <td>11803.0000</td>\n",
       "      <td>76933.6800</td>\n",
       "      <td>10114.720</td>\n",
       "      <td>5659.01</td>\n",
       "      <td>2532.3000</td>\n",
       "      <td>18306.0300</td>\n",
       "      <td>95239.71</td>\n",
       "    </tr>\n",
       "    <tr>\n",
       "      <th>101</th>\n",
       "      <td>Administrative-Labor &amp; Trades</td>\n",
       "      <td>16350</td>\n",
       "      <td>38002.0000</td>\n",
       "      <td>4257.9000</td>\n",
       "      <td>0.0000</td>\n",
       "      <td>42259.9000</td>\n",
       "      <td>7072.180</td>\n",
       "      <td>3822.92</td>\n",
       "      <td>3399.4100</td>\n",
       "      <td>14294.5100</td>\n",
       "      <td>56554.41</td>\n",
       "    </tr>\n",
       "  </tbody>\n",
       "</table>\n",
       "</div>"
      ],
      "text/plain": [
       "                        Job Family  Employee Identifier     Salaries  \\\n",
       "90   Administrative-Labor & Trades                 5727  123810.3575   \n",
       "92   Administrative-Labor & Trades                 8353   66924.4050   \n",
       "93   Administrative-Labor & Trades                10523   51481.5300   \n",
       "97   Administrative-Labor & Trades                13187   55484.0000   \n",
       "101  Administrative-Labor & Trades                16350   38002.0000   \n",
       "\n",
       "       Overtime  Other Salaries  Total Salary  Retirement  Health/Dental  \\\n",
       "90   32152.7675      32016.3475   187979.4725   26494.965       12234.70   \n",
       "92   59010.0100      11629.3000   137563.7150   15369.260        7708.45   \n",
       "93   21225.3300      32734.0700   105440.9300    9665.120        5119.45   \n",
       "97    9646.6800      11803.0000    76933.6800   10114.720        5659.01   \n",
       "101   4257.9000          0.0000    42259.9000    7072.180        3822.92   \n",
       "\n",
       "     Other Benefits  Total Benefits  Total Compensation  \n",
       "90       10274.5925      49004.2575           236983.73  \n",
       "92        6998.8050      30076.5150           167640.23  \n",
       "93        8446.8400      23231.4100           128672.34  \n",
       "97        2532.3000      18306.0300            95239.71  \n",
       "101       3399.4100      14294.5100            56554.41  "
      ]
     },
     "execution_count": 40,
     "metadata": {},
     "output_type": "execute_result"
    }
   ],
   "source": [
    "df3=df2.query('Overtime>Salaries*0.05')          #Overtime>Salaries*0.05\n",
    "df3.head()"
   ]
  },
  {
   "cell_type": "code",
   "execution_count": 41,
   "metadata": {
    "collapsed": false
   },
   "outputs": [],
   "source": [
    "df3=df3[[\"Job Family\",\"Total Benefits\",\"Total Compensation\"]]"
   ]
  },
  {
   "cell_type": "code",
   "execution_count": 42,
   "metadata": {
    "collapsed": false
   },
   "outputs": [
    {
     "data": {
      "text/html": [
       "<div>\n",
       "<table border=\"1\" class=\"dataframe\">\n",
       "  <thead>\n",
       "    <tr style=\"text-align: right;\">\n",
       "      <th></th>\n",
       "      <th>Job Family</th>\n",
       "      <th>Total Benefits</th>\n",
       "      <th>Total Compensation</th>\n",
       "    </tr>\n",
       "  </thead>\n",
       "  <tbody>\n",
       "    <tr>\n",
       "      <th>90</th>\n",
       "      <td>Administrative-Labor &amp; Trades</td>\n",
       "      <td>49004.2575</td>\n",
       "      <td>236983.73</td>\n",
       "    </tr>\n",
       "    <tr>\n",
       "      <th>92</th>\n",
       "      <td>Administrative-Labor &amp; Trades</td>\n",
       "      <td>30076.5150</td>\n",
       "      <td>167640.23</td>\n",
       "    </tr>\n",
       "    <tr>\n",
       "      <th>93</th>\n",
       "      <td>Administrative-Labor &amp; Trades</td>\n",
       "      <td>23231.4100</td>\n",
       "      <td>128672.34</td>\n",
       "    </tr>\n",
       "    <tr>\n",
       "      <th>97</th>\n",
       "      <td>Administrative-Labor &amp; Trades</td>\n",
       "      <td>18306.0300</td>\n",
       "      <td>95239.71</td>\n",
       "    </tr>\n",
       "    <tr>\n",
       "      <th>101</th>\n",
       "      <td>Administrative-Labor &amp; Trades</td>\n",
       "      <td>14294.5100</td>\n",
       "      <td>56554.41</td>\n",
       "    </tr>\n",
       "  </tbody>\n",
       "</table>\n",
       "</div>"
      ],
      "text/plain": [
       "                        Job Family  Total Benefits  Total Compensation\n",
       "90   Administrative-Labor & Trades      49004.2575           236983.73\n",
       "92   Administrative-Labor & Trades      30076.5150           167640.23\n",
       "93   Administrative-Labor & Trades      23231.4100           128672.34\n",
       "97   Administrative-Labor & Trades      18306.0300            95239.71\n",
       "101  Administrative-Labor & Trades      14294.5100            56554.41"
      ]
     },
     "execution_count": 42,
     "metadata": {},
     "output_type": "execute_result"
    }
   ],
   "source": [
    "df3.head()"
   ]
  },
  {
   "cell_type": "code",
   "execution_count": 49,
   "metadata": {
    "collapsed": false
   },
   "outputs": [
    {
     "data": {
      "text/html": [
       "<div>\n",
       "<table border=\"1\" class=\"dataframe\">\n",
       "  <thead>\n",
       "    <tr style=\"text-align: right;\">\n",
       "      <th></th>\n",
       "      <th>Job Family</th>\n",
       "      <th>Total Benefits</th>\n",
       "      <th>Total Compensation</th>\n",
       "    </tr>\n",
       "  </thead>\n",
       "  <tbody>\n",
       "    <tr>\n",
       "      <th>0</th>\n",
       "      <td>Administrative-Labor &amp; Trades</td>\n",
       "      <td>35398.450119</td>\n",
       "      <td>162831.632560</td>\n",
       "    </tr>\n",
       "    <tr>\n",
       "      <th>1</th>\n",
       "      <td>Agriculture &amp; Horticulture</td>\n",
       "      <td>27886.590323</td>\n",
       "      <td>94075.711769</td>\n",
       "    </tr>\n",
       "    <tr>\n",
       "      <th>2</th>\n",
       "      <td>Airport Operation</td>\n",
       "      <td>33661.152255</td>\n",
       "      <td>122059.011671</td>\n",
       "    </tr>\n",
       "    <tr>\n",
       "      <th>3</th>\n",
       "      <td>Budget, Admn &amp; Stats Analysis</td>\n",
       "      <td>22721.521375</td>\n",
       "      <td>79834.029938</td>\n",
       "    </tr>\n",
       "    <tr>\n",
       "      <th>4</th>\n",
       "      <td>Clerical, Secretarial &amp; Steno</td>\n",
       "      <td>7166.984747</td>\n",
       "      <td>24424.693281</td>\n",
       "    </tr>\n",
       "  </tbody>\n",
       "</table>\n",
       "</div>"
      ],
      "text/plain": [
       "                      Job Family  Total Benefits  Total Compensation\n",
       "0  Administrative-Labor & Trades    35398.450119       162831.632560\n",
       "1     Agriculture & Horticulture    27886.590323        94075.711769\n",
       "2              Airport Operation    33661.152255       122059.011671\n",
       "3  Budget, Admn & Stats Analysis    22721.521375        79834.029938\n",
       "4  Clerical, Secretarial & Steno     7166.984747        24424.693281"
      ]
     },
     "execution_count": 49,
     "metadata": {},
     "output_type": "execute_result"
    }
   ],
   "source": [
    "df4=df3.groupby([\"Job Family\"],as_index=False).mean()\n",
    "df4.head()"
   ]
  },
  {
   "cell_type": "code",
   "execution_count": 50,
   "metadata": {
    "collapsed": false
   },
   "outputs": [
    {
     "data": {
      "text/html": [
       "<div>\n",
       "<table border=\"1\" class=\"dataframe\">\n",
       "  <thead>\n",
       "    <tr style=\"text-align: right;\">\n",
       "      <th></th>\n",
       "      <th>Job Family</th>\n",
       "      <th>Total Benefits</th>\n",
       "      <th>Total Compensation</th>\n",
       "      <th>PERCENTAGE</th>\n",
       "    </tr>\n",
       "  </thead>\n",
       "  <tbody>\n",
       "    <tr>\n",
       "      <th>0</th>\n",
       "      <td>Administrative-Labor &amp; Trades</td>\n",
       "      <td>35398.450119</td>\n",
       "      <td>162831.632560</td>\n",
       "      <td>0.217393</td>\n",
       "    </tr>\n",
       "    <tr>\n",
       "      <th>1</th>\n",
       "      <td>Agriculture &amp; Horticulture</td>\n",
       "      <td>27886.590323</td>\n",
       "      <td>94075.711769</td>\n",
       "      <td>0.296427</td>\n",
       "    </tr>\n",
       "    <tr>\n",
       "      <th>2</th>\n",
       "      <td>Airport Operation</td>\n",
       "      <td>33661.152255</td>\n",
       "      <td>122059.011671</td>\n",
       "      <td>0.275778</td>\n",
       "    </tr>\n",
       "    <tr>\n",
       "      <th>3</th>\n",
       "      <td>Budget, Admn &amp; Stats Analysis</td>\n",
       "      <td>22721.521375</td>\n",
       "      <td>79834.029938</td>\n",
       "      <td>0.284609</td>\n",
       "    </tr>\n",
       "    <tr>\n",
       "      <th>4</th>\n",
       "      <td>Clerical, Secretarial &amp; Steno</td>\n",
       "      <td>7166.984747</td>\n",
       "      <td>24424.693281</td>\n",
       "      <td>0.293432</td>\n",
       "    </tr>\n",
       "  </tbody>\n",
       "</table>\n",
       "</div>"
      ],
      "text/plain": [
       "                      Job Family  Total Benefits  Total Compensation  \\\n",
       "0  Administrative-Labor & Trades    35398.450119       162831.632560   \n",
       "1     Agriculture & Horticulture    27886.590323        94075.711769   \n",
       "2              Airport Operation    33661.152255       122059.011671   \n",
       "3  Budget, Admn & Stats Analysis    22721.521375        79834.029938   \n",
       "4  Clerical, Secretarial & Steno     7166.984747        24424.693281   \n",
       "\n",
       "   PERCENTAGE  \n",
       "0    0.217393  \n",
       "1    0.296427  \n",
       "2    0.275778  \n",
       "3    0.284609  \n",
       "4    0.293432  "
      ]
     },
     "execution_count": 50,
     "metadata": {},
     "output_type": "execute_result"
    }
   ],
   "source": [
    "df4[\"PERCENTAGE\"]=df4[\"Total Benefits\"]/df4[\"Total Compensation\"]\n",
    "df4.head()"
   ]
  },
  {
   "cell_type": "code",
   "execution_count": 51,
   "metadata": {
    "collapsed": false
   },
   "outputs": [
    {
     "data": {
      "text/html": [
       "<div>\n",
       "<table border=\"1\" class=\"dataframe\">\n",
       "  <thead>\n",
       "    <tr style=\"text-align: right;\">\n",
       "      <th></th>\n",
       "      <th>Job Family</th>\n",
       "      <th>Total Benefits</th>\n",
       "      <th>Total Compensation</th>\n",
       "      <th>PERCENTAGE</th>\n",
       "    </tr>\n",
       "  </thead>\n",
       "  <tbody>\n",
       "    <tr>\n",
       "      <th>34</th>\n",
       "      <td>Public Service Aide</td>\n",
       "      <td>12081.252503</td>\n",
       "      <td>34013.789743</td>\n",
       "      <td>0.355187</td>\n",
       "    </tr>\n",
       "    <tr>\n",
       "      <th>23</th>\n",
       "      <td>Park &amp; Zoo</td>\n",
       "      <td>22168.769722</td>\n",
       "      <td>65363.664630</td>\n",
       "      <td>0.339160</td>\n",
       "    </tr>\n",
       "    <tr>\n",
       "      <th>9</th>\n",
       "      <td>Energy &amp; Environment</td>\n",
       "      <td>14254.410000</td>\n",
       "      <td>43219.500000</td>\n",
       "      <td>0.329814</td>\n",
       "    </tr>\n",
       "    <tr>\n",
       "      <th>37</th>\n",
       "      <td>Revenue</td>\n",
       "      <td>15629.204089</td>\n",
       "      <td>47641.781767</td>\n",
       "      <td>0.328057</td>\n",
       "    </tr>\n",
       "    <tr>\n",
       "      <th>21</th>\n",
       "      <td>Museum &amp; Cultural Affairs</td>\n",
       "      <td>27037.390000</td>\n",
       "      <td>83926.070000</td>\n",
       "      <td>0.322157</td>\n",
       "    </tr>\n",
       "  </tbody>\n",
       "</table>\n",
       "</div>"
      ],
      "text/plain": [
       "                   Job Family  Total Benefits  Total Compensation  PERCENTAGE\n",
       "34        Public Service Aide    12081.252503        34013.789743    0.355187\n",
       "23                 Park & Zoo    22168.769722        65363.664630    0.339160\n",
       "9        Energy & Environment    14254.410000        43219.500000    0.329814\n",
       "37                    Revenue    15629.204089        47641.781767    0.328057\n",
       "21  Museum & Cultural Affairs    27037.390000        83926.070000    0.322157"
      ]
     },
     "execution_count": 51,
     "metadata": {},
     "output_type": "execute_result"
    }
   ],
   "source": [
    "df4=df4.sort_values([\"PERCENTAGE\"],ascending=False)\n",
    "df4.head()"
   ]
  },
  {
   "cell_type": "code",
   "execution_count": 12,
   "metadata": {
    "collapsed": true
   },
   "outputs": [],
   "source": [
    "df4.to_csv('Q2-2.csv')"
   ]
  },
  {
   "cell_type": "code",
   "execution_count": null,
   "metadata": {
    "collapsed": true
   },
   "outputs": [],
   "source": []
  }
 ],
 "metadata": {
  "anaconda-cloud": {},
  "kernelspec": {
   "display_name": "Python [conda root]",
   "language": "python",
   "name": "conda-root-py"
  },
  "language_info": {
   "codemirror_mode": {
    "name": "ipython",
    "version": 3
   },
   "file_extension": ".py",
   "mimetype": "text/x-python",
   "name": "python",
   "nbconvert_exporter": "python",
   "pygments_lexer": "ipython3",
   "version": "3.5.2"
  }
 },
 "nbformat": 4,
 "nbformat_minor": 1
}
