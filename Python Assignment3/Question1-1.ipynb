{
 "cells": [
  {
   "cell_type": "markdown",
   "metadata": {
    "collapsed": true
   },
   "source": []
  },
  {
   "cell_type": "code",
   "execution_count": 184,
   "metadata": {
    "collapsed": true
   },
   "outputs": [],
   "source": [
    "from pandas import Series, DataFrame\n",
    "import pandas as pd\n",
    "import os\n",
    "import numpy as np\n",
    "import datetime as dt\n",
    "import calendar"
   ]
  },
  {
   "cell_type": "code",
   "execution_count": 76,
   "metadata": {
    "collapsed": false
   },
   "outputs": [
    {
     "name": "stdout",
     "output_type": "stream",
     "text": [
      "/Users/zifuche/Desktop/Python Assignment3\n"
     ]
    }
   ],
   "source": [
    "print(os.getcwd())"
   ]
  },
  {
   "cell_type": "code",
   "execution_count": 185,
   "metadata": {
    "collapsed": false
   },
   "outputs": [],
   "source": [
    "df = pd.read_csv(os.getcwd()+'/vehicle_collisions.csv')\n",
    "df1=df[df[\"DATE\"].str.endswith(\"16\")]"
   ]
  },
  {
   "cell_type": "code",
   "execution_count": 186,
   "metadata": {
    "collapsed": false
   },
   "outputs": [
    {
     "data": {
      "text/html": [
       "<div>\n",
       "<table border=\"1\" class=\"dataframe\">\n",
       "  <thead>\n",
       "    <tr style=\"text-align: right;\">\n",
       "      <th></th>\n",
       "      <th>UNIQUE KEY</th>\n",
       "      <th>DATE</th>\n",
       "      <th>TIME</th>\n",
       "      <th>BOROUGH</th>\n",
       "      <th>ZIP CODE</th>\n",
       "      <th>LATITUDE</th>\n",
       "      <th>LONGITUDE</th>\n",
       "      <th>LOCATION</th>\n",
       "      <th>ON STREET NAME</th>\n",
       "      <th>CROSS STREET NAME</th>\n",
       "      <th>...</th>\n",
       "      <th>VEHICLE 1 TYPE</th>\n",
       "      <th>VEHICLE 2 TYPE</th>\n",
       "      <th>VEHICLE 3 TYPE</th>\n",
       "      <th>VEHICLE 4 TYPE</th>\n",
       "      <th>VEHICLE 5 TYPE</th>\n",
       "      <th>VEHICLE 1 FACTOR</th>\n",
       "      <th>VEHICLE 2 FACTOR</th>\n",
       "      <th>VEHICLE 3 FACTOR</th>\n",
       "      <th>VEHICLE 4 FACTOR</th>\n",
       "      <th>VEHICLE 5 FACTOR</th>\n",
       "    </tr>\n",
       "  </thead>\n",
       "  <tbody>\n",
       "    <tr>\n",
       "      <th>217539</th>\n",
       "      <td>3374565</td>\n",
       "      <td>1/1/16</td>\n",
       "      <td>0:01</td>\n",
       "      <td>MANHATTAN</td>\n",
       "      <td>10022.0</td>\n",
       "      <td>40.760223</td>\n",
       "      <td>-73.967462</td>\n",
       "      <td>(40.7602226, -73.967462)</td>\n",
       "      <td>EAST 57 STREET</td>\n",
       "      <td>3 AVENUE</td>\n",
       "      <td>...</td>\n",
       "      <td>PASSENGER VEHICLE</td>\n",
       "      <td>PASSENGER VEHICLE</td>\n",
       "      <td>NaN</td>\n",
       "      <td>NaN</td>\n",
       "      <td>NaN</td>\n",
       "      <td>OTHER VEHICULAR</td>\n",
       "      <td>OTHER VEHICULAR</td>\n",
       "      <td>NaN</td>\n",
       "      <td>NaN</td>\n",
       "      <td>NaN</td>\n",
       "    </tr>\n",
       "    <tr>\n",
       "      <th>217540</th>\n",
       "      <td>3511927</td>\n",
       "      <td>1/1/16</td>\n",
       "      <td>0:01</td>\n",
       "      <td>BROOKLYN</td>\n",
       "      <td>11235.0</td>\n",
       "      <td>NaN</td>\n",
       "      <td>NaN</td>\n",
       "      <td>NaN</td>\n",
       "      <td>EMMONS AVENUE</td>\n",
       "      <td>OCEAN AVENUE</td>\n",
       "      <td>...</td>\n",
       "      <td>PASSENGER VEHICLE</td>\n",
       "      <td>BICYCLE</td>\n",
       "      <td>NaN</td>\n",
       "      <td>NaN</td>\n",
       "      <td>NaN</td>\n",
       "      <td>UNSPECIFIED</td>\n",
       "      <td>UNSPECIFIED</td>\n",
       "      <td>NaN</td>\n",
       "      <td>NaN</td>\n",
       "      <td>NaN</td>\n",
       "    </tr>\n",
       "    <tr>\n",
       "      <th>217541</th>\n",
       "      <td>3363408</td>\n",
       "      <td>1/1/16</td>\n",
       "      <td>0:01</td>\n",
       "      <td>MANHATTAN</td>\n",
       "      <td>10035.0</td>\n",
       "      <td>40.805057</td>\n",
       "      <td>-73.939034</td>\n",
       "      <td>(40.8050573, -73.9390342)</td>\n",
       "      <td>EAST 125 STREET</td>\n",
       "      <td>PARK AVENUE</td>\n",
       "      <td>...</td>\n",
       "      <td>PASSENGER VEHICLE</td>\n",
       "      <td>NaN</td>\n",
       "      <td>NaN</td>\n",
       "      <td>NaN</td>\n",
       "      <td>NaN</td>\n",
       "      <td>UNSPECIFIED</td>\n",
       "      <td>NaN</td>\n",
       "      <td>NaN</td>\n",
       "      <td>NaN</td>\n",
       "      <td>NaN</td>\n",
       "    </tr>\n",
       "    <tr>\n",
       "      <th>217542</th>\n",
       "      <td>3364610</td>\n",
       "      <td>1/1/16</td>\n",
       "      <td>0:05</td>\n",
       "      <td>MANHATTAN</td>\n",
       "      <td>10035.0</td>\n",
       "      <td>40.799258</td>\n",
       "      <td>-73.939050</td>\n",
       "      <td>(40.7992577, -73.9390504)</td>\n",
       "      <td>3 AVENUE</td>\n",
       "      <td>EAST 118 STREET</td>\n",
       "      <td>...</td>\n",
       "      <td>PASSENGER VEHICLE</td>\n",
       "      <td>PASSENGER VEHICLE</td>\n",
       "      <td>NaN</td>\n",
       "      <td>NaN</td>\n",
       "      <td>NaN</td>\n",
       "      <td>UNSPECIFIED</td>\n",
       "      <td>UNSPECIFIED</td>\n",
       "      <td>NaN</td>\n",
       "      <td>NaN</td>\n",
       "      <td>NaN</td>\n",
       "    </tr>\n",
       "    <tr>\n",
       "      <th>217543</th>\n",
       "      <td>3363371</td>\n",
       "      <td>1/1/16</td>\n",
       "      <td>0:15</td>\n",
       "      <td>MANHATTAN</td>\n",
       "      <td>10011.0</td>\n",
       "      <td>40.738552</td>\n",
       "      <td>-73.999682</td>\n",
       "      <td>(40.738552, -73.9996824)</td>\n",
       "      <td>7 AVENUE</td>\n",
       "      <td>WEST 14 STREET</td>\n",
       "      <td>...</td>\n",
       "      <td>SPORT UTILITY/STATION WAGON</td>\n",
       "      <td>OTHER</td>\n",
       "      <td>NaN</td>\n",
       "      <td>NaN</td>\n",
       "      <td>NaN</td>\n",
       "      <td>LOST CONSCIOUSNESS</td>\n",
       "      <td>UNSPECIFIED</td>\n",
       "      <td>NaN</td>\n",
       "      <td>NaN</td>\n",
       "      <td>NaN</td>\n",
       "    </tr>\n",
       "  </tbody>\n",
       "</table>\n",
       "<p>5 rows × 29 columns</p>\n",
       "</div>"
      ],
      "text/plain": [
       "        UNIQUE KEY    DATE  TIME    BOROUGH  ZIP CODE   LATITUDE  LONGITUDE  \\\n",
       "217539     3374565  1/1/16  0:01  MANHATTAN   10022.0  40.760223 -73.967462   \n",
       "217540     3511927  1/1/16  0:01   BROOKLYN   11235.0        NaN        NaN   \n",
       "217541     3363408  1/1/16  0:01  MANHATTAN   10035.0  40.805057 -73.939034   \n",
       "217542     3364610  1/1/16  0:05  MANHATTAN   10035.0  40.799258 -73.939050   \n",
       "217543     3363371  1/1/16  0:15  MANHATTAN   10011.0  40.738552 -73.999682   \n",
       "\n",
       "                         LOCATION   ON STREET NAME CROSS STREET NAME  \\\n",
       "217539   (40.7602226, -73.967462)   EAST 57 STREET          3 AVENUE   \n",
       "217540                        NaN    EMMONS AVENUE      OCEAN AVENUE   \n",
       "217541  (40.8050573, -73.9390342)  EAST 125 STREET       PARK AVENUE   \n",
       "217542  (40.7992577, -73.9390504)         3 AVENUE   EAST 118 STREET   \n",
       "217543   (40.738552, -73.9996824)         7 AVENUE    WEST 14 STREET   \n",
       "\n",
       "             ...                      VEHICLE 1 TYPE     VEHICLE 2 TYPE  \\\n",
       "217539       ...                   PASSENGER VEHICLE  PASSENGER VEHICLE   \n",
       "217540       ...                   PASSENGER VEHICLE            BICYCLE   \n",
       "217541       ...                   PASSENGER VEHICLE                NaN   \n",
       "217542       ...                   PASSENGER VEHICLE  PASSENGER VEHICLE   \n",
       "217543       ...         SPORT UTILITY/STATION WAGON              OTHER   \n",
       "\n",
       "        VEHICLE 3 TYPE  VEHICLE 4 TYPE  VEHICLE 5 TYPE    VEHICLE 1 FACTOR  \\\n",
       "217539             NaN             NaN             NaN     OTHER VEHICULAR   \n",
       "217540             NaN             NaN             NaN         UNSPECIFIED   \n",
       "217541             NaN             NaN             NaN         UNSPECIFIED   \n",
       "217542             NaN             NaN             NaN         UNSPECIFIED   \n",
       "217543             NaN             NaN             NaN  LOST CONSCIOUSNESS   \n",
       "\n",
       "        VEHICLE 2 FACTOR  VEHICLE 3 FACTOR  VEHICLE 4 FACTOR VEHICLE 5 FACTOR  \n",
       "217539   OTHER VEHICULAR               NaN               NaN              NaN  \n",
       "217540       UNSPECIFIED               NaN               NaN              NaN  \n",
       "217541               NaN               NaN               NaN              NaN  \n",
       "217542       UNSPECIFIED               NaN               NaN              NaN  \n",
       "217543       UNSPECIFIED               NaN               NaN              NaN  \n",
       "\n",
       "[5 rows x 29 columns]"
      ]
     },
     "execution_count": 186,
     "metadata": {},
     "output_type": "execute_result"
    }
   ],
   "source": [
    "df1.head()"
   ]
  },
  {
   "cell_type": "code",
   "execution_count": 187,
   "metadata": {
    "collapsed": false
   },
   "outputs": [],
   "source": [
    "df2=df1[[\"DATE\",\"BOROUGH\"]]\n",
    "\n",
    "# data = {'state': ['Ohio', 'Ohio', 'Ohio', 'Nevada', 'Nevada'], 'year': [2000, 2001, 2002, 2001, 2002],\n",
    "# 'pop': [1.5, 1.7, 3.6, 2.4, 2.9]}\n",
    "# frame = DataFrame(data)\n",
    "# frame\n",
    "\n",
    "\n",
    "# data={\"MONTH\":[\"JAN\",\"FEB\",\"MAR\",\"APR\",\"MAY\",\"JUN\",\"JUL\",\"AUG\",\"SEP\",\"OCT\",\"NOV\",\"DEC\"],\"MANHATTAN\"}\n",
    "def getMonth(s):\n",
    "    return s.split(\"/\")[0]\n",
    "def getDay(s):\n",
    "    return s.split(\"/\")[1]"
   ]
  },
  {
   "cell_type": "code",
   "execution_count": 192,
   "metadata": {
    "collapsed": false
   },
   "outputs": [
    {
     "data": {
      "text/html": [
       "<div>\n",
       "<table border=\"1\" class=\"dataframe\">\n",
       "  <thead>\n",
       "    <tr style=\"text-align: right;\">\n",
       "      <th></th>\n",
       "      <th>DATE</th>\n",
       "      <th>BOROUGH</th>\n",
       "    </tr>\n",
       "  </thead>\n",
       "  <tbody>\n",
       "    <tr>\n",
       "      <th>217539</th>\n",
       "      <td>1/1/16</td>\n",
       "      <td>MANHATTAN</td>\n",
       "    </tr>\n",
       "    <tr>\n",
       "      <th>217540</th>\n",
       "      <td>1/1/16</td>\n",
       "      <td>BROOKLYN</td>\n",
       "    </tr>\n",
       "    <tr>\n",
       "      <th>217541</th>\n",
       "      <td>1/1/16</td>\n",
       "      <td>MANHATTAN</td>\n",
       "    </tr>\n",
       "    <tr>\n",
       "      <th>217542</th>\n",
       "      <td>1/1/16</td>\n",
       "      <td>MANHATTAN</td>\n",
       "    </tr>\n",
       "    <tr>\n",
       "      <th>217543</th>\n",
       "      <td>1/1/16</td>\n",
       "      <td>MANHATTAN</td>\n",
       "    </tr>\n",
       "  </tbody>\n",
       "</table>\n",
       "</div>"
      ],
      "text/plain": [
       "          DATE    BOROUGH\n",
       "217539  1/1/16  MANHATTAN\n",
       "217540  1/1/16   BROOKLYN\n",
       "217541  1/1/16  MANHATTAN\n",
       "217542  1/1/16  MANHATTAN\n",
       "217543  1/1/16  MANHATTAN"
      ]
     },
     "execution_count": 192,
     "metadata": {},
     "output_type": "execute_result"
    }
   ],
   "source": [
    "df2.head()"
   ]
  },
  {
   "cell_type": "code",
   "execution_count": null,
   "metadata": {
    "collapsed": false
   },
   "outputs": [],
   "source": []
  },
  {
   "cell_type": "code",
   "execution_count": 190,
   "metadata": {
    "collapsed": false
   },
   "outputs": [],
   "source": [
    "z=df2.copy()"
   ]
  },
  {
   "cell_type": "code",
   "execution_count": 193,
   "metadata": {
    "collapsed": false
   },
   "outputs": [],
   "source": [
    "z[\"DATE\"]=pd.to_datetime(z[\"DATE\"],infer_datetime_format=True)\n"
   ]
  },
  {
   "cell_type": "code",
   "execution_count": 194,
   "metadata": {
    "collapsed": false
   },
   "outputs": [],
   "source": [
    "z[\"DATE\"]=z[\"DATE\"].dt.month"
   ]
  },
  {
   "cell_type": "code",
   "execution_count": 195,
   "metadata": {
    "collapsed": false
   },
   "outputs": [],
   "source": [
    "z[\"DATE\"]=z[\"DATE\"].apply(lambda x: calendar.month_abbr[x])"
   ]
  },
  {
   "cell_type": "code",
   "execution_count": 196,
   "metadata": {
    "collapsed": false
   },
   "outputs": [
    {
     "data": {
      "text/html": [
       "<div>\n",
       "<table border=\"1\" class=\"dataframe\">\n",
       "  <thead>\n",
       "    <tr style=\"text-align: right;\">\n",
       "      <th></th>\n",
       "      <th>DATE</th>\n",
       "      <th>BOROUGH</th>\n",
       "    </tr>\n",
       "  </thead>\n",
       "  <tbody>\n",
       "    <tr>\n",
       "      <th>217539</th>\n",
       "      <td>Jan</td>\n",
       "      <td>MANHATTAN</td>\n",
       "    </tr>\n",
       "    <tr>\n",
       "      <th>217540</th>\n",
       "      <td>Jan</td>\n",
       "      <td>BROOKLYN</td>\n",
       "    </tr>\n",
       "    <tr>\n",
       "      <th>217541</th>\n",
       "      <td>Jan</td>\n",
       "      <td>MANHATTAN</td>\n",
       "    </tr>\n",
       "    <tr>\n",
       "      <th>217542</th>\n",
       "      <td>Jan</td>\n",
       "      <td>MANHATTAN</td>\n",
       "    </tr>\n",
       "    <tr>\n",
       "      <th>217543</th>\n",
       "      <td>Jan</td>\n",
       "      <td>MANHATTAN</td>\n",
       "    </tr>\n",
       "  </tbody>\n",
       "</table>\n",
       "</div>"
      ],
      "text/plain": [
       "       DATE    BOROUGH\n",
       "217539  Jan  MANHATTAN\n",
       "217540  Jan   BROOKLYN\n",
       "217541  Jan  MANHATTAN\n",
       "217542  Jan  MANHATTAN\n",
       "217543  Jan  MANHATTAN"
      ]
     },
     "execution_count": 196,
     "metadata": {},
     "output_type": "execute_result"
    }
   ],
   "source": [
    "z.head()"
   ]
  },
  {
   "cell_type": "code",
   "execution_count": 197,
   "metadata": {
    "collapsed": false
   },
   "outputs": [
    {
     "data": {
      "text/plain": [
       "227605"
      ]
     },
     "execution_count": 197,
     "metadata": {},
     "output_type": "execute_result"
    }
   ],
   "source": [
    "len(z)"
   ]
  },
  {
   "cell_type": "code",
   "execution_count": 198,
   "metadata": {
    "collapsed": false
   },
   "outputs": [],
   "source": [
    "q=z[z[\"BOROUGH\"]==\"MANHATTAN\"]"
   ]
  },
  {
   "cell_type": "code",
   "execution_count": 205,
   "metadata": {
    "collapsed": false
   },
   "outputs": [],
   "source": [
    "dtt1=q.groupby([\"DATE\"]).count()"
   ]
  },
  {
   "cell_type": "code",
   "execution_count": 199,
   "metadata": {
    "collapsed": false
   },
   "outputs": [],
   "source": [
    "z['BOROUGH'] = z['BOROUGH'].apply(lambda x: x if not np.nan else -1)"
   ]
  },
  {
   "cell_type": "code",
   "execution_count": 206,
   "metadata": {
    "collapsed": false
   },
   "outputs": [],
   "source": [
    "dtt2=z.groupby([\"DATE\"]).count()"
   ]
  },
  {
   "cell_type": "code",
   "execution_count": 217,
   "metadata": {
    "collapsed": false
   },
   "outputs": [
    {
     "data": {
      "text/html": [
       "<div>\n",
       "<table border=\"1\" class=\"dataframe\">\n",
       "  <thead>\n",
       "    <tr style=\"text-align: right;\">\n",
       "      <th></th>\n",
       "      <th>MANHATTAN</th>\n",
       "    </tr>\n",
       "    <tr>\n",
       "      <th>DATE</th>\n",
       "      <th></th>\n",
       "    </tr>\n",
       "  </thead>\n",
       "  <tbody>\n",
       "    <tr>\n",
       "      <th>Apr</th>\n",
       "      <td>3540</td>\n",
       "    </tr>\n",
       "    <tr>\n",
       "      <th>Aug</th>\n",
       "      <td>2844</td>\n",
       "    </tr>\n",
       "    <tr>\n",
       "      <th>Dec</th>\n",
       "      <td>2634</td>\n",
       "    </tr>\n",
       "    <tr>\n",
       "      <th>Feb</th>\n",
       "      <td>3195</td>\n",
       "    </tr>\n",
       "    <tr>\n",
       "      <th>Jan</th>\n",
       "      <td>3178</td>\n",
       "    </tr>\n",
       "    <tr>\n",
       "      <th>Jul</th>\n",
       "      <td>3055</td>\n",
       "    </tr>\n",
       "    <tr>\n",
       "      <th>Jun</th>\n",
       "      <td>2956</td>\n",
       "    </tr>\n",
       "    <tr>\n",
       "      <th>Mar</th>\n",
       "      <td>3479</td>\n",
       "    </tr>\n",
       "    <tr>\n",
       "      <th>May</th>\n",
       "      <td>3432</td>\n",
       "    </tr>\n",
       "    <tr>\n",
       "      <th>Nov</th>\n",
       "      <td>2838</td>\n",
       "    </tr>\n",
       "    <tr>\n",
       "      <th>Oct</th>\n",
       "      <td>2831</td>\n",
       "    </tr>\n",
       "    <tr>\n",
       "      <th>Sep</th>\n",
       "      <td>2744</td>\n",
       "    </tr>\n",
       "  </tbody>\n",
       "</table>\n",
       "</div>"
      ],
      "text/plain": [
       "      MANHATTAN\n",
       "DATE           \n",
       "Apr        3540\n",
       "Aug        2844\n",
       "Dec        2634\n",
       "Feb        3195\n",
       "Jan        3178\n",
       "Jul        3055\n",
       "Jun        2956\n",
       "Mar        3479\n",
       "May        3432\n",
       "Nov        2838\n",
       "Oct        2831\n",
       "Sep        2744"
      ]
     },
     "execution_count": 217,
     "metadata": {},
     "output_type": "execute_result"
    }
   ],
   "source": [
    "\n",
    "dtt1.columns=[\"MANHATTAN\"]\n",
    "dtt1"
   ]
  },
  {
   "cell_type": "code",
   "execution_count": 218,
   "metadata": {
    "collapsed": false
   },
   "outputs": [
    {
     "data": {
      "text/html": [
       "<div>\n",
       "<table border=\"1\" class=\"dataframe\">\n",
       "  <thead>\n",
       "    <tr style=\"text-align: right;\">\n",
       "      <th></th>\n",
       "      <th>NYC</th>\n",
       "    </tr>\n",
       "    <tr>\n",
       "      <th>DATE</th>\n",
       "      <th></th>\n",
       "    </tr>\n",
       "  </thead>\n",
       "  <tbody>\n",
       "    <tr>\n",
       "      <th>Apr</th>\n",
       "      <td>18331</td>\n",
       "    </tr>\n",
       "    <tr>\n",
       "      <th>Aug</th>\n",
       "      <td>19678</td>\n",
       "    </tr>\n",
       "    <tr>\n",
       "      <th>Dec</th>\n",
       "      <td>19214</td>\n",
       "    </tr>\n",
       "    <tr>\n",
       "      <th>Feb</th>\n",
       "      <td>15985</td>\n",
       "    </tr>\n",
       "    <tr>\n",
       "      <th>Jan</th>\n",
       "      <td>18101</td>\n",
       "    </tr>\n",
       "    <tr>\n",
       "      <th>Jul</th>\n",
       "      <td>19867</td>\n",
       "    </tr>\n",
       "    <tr>\n",
       "      <th>Jun</th>\n",
       "      <td>19433</td>\n",
       "    </tr>\n",
       "    <tr>\n",
       "      <th>Mar</th>\n",
       "      <td>18471</td>\n",
       "    </tr>\n",
       "    <tr>\n",
       "      <th>May</th>\n",
       "      <td>20052</td>\n",
       "    </tr>\n",
       "    <tr>\n",
       "      <th>Nov</th>\n",
       "      <td>19315</td>\n",
       "    </tr>\n",
       "    <tr>\n",
       "      <th>Oct</th>\n",
       "      <td>19666</td>\n",
       "    </tr>\n",
       "    <tr>\n",
       "      <th>Sep</th>\n",
       "      <td>19492</td>\n",
       "    </tr>\n",
       "  </tbody>\n",
       "</table>\n",
       "</div>"
      ],
      "text/plain": [
       "        NYC\n",
       "DATE       \n",
       "Apr   18331\n",
       "Aug   19678\n",
       "Dec   19214\n",
       "Feb   15985\n",
       "Jan   18101\n",
       "Jul   19867\n",
       "Jun   19433\n",
       "Mar   18471\n",
       "May   20052\n",
       "Nov   19315\n",
       "Oct   19666\n",
       "Sep   19492"
      ]
     },
     "execution_count": 218,
     "metadata": {},
     "output_type": "execute_result"
    }
   ],
   "source": [
    "dtt2.columns=[\"NYC\"]\n",
    "dtt2"
   ]
  },
  {
   "cell_type": "code",
   "execution_count": 232,
   "metadata": {
    "collapsed": false
   },
   "outputs": [
    {
     "data": {
      "text/html": [
       "<div>\n",
       "<table border=\"1\" class=\"dataframe\">\n",
       "  <thead>\n",
       "    <tr style=\"text-align: right;\">\n",
       "      <th></th>\n",
       "      <th>MANHATTAN</th>\n",
       "      <th>NYC</th>\n",
       "      <th>PERCENTAGE</th>\n",
       "    </tr>\n",
       "    <tr>\n",
       "      <th>DATE</th>\n",
       "      <th></th>\n",
       "      <th></th>\n",
       "      <th></th>\n",
       "    </tr>\n",
       "  </thead>\n",
       "  <tbody>\n",
       "    <tr>\n",
       "      <th>Apr</th>\n",
       "      <td>3540</td>\n",
       "      <td>18331</td>\n",
       "      <td>0.193115</td>\n",
       "    </tr>\n",
       "    <tr>\n",
       "      <th>Aug</th>\n",
       "      <td>2844</td>\n",
       "      <td>19678</td>\n",
       "      <td>0.144527</td>\n",
       "    </tr>\n",
       "    <tr>\n",
       "      <th>Dec</th>\n",
       "      <td>2634</td>\n",
       "      <td>19214</td>\n",
       "      <td>0.137088</td>\n",
       "    </tr>\n",
       "    <tr>\n",
       "      <th>Feb</th>\n",
       "      <td>3195</td>\n",
       "      <td>15985</td>\n",
       "      <td>0.199875</td>\n",
       "    </tr>\n",
       "    <tr>\n",
       "      <th>Jan</th>\n",
       "      <td>3178</td>\n",
       "      <td>18101</td>\n",
       "      <td>0.175570</td>\n",
       "    </tr>\n",
       "    <tr>\n",
       "      <th>Jul</th>\n",
       "      <td>3055</td>\n",
       "      <td>19867</td>\n",
       "      <td>0.153773</td>\n",
       "    </tr>\n",
       "    <tr>\n",
       "      <th>Jun</th>\n",
       "      <td>2956</td>\n",
       "      <td>19433</td>\n",
       "      <td>0.152112</td>\n",
       "    </tr>\n",
       "    <tr>\n",
       "      <th>Mar</th>\n",
       "      <td>3479</td>\n",
       "      <td>18471</td>\n",
       "      <td>0.188349</td>\n",
       "    </tr>\n",
       "    <tr>\n",
       "      <th>May</th>\n",
       "      <td>3432</td>\n",
       "      <td>20052</td>\n",
       "      <td>0.171155</td>\n",
       "    </tr>\n",
       "    <tr>\n",
       "      <th>Nov</th>\n",
       "      <td>2838</td>\n",
       "      <td>19315</td>\n",
       "      <td>0.146932</td>\n",
       "    </tr>\n",
       "    <tr>\n",
       "      <th>Oct</th>\n",
       "      <td>2831</td>\n",
       "      <td>19666</td>\n",
       "      <td>0.143954</td>\n",
       "    </tr>\n",
       "    <tr>\n",
       "      <th>Sep</th>\n",
       "      <td>2744</td>\n",
       "      <td>19492</td>\n",
       "      <td>0.140776</td>\n",
       "    </tr>\n",
       "  </tbody>\n",
       "</table>\n",
       "</div>"
      ],
      "text/plain": [
       "      MANHATTAN    NYC  PERCENTAGE\n",
       "DATE                              \n",
       "Apr        3540  18331    0.193115\n",
       "Aug        2844  19678    0.144527\n",
       "Dec        2634  19214    0.137088\n",
       "Feb        3195  15985    0.199875\n",
       "Jan        3178  18101    0.175570\n",
       "Jul        3055  19867    0.153773\n",
       "Jun        2956  19433    0.152112\n",
       "Mar        3479  18471    0.188349\n",
       "May        3432  20052    0.171155\n",
       "Nov        2838  19315    0.146932\n",
       "Oct        2831  19666    0.143954\n",
       "Sep        2744  19492    0.140776"
      ]
     },
     "execution_count": 232,
     "metadata": {},
     "output_type": "execute_result"
    }
   ],
   "source": [
    "r=pd.merge(dtt1, dtt2, right_index=True, left_index=True)\n",
    "r[\"PERCENTAGE\"]=r[\"MANHATTAN\"]/r[\"NYC\"]\n",
    "r"
   ]
  },
  {
   "cell_type": "code",
   "execution_count": 241,
   "metadata": {
    "collapsed": false
   },
   "outputs": [],
   "source": [
    "newindex=[\"Jan\",\"Feb\",\"Mar\",\"Apr\",\"May\",\"Jun\",\"Jul\",\"Aug\",\"Sep\",\"Oct\",\"Nov\",\"Dec\"]\n",
    "re=r.reindex(newindex)"
   ]
  },
  {
   "cell_type": "code",
   "execution_count": 242,
   "metadata": {
    "collapsed": false
   },
   "outputs": [
    {
     "data": {
      "text/html": [
       "<div>\n",
       "<table border=\"1\" class=\"dataframe\">\n",
       "  <thead>\n",
       "    <tr style=\"text-align: right;\">\n",
       "      <th></th>\n",
       "      <th>MANHATTAN</th>\n",
       "      <th>NYC</th>\n",
       "      <th>PERCENTAGE</th>\n",
       "    </tr>\n",
       "    <tr>\n",
       "      <th>DATE</th>\n",
       "      <th></th>\n",
       "      <th></th>\n",
       "      <th></th>\n",
       "    </tr>\n",
       "  </thead>\n",
       "  <tbody>\n",
       "    <tr>\n",
       "      <th>Jan</th>\n",
       "      <td>3178</td>\n",
       "      <td>18101</td>\n",
       "      <td>0.175570</td>\n",
       "    </tr>\n",
       "    <tr>\n",
       "      <th>Feb</th>\n",
       "      <td>3195</td>\n",
       "      <td>15985</td>\n",
       "      <td>0.199875</td>\n",
       "    </tr>\n",
       "    <tr>\n",
       "      <th>Mar</th>\n",
       "      <td>3479</td>\n",
       "      <td>18471</td>\n",
       "      <td>0.188349</td>\n",
       "    </tr>\n",
       "    <tr>\n",
       "      <th>Apr</th>\n",
       "      <td>3540</td>\n",
       "      <td>18331</td>\n",
       "      <td>0.193115</td>\n",
       "    </tr>\n",
       "    <tr>\n",
       "      <th>May</th>\n",
       "      <td>3432</td>\n",
       "      <td>20052</td>\n",
       "      <td>0.171155</td>\n",
       "    </tr>\n",
       "    <tr>\n",
       "      <th>Jun</th>\n",
       "      <td>2956</td>\n",
       "      <td>19433</td>\n",
       "      <td>0.152112</td>\n",
       "    </tr>\n",
       "    <tr>\n",
       "      <th>Jul</th>\n",
       "      <td>3055</td>\n",
       "      <td>19867</td>\n",
       "      <td>0.153773</td>\n",
       "    </tr>\n",
       "    <tr>\n",
       "      <th>Aug</th>\n",
       "      <td>2844</td>\n",
       "      <td>19678</td>\n",
       "      <td>0.144527</td>\n",
       "    </tr>\n",
       "    <tr>\n",
       "      <th>Sep</th>\n",
       "      <td>2744</td>\n",
       "      <td>19492</td>\n",
       "      <td>0.140776</td>\n",
       "    </tr>\n",
       "    <tr>\n",
       "      <th>Oct</th>\n",
       "      <td>2831</td>\n",
       "      <td>19666</td>\n",
       "      <td>0.143954</td>\n",
       "    </tr>\n",
       "    <tr>\n",
       "      <th>Nov</th>\n",
       "      <td>2838</td>\n",
       "      <td>19315</td>\n",
       "      <td>0.146932</td>\n",
       "    </tr>\n",
       "    <tr>\n",
       "      <th>Dec</th>\n",
       "      <td>2634</td>\n",
       "      <td>19214</td>\n",
       "      <td>0.137088</td>\n",
       "    </tr>\n",
       "  </tbody>\n",
       "</table>\n",
       "</div>"
      ],
      "text/plain": [
       "      MANHATTAN    NYC  PERCENTAGE\n",
       "DATE                              \n",
       "Jan        3178  18101    0.175570\n",
       "Feb        3195  15985    0.199875\n",
       "Mar        3479  18471    0.188349\n",
       "Apr        3540  18331    0.193115\n",
       "May        3432  20052    0.171155\n",
       "Jun        2956  19433    0.152112\n",
       "Jul        3055  19867    0.153773\n",
       "Aug        2844  19678    0.144527\n",
       "Sep        2744  19492    0.140776\n",
       "Oct        2831  19666    0.143954\n",
       "Nov        2838  19315    0.146932\n",
       "Dec        2634  19214    0.137088"
      ]
     },
     "execution_count": 242,
     "metadata": {},
     "output_type": "execute_result"
    }
   ],
   "source": [
    "re"
   ]
  },
  {
   "cell_type": "code",
   "execution_count": 243,
   "metadata": {
    "collapsed": true
   },
   "outputs": [],
   "source": [
    "\n",
    "re.to_csv('Q1-1.csv')"
   ]
  },
  {
   "cell_type": "code",
   "execution_count": 226,
   "metadata": {
    "collapsed": false
   },
   "outputs": [],
   "source": [
    "# df3=df2[df2[\"DATE\"].str.startswith(\"1/\")]\n",
    "# df3.head()"
   ]
  },
  {
   "cell_type": "code",
   "execution_count": 227,
   "metadata": {
    "collapsed": false
   },
   "outputs": [],
   "source": [
    "# df3[df3[\"BOROUGH\"]==\"MANHATTAN\"].head()"
   ]
  },
  {
   "cell_type": "code",
   "execution_count": 228,
   "metadata": {
    "collapsed": false
   },
   "outputs": [],
   "source": [
    "# len(df3.index)"
   ]
  },
  {
   "cell_type": "code",
   "execution_count": null,
   "metadata": {
    "collapsed": false
   },
   "outputs": [],
   "source": [
    "# data = {'state': ['Ohio', 'Ohio', 'Ohio', 'Nevada', 'Nevada'], 'year': [2000, 2001, 2002, 2001, 2002],\n",
    "# 'pop': [1.5, 1.7, 3.6, 2.4, 2.9]}\n",
    "# frame = DataFrame(data)\n",
    "# frame\n",
    "# DataFrame(data, columns=['year', 'state', 'pop'])"
   ]
  },
  {
   "cell_type": "code",
   "execution_count": 24,
   "metadata": {
    "collapsed": true
   },
   "outputs": [],
   "source": [
    "# def caculater(month):\n",
    "#     df3=df2[df2[\"DATE\"].str.startswith(month+\"/\")]\n",
    "#     df4=df3[df3[\"BOROUGH\"]==\"MANHATTAN\"]\n",
    "#     data={\"MONTH\":[month],\"MANHATTAN\":[len(df4.index)],\"NYC\":[len(df3.index)],\"PERCENTAGE\":[len(df4.index)/len(df3.index)]}\n",
    "#     frame=DataFrame(data,columns=[\"MONTH\",\"MANHATTAN\",\"NYC\",\"PERCENTAGE\"])\n",
    "#     return frame\n",
    "    \n",
    "    \n",
    "    \n",
    "    \n",
    "        "
   ]
  },
  {
   "cell_type": "code",
   "execution_count": 235,
   "metadata": {
    "collapsed": false
   },
   "outputs": [],
   "source": [
    "# caculater(\"1\")"
   ]
  },
  {
   "cell_type": "code",
   "execution_count": 69,
   "metadata": {
    "collapsed": false
   },
   "outputs": [],
   "source": [
    "# monthlist=[\"2\",\"3\",\"4\",\"5\",\"6\",\"7\",\"8\",\"9\",\"10\",\"11\",\"12\"]\n",
    "\n",
    "# frame1=[caculater(\"1\"),caculater(\"2\")]\n",
    "# result=pd.concat(frame1)"
   ]
  },
  {
   "cell_type": "code",
   "execution_count": 70,
   "metadata": {
    "collapsed": false
   },
   "outputs": [],
   "source": [
    "# def getre(monthlist):\n",
    "#     result=caculater(\"1\")\n",
    "#     for month in monthlist:       \n",
    "#         frame=[result,caculater(month)]\n",
    "#         result=pd.concat(frame)\n",
    "#     return result    \n",
    "        "
   ]
  },
  {
   "cell_type": "code",
   "execution_count": 63,
   "metadata": {
    "collapsed": false
   },
   "outputs": [],
   "source": [
    "# df5=getre(monthlist)"
   ]
  },
  {
   "cell_type": "code",
   "execution_count": 72,
   "metadata": {
    "collapsed": false
   },
   "outputs": [],
   "source": [
    "# df5[\"MONTH\"].replace([\"1\",\"2\",\"3\",\"4\",\"5\",\"6\",\"7\",\"8\",\"9\",\"10\",\"11\",\"12\"],[\"JAN\",\"FEB\",\"MAR\",\"APR\",\"MAY\",\"JUN\",\"JUL\",\"AUG\",\"SEP\",\"OCT\",\"NOV\",\"DEC\"],inplace=True)\n",
    "\n"
   ]
  },
  {
   "cell_type": "code",
   "execution_count": 234,
   "metadata": {
    "collapsed": false
   },
   "outputs": [],
   "source": [
    "# df5"
   ]
  },
  {
   "cell_type": "code",
   "execution_count": 74,
   "metadata": {
    "collapsed": true
   },
   "outputs": [],
   "source": []
  },
  {
   "cell_type": "code",
   "execution_count": null,
   "metadata": {
    "collapsed": true
   },
   "outputs": [],
   "source": []
  }
 ],
 "metadata": {
  "anaconda-cloud": {},
  "kernelspec": {
   "display_name": "Python [conda root]",
   "language": "python",
   "name": "conda-root-py"
  },
  "language_info": {
   "codemirror_mode": {
    "name": "ipython",
    "version": 3
   },
   "file_extension": ".py",
   "mimetype": "text/x-python",
   "name": "python",
   "nbconvert_exporter": "python",
   "pygments_lexer": "ipython3",
   "version": "3.5.2"
  }
 },
 "nbformat": 4,
 "nbformat_minor": 1
}
