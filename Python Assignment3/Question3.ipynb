{
 "cells": [
  {
   "cell_type": "code",
   "execution_count": 1,
   "metadata": {
    "collapsed": true
   },
   "outputs": [],
   "source": [
    "from pandas import Series, DataFrame\n",
    "import pandas as pd\n",
    "import os\n",
    "import numpy as np\n",
    "import datetime as dt"
   ]
  },
  {
   "cell_type": "code",
   "execution_count": 2,
   "metadata": {
    "collapsed": true
   },
   "outputs": [],
   "source": [
    "df = pd.read_csv(os.getcwd()+'/cricket_matches.csv')"
   ]
  },
  {
   "cell_type": "code",
   "execution_count": 23,
   "metadata": {
    "collapsed": false
   },
   "outputs": [
    {
     "data": {
      "text/html": [
       "<div>\n",
       "<table border=\"1\" class=\"dataframe\">\n",
       "  <thead>\n",
       "    <tr style=\"text-align: right;\">\n",
       "      <th></th>\n",
       "      <th>home</th>\n",
       "      <th>winner</th>\n",
       "      <th>innings1</th>\n",
       "      <th>innings2</th>\n",
       "      <th>innings1_runs</th>\n",
       "      <th>innings2_runs</th>\n",
       "    </tr>\n",
       "  </thead>\n",
       "  <tbody>\n",
       "    <tr>\n",
       "      <th>0</th>\n",
       "      <td>Durham</td>\n",
       "      <td>Durham</td>\n",
       "      <td>Nottinghamshire</td>\n",
       "      <td>Durham</td>\n",
       "      <td>157.0</td>\n",
       "      <td>160.0</td>\n",
       "    </tr>\n",
       "    <tr>\n",
       "      <th>1</th>\n",
       "      <td>Hampshire</td>\n",
       "      <td>Hampshire</td>\n",
       "      <td>Hampshire</td>\n",
       "      <td>Sussex</td>\n",
       "      <td>153.0</td>\n",
       "      <td>148.0</td>\n",
       "    </tr>\n",
       "    <tr>\n",
       "      <th>2</th>\n",
       "      <td>Somerset</td>\n",
       "      <td>Warwickshire</td>\n",
       "      <td>Warwickshire</td>\n",
       "      <td>Somerset</td>\n",
       "      <td>188.0</td>\n",
       "      <td>169.0</td>\n",
       "    </tr>\n",
       "    <tr>\n",
       "      <th>3</th>\n",
       "      <td>Surrey</td>\n",
       "      <td>Surrey</td>\n",
       "      <td>Middlesex</td>\n",
       "      <td>Surrey</td>\n",
       "      <td>155.0</td>\n",
       "      <td>158.0</td>\n",
       "    </tr>\n",
       "    <tr>\n",
       "      <th>4</th>\n",
       "      <td>Worcestershire</td>\n",
       "      <td>Worcestershire</td>\n",
       "      <td>Northamptonshire</td>\n",
       "      <td>Worcestershire</td>\n",
       "      <td>150.0</td>\n",
       "      <td>151.0</td>\n",
       "    </tr>\n",
       "  </tbody>\n",
       "</table>\n",
       "</div>"
      ],
      "text/plain": [
       "             home          winner          innings1        innings2  \\\n",
       "0          Durham          Durham   Nottinghamshire          Durham   \n",
       "1       Hampshire       Hampshire         Hampshire          Sussex   \n",
       "2        Somerset    Warwickshire      Warwickshire        Somerset   \n",
       "3          Surrey          Surrey         Middlesex          Surrey   \n",
       "4  Worcestershire  Worcestershire  Northamptonshire  Worcestershire   \n",
       "\n",
       "   innings1_runs  innings2_runs  \n",
       "0          157.0          160.0  \n",
       "1          153.0          148.0  \n",
       "2          188.0          169.0  \n",
       "3          155.0          158.0  \n",
       "4          150.0          151.0  "
      ]
     },
     "execution_count": 23,
     "metadata": {},
     "output_type": "execute_result"
    }
   ],
   "source": [
    "df1=df[[\"home\",\"winner\",\"innings1\",\"innings2\",\"innings1_runs\",\"innings2_runs\"]]\n",
    "df1.head()"
   ]
  },
  {
   "cell_type": "code",
   "execution_count": 55,
   "metadata": {
    "collapsed": false
   },
   "outputs": [],
   "source": [
    "df2=df1[df1.home==df1.winner]"
   ]
  },
  {
   "cell_type": "code",
   "execution_count": 56,
   "metadata": {
    "collapsed": false
   },
   "outputs": [
    {
     "data": {
      "text/html": [
       "<div>\n",
       "<table border=\"1\" class=\"dataframe\">\n",
       "  <thead>\n",
       "    <tr style=\"text-align: right;\">\n",
       "      <th></th>\n",
       "      <th>home</th>\n",
       "      <th>winner</th>\n",
       "      <th>innings1</th>\n",
       "      <th>innings2</th>\n",
       "      <th>innings1_runs</th>\n",
       "      <th>innings2_runs</th>\n",
       "    </tr>\n",
       "  </thead>\n",
       "  <tbody>\n",
       "    <tr>\n",
       "      <th>0</th>\n",
       "      <td>Durham</td>\n",
       "      <td>Durham</td>\n",
       "      <td>Nottinghamshire</td>\n",
       "      <td>Durham</td>\n",
       "      <td>157.0</td>\n",
       "      <td>160.0</td>\n",
       "    </tr>\n",
       "    <tr>\n",
       "      <th>1</th>\n",
       "      <td>Hampshire</td>\n",
       "      <td>Hampshire</td>\n",
       "      <td>Hampshire</td>\n",
       "      <td>Sussex</td>\n",
       "      <td>153.0</td>\n",
       "      <td>148.0</td>\n",
       "    </tr>\n",
       "    <tr>\n",
       "      <th>3</th>\n",
       "      <td>Surrey</td>\n",
       "      <td>Surrey</td>\n",
       "      <td>Middlesex</td>\n",
       "      <td>Surrey</td>\n",
       "      <td>155.0</td>\n",
       "      <td>158.0</td>\n",
       "    </tr>\n",
       "    <tr>\n",
       "      <th>4</th>\n",
       "      <td>Worcestershire</td>\n",
       "      <td>Worcestershire</td>\n",
       "      <td>Northamptonshire</td>\n",
       "      <td>Worcestershire</td>\n",
       "      <td>150.0</td>\n",
       "      <td>151.0</td>\n",
       "    </tr>\n",
       "    <tr>\n",
       "      <th>5</th>\n",
       "      <td>Gloucestershire</td>\n",
       "      <td>Gloucestershire</td>\n",
       "      <td>Worcestershire</td>\n",
       "      <td>Gloucestershire</td>\n",
       "      <td>122.0</td>\n",
       "      <td>126.0</td>\n",
       "    </tr>\n",
       "  </tbody>\n",
       "</table>\n",
       "</div>"
      ],
      "text/plain": [
       "              home           winner          innings1         innings2  \\\n",
       "0           Durham           Durham   Nottinghamshire           Durham   \n",
       "1        Hampshire        Hampshire         Hampshire           Sussex   \n",
       "3           Surrey           Surrey         Middlesex           Surrey   \n",
       "4   Worcestershire   Worcestershire  Northamptonshire   Worcestershire   \n",
       "5  Gloucestershire  Gloucestershire    Worcestershire  Gloucestershire   \n",
       "\n",
       "   innings1_runs  innings2_runs  \n",
       "0          157.0          160.0  \n",
       "1          153.0          148.0  \n",
       "3          155.0          158.0  \n",
       "4          150.0          151.0  \n",
       "5          122.0          126.0  "
      ]
     },
     "execution_count": 56,
     "metadata": {},
     "output_type": "execute_result"
    }
   ],
   "source": [
    "df2.head()"
   ]
  },
  {
   "cell_type": "code",
   "execution_count": 57,
   "metadata": {
    "collapsed": false
   },
   "outputs": [],
   "source": [
    "# def fuc(dff):\n",
    "#     if dff== df2[\"home\"]:\n",
    "#         return df2[\"innings1_runs\"]\n",
    "#     else:\n",
    "#         return df2[\"innings2_runs\"]\n",
    "        \n",
    "    \n",
    "\n",
    "\n",
    "\n",
    "\n",
    "\n",
    "# df2[\"score\"]=df2[\"innings1\"].apply(lambda x: df2[\"innings1_runs\"] if x==df2[\"home\"].str else df2[\"innings2_runs\"])\n",
    "\n",
    "# frame[['b','c']].apply(lambda x: x['c'] if x['c']>0 else x['b'], axis=1)\n",
    "re=df2.copy()\n",
    "\n",
    "re[\"score\"]=re.apply(lambda x:x[\"innings1_runs\"] if x[\"home\"]==x[\"innings1\"] else x[\"innings2_runs\"],axis=1)"
   ]
  },
  {
   "cell_type": "code",
   "execution_count": 58,
   "metadata": {
    "collapsed": false
   },
   "outputs": [],
   "source": [
    "# frame = pd.DataFrame(np.random.randn(4, 3), columns=list('abc'))\n",
    "\n",
    "# frame"
   ]
  },
  {
   "cell_type": "code",
   "execution_count": 59,
   "metadata": {
    "collapsed": false
   },
   "outputs": [],
   "source": [
    "# frame[['b','c']].apply(lambda x: x['c'] if x['c']>0 else x['b'], axis=1)"
   ]
  },
  {
   "cell_type": "code",
   "execution_count": null,
   "metadata": {
    "collapsed": false
   },
   "outputs": [],
   "source": []
  },
  {
   "cell_type": "code",
   "execution_count": 65,
   "metadata": {
    "collapsed": false
   },
   "outputs": [
    {
     "data": {
      "text/html": [
       "<div>\n",
       "<table border=\"1\" class=\"dataframe\">\n",
       "  <thead>\n",
       "    <tr style=\"text-align: right;\">\n",
       "      <th></th>\n",
       "      <th>score</th>\n",
       "    </tr>\n",
       "    <tr>\n",
       "      <th>home</th>\n",
       "      <th></th>\n",
       "    </tr>\n",
       "  </thead>\n",
       "  <tbody>\n",
       "    <tr>\n",
       "      <th>Abahani Limited</th>\n",
       "      <td>172.000000</td>\n",
       "    </tr>\n",
       "    <tr>\n",
       "      <th>Abbottabad Falcons</th>\n",
       "      <td>139.454545</td>\n",
       "    </tr>\n",
       "    <tr>\n",
       "      <th>Abbottabad Region</th>\n",
       "      <td>182.666667</td>\n",
       "    </tr>\n",
       "    <tr>\n",
       "      <th>Abbottabad Rhinos</th>\n",
       "      <td>165.000000</td>\n",
       "    </tr>\n",
       "    <tr>\n",
       "      <th>Adelaide Strikers</th>\n",
       "      <td>163.111111</td>\n",
       "    </tr>\n",
       "  </tbody>\n",
       "</table>\n",
       "</div>"
      ],
      "text/plain": [
       "                         score\n",
       "home                          \n",
       "Abahani Limited     172.000000\n",
       "Abbottabad Falcons  139.454545\n",
       "Abbottabad Region   182.666667\n",
       "Abbottabad Rhinos   165.000000\n",
       "Adelaide Strikers   163.111111"
      ]
     },
     "execution_count": 65,
     "metadata": {},
     "output_type": "execute_result"
    }
   ],
   "source": [
    "re1=re[[\"home\",\"score\"]].groupby([\"home\"]).mean()\n",
    "re1.head()"
   ]
  },
  {
   "cell_type": "code",
   "execution_count": 66,
   "metadata": {
    "collapsed": true
   },
   "outputs": [],
   "source": [
    "re1.to_csv(\"Q3.csv\")"
   ]
  },
  {
   "cell_type": "code",
   "execution_count": null,
   "metadata": {
    "collapsed": true
   },
   "outputs": [],
   "source": []
  }
 ],
 "metadata": {
  "kernelspec": {
   "display_name": "Python [conda root]",
   "language": "python",
   "name": "conda-root-py"
  },
  "language_info": {
   "codemirror_mode": {
    "name": "ipython",
    "version": 3
   },
   "file_extension": ".py",
   "mimetype": "text/x-python",
   "name": "python",
   "nbconvert_exporter": "python",
   "pygments_lexer": "ipython3",
   "version": "3.5.2"
  }
 },
 "nbformat": 4,
 "nbformat_minor": 1
}
