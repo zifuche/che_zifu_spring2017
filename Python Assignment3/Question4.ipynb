{
 "cells": [
  {
   "cell_type": "code",
   "execution_count": 1,
   "metadata": {
    "collapsed": true
   },
   "outputs": [],
   "source": [
    "from pandas import Series, DataFrame\n",
    "import pandas as pd\n",
    "import os\n",
    "import numpy as np\n",
    "import datetime as dt\n",
    "import re"
   ]
  },
  {
   "cell_type": "code",
   "execution_count": 2,
   "metadata": {
    "collapsed": true
   },
   "outputs": [],
   "source": [
    "df = pd.read_csv(os.getcwd()+'/movies_awards.csv')"
   ]
  },
  {
   "cell_type": "code",
   "execution_count": 3,
   "metadata": {
    "collapsed": false
   },
   "outputs": [],
   "source": [
    "df1=df[[\"Awards\"]].query(\"Awards == Awards\")"
   ]
  },
  {
   "cell_type": "code",
   "execution_count": 4,
   "metadata": {
    "collapsed": false
   },
   "outputs": [
    {
     "data": {
      "text/plain": [
       "1818"
      ]
     },
     "execution_count": 4,
     "metadata": {},
     "output_type": "execute_result"
    }
   ],
   "source": [
    "len(df1)"
   ]
  },
  {
   "cell_type": "code",
   "execution_count": 5,
   "metadata": {
    "collapsed": false
   },
   "outputs": [],
   "source": [
    "qq=df1[\"Awards\"].tolist()                  #  only for get all different award names\n",
    "e=[]\n",
    "for q in qq:\n",
    "    q=q.replace(\".\",\"\")\n",
    "    q=q.replace(\"nominations\",\"nomination\")\n",
    "    q=q.replace(\"wins\",\"win\")\n",
    "#     q=q.replace(\"Nominated for\",\"nomination\")\n",
    "    q=q.replace(\"wins\",\"win\")\n",
    "    q=q.replace(\"Another\",\"&\")\n",
    "#     q=q.replace(\"Won\",\"win\")\n",
    "    q=q.replace(\"s \",\" \")\n",
    "    q=re.sub(r'\\d+', '',q)\n",
    "    q=q.replace(\" \",\"\")\n",
    "    e.append(q)"
   ]
  },
  {
   "cell_type": "code",
   "execution_count": 6,
   "metadata": {
    "collapsed": false
   },
   "outputs": [
    {
     "data": {
      "text/plain": [
       "{'NominatedforBAFTAFilmAward',\n",
       " 'NominatedforGoldenGlobe',\n",
       " 'NominatedforOscar',\n",
       " 'NominatedforPrimetimeEmmy',\n",
       " 'WonGoldenGlobe',\n",
       " 'WonOscar',\n",
       " 'WonPrimetimeEmmy',\n",
       " 'nomination',\n",
       " 'win'}"
      ]
     },
     "execution_count": 6,
     "metadata": {},
     "output_type": "execute_result"
    }
   ],
   "source": [
    "awardsname=[]\n",
    "for ee in e:\n",
    "    awardsname.extend(ee.split(\"&\"))\n",
    "set(awardsname)                             #print all awards"
   ]
  },
  {
   "cell_type": "code",
   "execution_count": 7,
   "metadata": {
    "collapsed": true
   },
   "outputs": [],
   "source": [
    "df2=df1.copy()\n",
    "# replace_values = {'nominations' : \"nomination\",\"wins\":\"win\",\"Nominated for\":\"nomination\",\"wins\":\"win\",\"Another\":\"&\",\n",
    "#                  \"Won\":\"win\",\"s \":\" \"} \n",
    "\n",
    "\n",
    "\n",
    "\n"
   ]
  },
  {
   "cell_type": "code",
   "execution_count": 8,
   "metadata": {
    "collapsed": false
   },
   "outputs": [],
   "source": [
    "\n",
    "df2[\"Nominated for Oscar\"]=df2[\"Awards\"].apply(lambda x:int(re.findall('Nominated for (\\d+) Oscar',x)[0]) if len(re.findall('Nominated for (\\d+) Oscar',x))!=0 else 0)\n",
    "\n",
    "df2[\"Nominated for Golden Globe\"]=df2[\"Awards\"].apply(lambda x:int(re.findall('Nominated for (\\d+) Golden Globe',x)[0]) if len(re.findall('Nominated for (\\d+) Golden Globe',x))!=0 else 0)\n",
    "\n",
    "\n",
    "df2[\"Nominated for Primetime Emmy\"]=df2[\"Awards\"].apply(lambda x:int(re.findall('Nominated for (\\d+) Primetime Emmy',x)[0]) if len(re.findall('Nominated for (\\d+) Primetime Emmy',x))!=0 else 0)\n",
    "\n",
    "df2[\"Nominated for BAFTA Film Awards\"]=df2[\"Awards\"].apply(lambda x:int(re.findall('Nominated for (\\d+) BAFTA Film',x)[0]) if len(re.findall('Nominated for (\\d+) BAFTA Film',x))!=0 else 0)\n",
    "\n",
    "df2[\"Won Golden Globe\"]=df2[\"Awards\"].apply(lambda x:int(re.findall('Won (\\d+) Golden Globe',x)[0]) if len(re.findall('Won (\\d+) Golden Globe',x))!=0 else 0)\n",
    "df2[\"Won Primetime Emmy\"]=df2[\"Awards\"].apply(lambda x:int(re.findall('Won (\\d+) Primetime Emmy',x)[0]) if len(re.findall('Won (\\d+) Primetime Emmy',x))!=0 else 0)\n",
    "df2[\"Won Oscar\"]=df2[\"Awards\"].apply(lambda x:int(re.findall('Won (\\d+) Oscar',x)[0]) if len(re.findall('Won (\\d+) Oscar',x))!=0 else 0)\n",
    "\n",
    "df2[\"Won BAFTA Film Awards\"]=df2[\"Awards\"].apply(lambda x:int(re.findall('Won (\\d+) BAFTA Film',x)[0]) if len(re.findall('Won (\\d+) BAFTA Film',x))!=0 else 0)"
   ]
  },
  {
   "cell_type": "code",
   "execution_count": 9,
   "metadata": {
    "collapsed": true
   },
   "outputs": [],
   "source": [
    "df2[\"win\"]=df2[\"Awards\"].apply(lambda x:int(re.findall(\"(\\d+) win\",x)[0]) if len(re.findall('(\\d+) win',x))!=0 else 0)+df2[\"Won Golden Globe\"]+df2[\"Won Primetime Emmy\"]+df2[\"Won Oscar\"]+df2[\"Won BAFTA Film Awards\"]\n",
    "df2[\"nomination\"]=df2[\"Awards\"].apply(lambda x:int(re.findall(\"(\\d+) nomination\",x)[0]) if len(re.findall('(\\d+) nomination',x))!=0 else 0)+df2[\"Nominated for Oscar\"]+df2[\"Nominated for Golden Globe\"]+df2[\"Nominated for Primetime Emmy\"]+df2[\"Nominated for BAFTA Film Awards\"]\n",
    "\n"
   ]
  },
  {
   "cell_type": "code",
   "execution_count": 23,
   "metadata": {
    "collapsed": false
   },
   "outputs": [
    {
     "data": {
      "text/html": [
       "<div>\n",
       "<table border=\"1\" class=\"dataframe\">\n",
       "  <thead>\n",
       "    <tr style=\"text-align: right;\">\n",
       "      <th></th>\n",
       "      <th>Awards</th>\n",
       "      <th>win</th>\n",
       "      <th>nomination</th>\n",
       "      <th>Nominated for Oscar</th>\n",
       "      <th>Nominated for Golden Globe</th>\n",
       "      <th>Nominated for Primetime Emmy</th>\n",
       "      <th>Nominated for BAFTA Film Awards</th>\n",
       "      <th>Won Golden Globe</th>\n",
       "      <th>Won Primetime Emmy</th>\n",
       "      <th>Won Oscar</th>\n",
       "      <th>Won BAFTA Film Awards</th>\n",
       "    </tr>\n",
       "  </thead>\n",
       "  <tbody>\n",
       "    <tr>\n",
       "      <th>3</th>\n",
       "      <td>1 win &amp; 2 nominations.</td>\n",
       "      <td>1</td>\n",
       "      <td>2</td>\n",
       "      <td>0</td>\n",
       "      <td>0</td>\n",
       "      <td>0</td>\n",
       "      <td>0</td>\n",
       "      <td>0</td>\n",
       "      <td>0</td>\n",
       "      <td>0</td>\n",
       "      <td>0</td>\n",
       "    </tr>\n",
       "    <tr>\n",
       "      <th>4</th>\n",
       "      <td>1 win.</td>\n",
       "      <td>1</td>\n",
       "      <td>0</td>\n",
       "      <td>0</td>\n",
       "      <td>0</td>\n",
       "      <td>0</td>\n",
       "      <td>0</td>\n",
       "      <td>0</td>\n",
       "      <td>0</td>\n",
       "      <td>0</td>\n",
       "      <td>0</td>\n",
       "    </tr>\n",
       "    <tr>\n",
       "      <th>5</th>\n",
       "      <td>1 nomination.</td>\n",
       "      <td>0</td>\n",
       "      <td>1</td>\n",
       "      <td>0</td>\n",
       "      <td>0</td>\n",
       "      <td>0</td>\n",
       "      <td>0</td>\n",
       "      <td>0</td>\n",
       "      <td>0</td>\n",
       "      <td>0</td>\n",
       "      <td>0</td>\n",
       "    </tr>\n",
       "    <tr>\n",
       "      <th>6</th>\n",
       "      <td>3 wins &amp; 2 nominations.</td>\n",
       "      <td>3</td>\n",
       "      <td>2</td>\n",
       "      <td>0</td>\n",
       "      <td>0</td>\n",
       "      <td>0</td>\n",
       "      <td>0</td>\n",
       "      <td>0</td>\n",
       "      <td>0</td>\n",
       "      <td>0</td>\n",
       "      <td>0</td>\n",
       "    </tr>\n",
       "    <tr>\n",
       "      <th>7</th>\n",
       "      <td>1 win &amp; 1 nomination.</td>\n",
       "      <td>1</td>\n",
       "      <td>1</td>\n",
       "      <td>0</td>\n",
       "      <td>0</td>\n",
       "      <td>0</td>\n",
       "      <td>0</td>\n",
       "      <td>0</td>\n",
       "      <td>0</td>\n",
       "      <td>0</td>\n",
       "      <td>0</td>\n",
       "    </tr>\n",
       "  </tbody>\n",
       "</table>\n",
       "</div>"
      ],
      "text/plain": [
       "                    Awards  win  nomination  Nominated for Oscar  \\\n",
       "3   1 win & 2 nominations.    1           2                    0   \n",
       "4                   1 win.    1           0                    0   \n",
       "5            1 nomination.    0           1                    0   \n",
       "6  3 wins & 2 nominations.    3           2                    0   \n",
       "7    1 win & 1 nomination.    1           1                    0   \n",
       "\n",
       "   Nominated for Golden Globe  Nominated for Primetime Emmy  \\\n",
       "3                           0                             0   \n",
       "4                           0                             0   \n",
       "5                           0                             0   \n",
       "6                           0                             0   \n",
       "7                           0                             0   \n",
       "\n",
       "   Nominated for BAFTA Film Awards  Won Golden Globe  Won Primetime Emmy  \\\n",
       "3                                0                 0                   0   \n",
       "4                                0                 0                   0   \n",
       "5                                0                 0                   0   \n",
       "6                                0                 0                   0   \n",
       "7                                0                 0                   0   \n",
       "\n",
       "   Won Oscar  Won BAFTA Film Awards  \n",
       "3          0                      0  \n",
       "4          0                      0  \n",
       "5          0                      0  \n",
       "6          0                      0  \n",
       "7          0                      0  "
      ]
     },
     "execution_count": 23,
     "metadata": {},
     "output_type": "execute_result"
    }
   ],
   "source": [
    "\n",
    "df2=df2[[\"Awards\",\"win\",\"nomination\",\"Nominated for Oscar\",\"Nominated for Golden Globe\",\"Nominated for Primetime Emmy\",\"Nominated for BAFTA Film Awards\",\"Won Golden Globe\",\"Won Primetime Emmy\",\"Won Oscar\",\"Won BAFTA Film Awards\"]]\n",
    "df2.head()"
   ]
  },
  {
   "cell_type": "code",
   "execution_count": 11,
   "metadata": {
    "collapsed": false
   },
   "outputs": [],
   "source": [
    "df2.to_csv(\"Q4.csv\",index=False)"
   ]
  },
  {
   "cell_type": "code",
   "execution_count": 12,
   "metadata": {
    "collapsed": false
   },
   "outputs": [],
   "source": [
    "# df2=df2.replace({\"Awards\":replace_values},regex=True)\n",
    "# df2.head()  Nominated for 3 BAFTA Film Awards\n",
    "\n",
    "\n",
    "# e=[]\n",
    "# for q in qq:\n",
    "#     q=q.replace(\".\",\"\")\n",
    "#     q=q.replace(\"nominations\",\"nomination\")\n",
    "#     q=q.replace(\"wins\",\"win\")\n",
    "# #     q=q.replace(\"Nominated for\",\"nomination\")\n",
    "#     q=q.replace(\"wins\",\"win\")\n",
    "#     q=q.replace(\"Another\",\"&\")\n",
    "# #     q=q.replace(\"Won\",\"win\")\n",
    "#     q=q.replace(\"s \",\" \")\n",
    "#     q=re.sub(r'\\d+', '',q)\n",
    "#     q=q.replace(\" \",\"\")\n",
    "#     e.append(q)\n",
    "\n",
    "    \n",
    "\n",
    "#     \\d+"
   ]
  },
  {
   "cell_type": "code",
   "execution_count": 13,
   "metadata": {
    "collapsed": false
   },
   "outputs": [],
   "source": [
    "# awardsname=[]\n",
    "# for ee in e:\n",
    "#     awardsname.extend(ee.split(\"&\"))\n",
    "    "
   ]
  },
  {
   "cell_type": "code",
   "execution_count": 14,
   "metadata": {
    "collapsed": false
   },
   "outputs": [],
   "source": [
    "# set(awardsname)      #get all awards name"
   ]
  },
  {
   "cell_type": "code",
   "execution_count": 15,
   "metadata": {
    "collapsed": false
   },
   "outputs": [],
   "source": [
    "# e1=[]\n",
    "# for q in qq:\n",
    "#     q=q.replace(\".\",\"\")\n",
    "#     q=q.replace(\"nominations\",\"nomination\")\n",
    "#     q=q.replace(\"wins\",\"win\")\n",
    "# #     q=q.replace(\"Nominated for\",\"nomination\")\n",
    "#     q=q.replace(\"wins\",\"win\")\n",
    "#     q=q.replace(\"Another\",\"&\")\n",
    "# #     q=q.replace(\"Won\",\"win\")\n",
    "#     q=q.replace(\"s \",\" \")\n",
    "#     q=q.replace(\" \",\"\")\n",
    "#     e1.append(q.split(\"&\"))"
   ]
  },
  {
   "cell_type": "code",
   "execution_count": 16,
   "metadata": {
    "collapsed": true
   },
   "outputs": [],
   "source": [
    "# df2[\"award_clean\"]=e1\n",
    "# df2[\"win\"]=\"win\"\n",
    "# df2[\"nomination\"]=\"nomination\"\n",
    "# df2[\"WonPrimetimeEmmy\"]=\"WonPrimetimeEmmy\"\n",
    "# df2[\"WonOscar\"]=\"WonOscar\"\n",
    "# df2[\"WonGoldenGlobe\"]=\"WonGoldenGlobe\"\n",
    "# df2[\"NominatedforPrimetimeEmmy\"]=\"NominatedforPrimetimeEmmy\"\n",
    "# df2[\"NominatedforOscar\"]=\"NominatedforOscar\"\n",
    "# df2[\"NominatedforGoldenGlobe\"]=\"NominatedforGoldenGlobe\"\n",
    "# df2[\"NominatedforBAFTAFilmAward\"]=\"NominatedforBAFTAFilmAward\""
   ]
  },
  {
   "cell_type": "code",
   "execution_count": 17,
   "metadata": {
    "collapsed": false
   },
   "outputs": [],
   "source": [
    "# def calculate(x):\n",
    "#     for ex in x:\n",
    "#         num=re.findall('\\d+', ex)\n",
    "#         name=re.sub(r'\\d+','',ex)\n",
    "#         if df2[name]==name:\n",
    "#             df2[name]=num\n",
    "#         else:\n",
    "#             df2[name]=0\n",
    "        \n",
    "# type(df2[\"Awards\"])     \n",
    "# df.set_value('C', 'x', 10)"
   ]
  },
  {
   "cell_type": "code",
   "execution_count": 18,
   "metadata": {
    "collapsed": true
   },
   "outputs": [],
   "source": [
    "# result={\"Uniquekey\":[0], \"Awards\":[\"awards\"],\"win\":[\"win\"],\"nomination\":[\"nomination\"],\n",
    "#         \"WonPrimetimeEmmy\":[\"WonPrimetimeEmmy\"],\"WonOscar\":[\"WonOscar\"],\"NominatedforPrimetimeEmmy\":[\"NominatedforPrimetimeEmmy\"],\n",
    "#         \"NominatedforOscar\":[\"NominatedforOscar\"],\"NominatedforGoldenGlobe\":[\"NominatedforGoldenGlobe\"],\n",
    "#         \"WonGoldenGlobe\":[\"WonGoldenGlobe\"],\"NominatedforBAFTAFilmAward\":[\"NominatedforBAFTAFilmAward\"],}\n",
    "            \n",
    "    \n",
    "# result=DataFrame(result) "
   ]
  },
  {
   "cell_type": "code",
   "execution_count": 19,
   "metadata": {
    "collapsed": false
   },
   "outputs": [],
   "source": [
    "# count=0\n",
    "# for awards in df2[\"award_clean\"]:\n",
    "#     sent_str=\"\"\n",
    "#     for alle in awards:\n",
    "#         sent_str+=str(alle)+\"&\"        \n",
    "#     count=count+1\n",
    "#     for ex in awards:\n",
    "#         num=int(re.findall('\\d+', ex)[0])\n",
    "#         name=re.sub(r'\\d+','',ex)\n",
    "#         data={\"Uniquekey\":[count],\"Awards\":[sent_str],name:num}\n",
    "#         ff=DataFrame(data)\n",
    "#         result=pd.concat([result,ff])\n",
    "\n",
    "    "
   ]
  },
  {
   "cell_type": "code",
   "execution_count": 20,
   "metadata": {
    "collapsed": false
   },
   "outputs": [],
   "source": [
    "# r1=result.groupby([\"Awards\",\"Uniquekey\"]).sum().reset_index()"
   ]
  },
  {
   "cell_type": "code",
   "execution_count": 21,
   "metadata": {
    "collapsed": false
   },
   "outputs": [],
   "source": [
    "# r2=r1.sort_values(by=[\"Uniquekey\"],ascending=[True])\n",
    "# r2=r2.drop(r2[r2[\"Uniquekey\"]==0].index)\n",
    "# r2=r2.fillna(0)\n",
    "# r2=r2[[\"Awards\",\"win\",\"nomination\",\"WonPrimetimeEmmy\",\"WonOscar\",\"WonGoldenGlobe\",\"NominatedforPrimetimeEmmy\",\"NominatedforOscar\",\"NominatedforGoldenGlobe\",\"NominatedforBAFTAFilmAward\"]]\n",
    "# r2.head()"
   ]
  },
  {
   "cell_type": "code",
   "execution_count": 22,
   "metadata": {
    "collapsed": false
   },
   "outputs": [],
   "source": [
    "# result.apply(lambda x: x if not np.nan else -1)\n",
    "# result\n",
    "# r2[\"win\"]=r2[\"win\"]+r2[\"WonPrimetimeEmmy\"]+r2[\"WonOscar\"]+r2[\"WonGoldenGlobe\"]\n",
    "# r2[\"nomination\"]=r2[\"nomination\"]+r2[\"NominatedforPrimetimeEmmy\"]+r2[\"NominatedforOscar\"]+r2[\"NominatedforBAFTAFilmAward\"]+r2[\"NominatedforGoldenGlobe\"]\n"
   ]
  }
 ],
 "metadata": {
  "anaconda-cloud": {},
  "kernelspec": {
   "display_name": "Python [conda root]",
   "language": "python",
   "name": "conda-root-py"
  },
  "language_info": {
   "codemirror_mode": {
    "name": "ipython",
    "version": 3
   },
   "file_extension": ".py",
   "mimetype": "text/x-python",
   "name": "python",
   "nbconvert_exporter": "python",
   "pygments_lexer": "ipython3",
   "version": "3.5.2"
  }
 },
 "nbformat": 4,
 "nbformat_minor": 1
}
