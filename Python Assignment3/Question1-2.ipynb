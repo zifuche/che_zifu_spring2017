{
 "cells": [
  {
   "cell_type": "markdown",
   "metadata": {},
   "source": []
  },
  {
   "cell_type": "code",
   "execution_count": 1,
   "metadata": {
    "collapsed": true
   },
   "outputs": [],
   "source": [
    "from pandas import Series, DataFrame\n",
    "import pandas as pd\n",
    "import os\n",
    "import numpy as np\n",
    "import datetime as dt"
   ]
  },
  {
   "cell_type": "code",
   "execution_count": 2,
   "metadata": {
    "collapsed": true
   },
   "outputs": [],
   "source": [
    "df = pd.read_csv(os.getcwd()+'/vehicle_collisions.csv')\n"
   ]
  },
  {
   "cell_type": "code",
   "execution_count": 3,
   "metadata": {
    "collapsed": false
   },
   "outputs": [
    {
     "data": {
      "text/html": [
       "<div>\n",
       "<table border=\"1\" class=\"dataframe\">\n",
       "  <thead>\n",
       "    <tr style=\"text-align: right;\">\n",
       "      <th></th>\n",
       "      <th>UNIQUE KEY</th>\n",
       "      <th>DATE</th>\n",
       "      <th>TIME</th>\n",
       "      <th>BOROUGH</th>\n",
       "      <th>ZIP CODE</th>\n",
       "      <th>LATITUDE</th>\n",
       "      <th>LONGITUDE</th>\n",
       "      <th>LOCATION</th>\n",
       "      <th>ON STREET NAME</th>\n",
       "      <th>CROSS STREET NAME</th>\n",
       "      <th>...</th>\n",
       "      <th>VEHICLE 1 TYPE</th>\n",
       "      <th>VEHICLE 2 TYPE</th>\n",
       "      <th>VEHICLE 3 TYPE</th>\n",
       "      <th>VEHICLE 4 TYPE</th>\n",
       "      <th>VEHICLE 5 TYPE</th>\n",
       "      <th>VEHICLE 1 FACTOR</th>\n",
       "      <th>VEHICLE 2 FACTOR</th>\n",
       "      <th>VEHICLE 3 FACTOR</th>\n",
       "      <th>VEHICLE 4 FACTOR</th>\n",
       "      <th>VEHICLE 5 FACTOR</th>\n",
       "    </tr>\n",
       "  </thead>\n",
       "  <tbody>\n",
       "    <tr>\n",
       "      <th>0</th>\n",
       "      <td>3146911</td>\n",
       "      <td>1/1/15</td>\n",
       "      <td>0:20</td>\n",
       "      <td>QUEENS</td>\n",
       "      <td>11358.0</td>\n",
       "      <td>40.751847</td>\n",
       "      <td>-73.787862</td>\n",
       "      <td>(40.7518471, -73.787862)</td>\n",
       "      <td>47 AVENUE</td>\n",
       "      <td>193 STREET</td>\n",
       "      <td>...</td>\n",
       "      <td>SPORT UTILITY/STATION WAGON</td>\n",
       "      <td>NaN</td>\n",
       "      <td>NaN</td>\n",
       "      <td>NaN</td>\n",
       "      <td>NaN</td>\n",
       "      <td>TRAFFIC CONTROL DISREGARDED</td>\n",
       "      <td>NaN</td>\n",
       "      <td>NaN</td>\n",
       "      <td>NaN</td>\n",
       "      <td>NaN</td>\n",
       "    </tr>\n",
       "    <tr>\n",
       "      <th>1</th>\n",
       "      <td>3146180</td>\n",
       "      <td>1/1/15</td>\n",
       "      <td>0:20</td>\n",
       "      <td>NaN</td>\n",
       "      <td>NaN</td>\n",
       "      <td>40.771289</td>\n",
       "      <td>-73.946693</td>\n",
       "      <td>(40.7712888, -73.9466928)</td>\n",
       "      <td>NaN</td>\n",
       "      <td>NaN</td>\n",
       "      <td>...</td>\n",
       "      <td>PASSENGER VEHICLE</td>\n",
       "      <td>NaN</td>\n",
       "      <td>NaN</td>\n",
       "      <td>NaN</td>\n",
       "      <td>NaN</td>\n",
       "      <td>ANIMALS ACTION</td>\n",
       "      <td>NaN</td>\n",
       "      <td>NaN</td>\n",
       "      <td>NaN</td>\n",
       "      <td>NaN</td>\n",
       "    </tr>\n",
       "    <tr>\n",
       "      <th>2</th>\n",
       "      <td>3146384</td>\n",
       "      <td>1/1/15</td>\n",
       "      <td>0:21</td>\n",
       "      <td>BROOKLYN</td>\n",
       "      <td>11205.0</td>\n",
       "      <td>40.689445</td>\n",
       "      <td>-73.955121</td>\n",
       "      <td>(40.6894449, -73.9551212)</td>\n",
       "      <td>BEDFORD AVENUE</td>\n",
       "      <td>LAFAYETTE AVENUE</td>\n",
       "      <td>...</td>\n",
       "      <td>PASSENGER VEHICLE</td>\n",
       "      <td>UNKNOWN</td>\n",
       "      <td>NaN</td>\n",
       "      <td>NaN</td>\n",
       "      <td>NaN</td>\n",
       "      <td>FATIGUED/DROWSY</td>\n",
       "      <td>UNSPECIFIED</td>\n",
       "      <td>NaN</td>\n",
       "      <td>NaN</td>\n",
       "      <td>NaN</td>\n",
       "    </tr>\n",
       "    <tr>\n",
       "      <th>3</th>\n",
       "      <td>3146013</td>\n",
       "      <td>1/1/15</td>\n",
       "      <td>0:30</td>\n",
       "      <td>BROOKLYN</td>\n",
       "      <td>11213.0</td>\n",
       "      <td>40.673845</td>\n",
       "      <td>-73.925080</td>\n",
       "      <td>(40.6738445, -73.9250801)</td>\n",
       "      <td>BUFFALO AVENUE</td>\n",
       "      <td>SAINT MARKS AVENUE</td>\n",
       "      <td>...</td>\n",
       "      <td>BUS</td>\n",
       "      <td>PASSENGER VEHICLE</td>\n",
       "      <td>NaN</td>\n",
       "      <td>NaN</td>\n",
       "      <td>NaN</td>\n",
       "      <td>LOST CONSCIOUSNESS</td>\n",
       "      <td>NaN</td>\n",
       "      <td>NaN</td>\n",
       "      <td>NaN</td>\n",
       "      <td>NaN</td>\n",
       "    </tr>\n",
       "    <tr>\n",
       "      <th>4</th>\n",
       "      <td>3146120</td>\n",
       "      <td>1/1/15</td>\n",
       "      <td>0:33</td>\n",
       "      <td>NaN</td>\n",
       "      <td>NaN</td>\n",
       "      <td>NaN</td>\n",
       "      <td>NaN</td>\n",
       "      <td>NaN</td>\n",
       "      <td>RICHMOND TERRACE</td>\n",
       "      <td>SOUTH AVENUE</td>\n",
       "      <td>...</td>\n",
       "      <td>UNKNOWN</td>\n",
       "      <td>PASSENGER VEHICLE</td>\n",
       "      <td>NaN</td>\n",
       "      <td>NaN</td>\n",
       "      <td>NaN</td>\n",
       "      <td>UNSPECIFIED</td>\n",
       "      <td>UNSPECIFIED</td>\n",
       "      <td>NaN</td>\n",
       "      <td>NaN</td>\n",
       "      <td>NaN</td>\n",
       "    </tr>\n",
       "  </tbody>\n",
       "</table>\n",
       "<p>5 rows × 29 columns</p>\n",
       "</div>"
      ],
      "text/plain": [
       "   UNIQUE KEY    DATE  TIME   BOROUGH  ZIP CODE   LATITUDE  LONGITUDE  \\\n",
       "0     3146911  1/1/15  0:20    QUEENS   11358.0  40.751847 -73.787862   \n",
       "1     3146180  1/1/15  0:20       NaN       NaN  40.771289 -73.946693   \n",
       "2     3146384  1/1/15  0:21  BROOKLYN   11205.0  40.689445 -73.955121   \n",
       "3     3146013  1/1/15  0:30  BROOKLYN   11213.0  40.673845 -73.925080   \n",
       "4     3146120  1/1/15  0:33       NaN       NaN        NaN        NaN   \n",
       "\n",
       "                    LOCATION    ON STREET NAME   CROSS STREET NAME  \\\n",
       "0   (40.7518471, -73.787862)         47 AVENUE          193 STREET   \n",
       "1  (40.7712888, -73.9466928)               NaN                 NaN   \n",
       "2  (40.6894449, -73.9551212)    BEDFORD AVENUE    LAFAYETTE AVENUE   \n",
       "3  (40.6738445, -73.9250801)    BUFFALO AVENUE  SAINT MARKS AVENUE   \n",
       "4                        NaN  RICHMOND TERRACE        SOUTH AVENUE   \n",
       "\n",
       "        ...                      VEHICLE 1 TYPE     VEHICLE 2 TYPE  \\\n",
       "0       ...         SPORT UTILITY/STATION WAGON                NaN   \n",
       "1       ...                   PASSENGER VEHICLE                NaN   \n",
       "2       ...                   PASSENGER VEHICLE            UNKNOWN   \n",
       "3       ...                                 BUS  PASSENGER VEHICLE   \n",
       "4       ...                             UNKNOWN  PASSENGER VEHICLE   \n",
       "\n",
       "   VEHICLE 3 TYPE  VEHICLE 4 TYPE  VEHICLE 5 TYPE  \\\n",
       "0             NaN             NaN             NaN   \n",
       "1             NaN             NaN             NaN   \n",
       "2             NaN             NaN             NaN   \n",
       "3             NaN             NaN             NaN   \n",
       "4             NaN             NaN             NaN   \n",
       "\n",
       "              VEHICLE 1 FACTOR  VEHICLE 2 FACTOR  VEHICLE 3 FACTOR  \\\n",
       "0  TRAFFIC CONTROL DISREGARDED               NaN               NaN   \n",
       "1               ANIMALS ACTION               NaN               NaN   \n",
       "2              FATIGUED/DROWSY       UNSPECIFIED               NaN   \n",
       "3           LOST CONSCIOUSNESS               NaN               NaN   \n",
       "4                  UNSPECIFIED       UNSPECIFIED               NaN   \n",
       "\n",
       "   VEHICLE 4 FACTOR VEHICLE 5 FACTOR  \n",
       "0               NaN              NaN  \n",
       "1               NaN              NaN  \n",
       "2               NaN              NaN  \n",
       "3               NaN              NaN  \n",
       "4               NaN              NaN  \n",
       "\n",
       "[5 rows x 29 columns]"
      ]
     },
     "execution_count": 3,
     "metadata": {},
     "output_type": "execute_result"
    }
   ],
   "source": [
    "df.head()"
   ]
  },
  {
   "cell_type": "code",
   "execution_count": null,
   "metadata": {
    "collapsed": false
   },
   "outputs": [],
   "source": []
  },
  {
   "cell_type": "code",
   "execution_count": 9,
   "metadata": {
    "collapsed": false
   },
   "outputs": [
    {
     "data": {
      "text/plain": [
       "array(['QUEENS', nan, 'BROOKLYN', 'MANHATTAN', 'BRONX', 'STATEN ISLAND'], dtype=object)"
      ]
     },
     "execution_count": 9,
     "metadata": {},
     "output_type": "execute_result"
    }
   ],
   "source": [
    "df.BOROUGH.unique()"
   ]
  },
  {
   "cell_type": "code",
   "execution_count": 11,
   "metadata": {
    "collapsed": false
   },
   "outputs": [],
   "source": [
    "df2=df[[\"BOROUGH\",\"VEHICLE 1 TYPE\",\"VEHICLE 2 TYPE\",\"VEHICLE 3 TYPE\",\"VEHICLE 4 TYPE\",\"VEHICLE 5 TYPE\"]]"
   ]
  },
  {
   "cell_type": "code",
   "execution_count": 68,
   "metadata": {
    "collapsed": false
   },
   "outputs": [
    {
     "data": {
      "text/html": [
       "<div>\n",
       "<table border=\"1\" class=\"dataframe\">\n",
       "  <thead>\n",
       "    <tr style=\"text-align: right;\">\n",
       "      <th></th>\n",
       "      <th>BOROUGH</th>\n",
       "      <th>VEHICLE 1 TYPE</th>\n",
       "      <th>VEHICLE 2 TYPE</th>\n",
       "      <th>VEHICLE 3 TYPE</th>\n",
       "      <th>VEHICLE 4 TYPE</th>\n",
       "      <th>VEHICLE 5 TYPE</th>\n",
       "    </tr>\n",
       "  </thead>\n",
       "  <tbody>\n",
       "    <tr>\n",
       "      <th>0</th>\n",
       "      <td>QUEENS</td>\n",
       "      <td>SPORT UTILITY/STATION WAGON</td>\n",
       "      <td>NaN</td>\n",
       "      <td>NaN</td>\n",
       "      <td>NaN</td>\n",
       "      <td>NaN</td>\n",
       "    </tr>\n",
       "    <tr>\n",
       "      <th>1</th>\n",
       "      <td>NaN</td>\n",
       "      <td>PASSENGER VEHICLE</td>\n",
       "      <td>NaN</td>\n",
       "      <td>NaN</td>\n",
       "      <td>NaN</td>\n",
       "      <td>NaN</td>\n",
       "    </tr>\n",
       "    <tr>\n",
       "      <th>2</th>\n",
       "      <td>BROOKLYN</td>\n",
       "      <td>PASSENGER VEHICLE</td>\n",
       "      <td>UNKNOWN</td>\n",
       "      <td>NaN</td>\n",
       "      <td>NaN</td>\n",
       "      <td>NaN</td>\n",
       "    </tr>\n",
       "    <tr>\n",
       "      <th>3</th>\n",
       "      <td>BROOKLYN</td>\n",
       "      <td>BUS</td>\n",
       "      <td>PASSENGER VEHICLE</td>\n",
       "      <td>NaN</td>\n",
       "      <td>NaN</td>\n",
       "      <td>NaN</td>\n",
       "    </tr>\n",
       "    <tr>\n",
       "      <th>4</th>\n",
       "      <td>NaN</td>\n",
       "      <td>UNKNOWN</td>\n",
       "      <td>PASSENGER VEHICLE</td>\n",
       "      <td>NaN</td>\n",
       "      <td>NaN</td>\n",
       "      <td>NaN</td>\n",
       "    </tr>\n",
       "  </tbody>\n",
       "</table>\n",
       "</div>"
      ],
      "text/plain": [
       "    BOROUGH               VEHICLE 1 TYPE     VEHICLE 2 TYPE VEHICLE 3 TYPE  \\\n",
       "0    QUEENS  SPORT UTILITY/STATION WAGON                NaN            NaN   \n",
       "1       NaN            PASSENGER VEHICLE                NaN            NaN   \n",
       "2  BROOKLYN            PASSENGER VEHICLE            UNKNOWN            NaN   \n",
       "3  BROOKLYN                          BUS  PASSENGER VEHICLE            NaN   \n",
       "4       NaN                      UNKNOWN  PASSENGER VEHICLE            NaN   \n",
       "\n",
       "  VEHICLE 4 TYPE VEHICLE 5 TYPE  \n",
       "0            NaN            NaN  \n",
       "1            NaN            NaN  \n",
       "2            NaN            NaN  \n",
       "3            NaN            NaN  \n",
       "4            NaN            NaN  "
      ]
     },
     "execution_count": 68,
     "metadata": {},
     "output_type": "execute_result"
    }
   ],
   "source": [
    "df2.head()"
   ]
  },
  {
   "cell_type": "code",
   "execution_count": 69,
   "metadata": {
    "collapsed": false
   },
   "outputs": [],
   "source": [
    "df3=df2[df2[\"VEHICLE 4 TYPE\"].isnull() & (df2[\"BOROUGH\"]==\"QUEENS\")&df2[\"VEHICLE 3 TYPE\"].notnull()]"
   ]
  },
  {
   "cell_type": "code",
   "execution_count": 59,
   "metadata": {
    "collapsed": false
   },
   "outputs": [
    {
     "data": {
      "text/html": [
       "<div>\n",
       "<table border=\"1\" class=\"dataframe\">\n",
       "  <thead>\n",
       "    <tr style=\"text-align: right;\">\n",
       "      <th></th>\n",
       "      <th>BOROUGH</th>\n",
       "      <th>VEHICLE 1 TYPE</th>\n",
       "      <th>VEHICLE 2 TYPE</th>\n",
       "      <th>VEHICLE 3 TYPE</th>\n",
       "      <th>VEHICLE 4 TYPE</th>\n",
       "      <th>VEHICLE 5 TYPE</th>\n",
       "    </tr>\n",
       "  </thead>\n",
       "  <tbody>\n",
       "    <tr>\n",
       "      <th>6</th>\n",
       "      <td>QUEENS</td>\n",
       "      <td>PASSENGER VEHICLE</td>\n",
       "      <td>PASSENGER VEHICLE</td>\n",
       "      <td>SPORT UTILITY/STATION WAGON</td>\n",
       "      <td>NaN</td>\n",
       "      <td>NaN</td>\n",
       "    </tr>\n",
       "    <tr>\n",
       "      <th>60</th>\n",
       "      <td>QUEENS</td>\n",
       "      <td>PASSENGER VEHICLE</td>\n",
       "      <td>PASSENGER VEHICLE</td>\n",
       "      <td>PASSENGER VEHICLE</td>\n",
       "      <td>NaN</td>\n",
       "      <td>NaN</td>\n",
       "    </tr>\n",
       "    <tr>\n",
       "      <th>103</th>\n",
       "      <td>QUEENS</td>\n",
       "      <td>SPORT UTILITY/STATION WAGON</td>\n",
       "      <td>SPORT UTILITY/STATION WAGON</td>\n",
       "      <td>SPORT UTILITY/STATION WAGON</td>\n",
       "      <td>NaN</td>\n",
       "      <td>NaN</td>\n",
       "    </tr>\n",
       "    <tr>\n",
       "      <th>190</th>\n",
       "      <td>QUEENS</td>\n",
       "      <td>SPORT UTILITY/STATION WAGON</td>\n",
       "      <td>PASSENGER VEHICLE</td>\n",
       "      <td>PASSENGER VEHICLE</td>\n",
       "      <td>NaN</td>\n",
       "      <td>NaN</td>\n",
       "    </tr>\n",
       "    <tr>\n",
       "      <th>191</th>\n",
       "      <td>QUEENS</td>\n",
       "      <td>UNKNOWN</td>\n",
       "      <td>SPORT UTILITY/STATION WAGON</td>\n",
       "      <td>SPORT UTILITY/STATION WAGON</td>\n",
       "      <td>NaN</td>\n",
       "      <td>NaN</td>\n",
       "    </tr>\n",
       "  </tbody>\n",
       "</table>\n",
       "</div>"
      ],
      "text/plain": [
       "    BOROUGH               VEHICLE 1 TYPE               VEHICLE 2 TYPE  \\\n",
       "6    QUEENS            PASSENGER VEHICLE            PASSENGER VEHICLE   \n",
       "60   QUEENS            PASSENGER VEHICLE            PASSENGER VEHICLE   \n",
       "103  QUEENS  SPORT UTILITY/STATION WAGON  SPORT UTILITY/STATION WAGON   \n",
       "190  QUEENS  SPORT UTILITY/STATION WAGON            PASSENGER VEHICLE   \n",
       "191  QUEENS                      UNKNOWN  SPORT UTILITY/STATION WAGON   \n",
       "\n",
       "                  VEHICLE 3 TYPE VEHICLE 4 TYPE VEHICLE 5 TYPE  \n",
       "6    SPORT UTILITY/STATION WAGON            NaN            NaN  \n",
       "60             PASSENGER VEHICLE            NaN            NaN  \n",
       "103  SPORT UTILITY/STATION WAGON            NaN            NaN  \n",
       "190            PASSENGER VEHICLE            NaN            NaN  \n",
       "191  SPORT UTILITY/STATION WAGON            NaN            NaN  "
      ]
     },
     "execution_count": 59,
     "metadata": {},
     "output_type": "execute_result"
    }
   ],
   "source": [
    "df3.head()"
   ]
  },
  {
   "cell_type": "code",
   "execution_count": 66,
   "metadata": {
    "collapsed": true
   },
   "outputs": [],
   "source": [
    "df3=df2[df2[\"VEHICLE 4 TYPE\"].notnull() & (df2[\"BOROUGH\"]==\"QUEENS\")]"
   ]
  },
  {
   "cell_type": "code",
   "execution_count": 32,
   "metadata": {
    "collapsed": false
   },
   "outputs": [],
   "source": [
    "# DataFrame(data, columns=['year', 'state', 'pop'])"
   ]
  },
  {
   "cell_type": "code",
   "execution_count": 70,
   "metadata": {
    "collapsed": false
   },
   "outputs": [
    {
     "data": {
      "text/plain": [
       "4498"
      ]
     },
     "execution_count": 70,
     "metadata": {},
     "output_type": "execute_result"
    }
   ],
   "source": [
    "len(df3)"
   ]
  },
  {
   "cell_type": "code",
   "execution_count": 113,
   "metadata": {
    "collapsed": true
   },
   "outputs": [],
   "source": [
    "def Cal(B):\n",
    "    t1=df2[df2[\"VEHICLE 2 TYPE\"].isnull() & (df2[\"BOROUGH\"]==B)&df2[\"VEHICLE 1 TYPE\"].notnull()]\n",
    "    t2=df2[df2[\"VEHICLE 3 TYPE\"].isnull() & (df2[\"BOROUGH\"]==B)&df2[\"VEHICLE 2 TYPE\"].notnull()]\n",
    "    t3=df2[df2[\"VEHICLE 4 TYPE\"].isnull() & (df2[\"BOROUGH\"]==B)&df2[\"VEHICLE 3 TYPE\"].notnull()]\n",
    "    t4=df2[df2[\"VEHICLE 4 TYPE\"].notnull() & (df2[\"BOROUGH\"]==B)]\n",
    "    data={\"BOROUGH\":[B],\"ONE V\":[len(t1)],\"TWO V\":[len(t2)],\"THREE V\":[len(t3)],\"MORE V\":[len(t4)]}\n",
    "    return DataFrame(data,columns=[\"BOROUGH\",\"ONE V\",\"TWO V\",\"THREE V\",\"MORE V\"])\n",
    "    "
   ]
  },
  {
   "cell_type": "code",
   "execution_count": 114,
   "metadata": {
    "collapsed": false
   },
   "outputs": [],
   "source": [
    "\n",
    "blist=['QUEENS','BROOKLYN','MANHATTAN','BRONX','STATEN ISLAND']"
   ]
  },
  {
   "cell_type": "code",
   "execution_count": 115,
   "metadata": {
    "collapsed": false
   },
   "outputs": [],
   "source": [
    "t1=df2[df2[\"VEHICLE 2 TYPE\"].isnull() & (df2[\"BOROUGH\"].isnull())&df2[\"VEHICLE 1 TYPE\"].notnull()]\n",
    "t2=df2[df2[\"VEHICLE 3 TYPE\"].isnull() & (df2[\"BOROUGH\"].isnull())&df2[\"VEHICLE 2 TYPE\"].notnull()]\n",
    "t3=df2[df2[\"VEHICLE 4 TYPE\"].isnull() & (df2[\"BOROUGH\"].isnull())&df2[\"VEHICLE 3 TYPE\"].notnull()]\n",
    "t4=df2[df2[\"VEHICLE 4 TYPE\"].notnull() & (df2[\"BOROUGH\"].isnull())]\n",
    "data={\"BOROUGH\":[\"Nah\"],\"ONE V\":[len(t1)],\"TWO V\":[len(t2)],\"THREE V\":[len(t3)],\"MORE V\":[len(t4)]}\n",
    "df5=DataFrame(data,columns=[\"BOROUGH\",\"ONE V\",\"TWO V\",\"THREE V\",\"MORE V\"])"
   ]
  },
  {
   "cell_type": "code",
   "execution_count": 116,
   "metadata": {
    "collapsed": false
   },
   "outputs": [],
   "source": [
    "frame=[Cal(\"QUEENS\"),Cal(\"BROOKLYN\"),Cal(\"MANHATTAN\"),Cal(\"BRONX\"),Cal(\"STATEN ISLAND\"),df5]"
   ]
  },
  {
   "cell_type": "code",
   "execution_count": 118,
   "metadata": {
    "collapsed": false
   },
   "outputs": [
    {
     "data": {
      "text/html": [
       "<div>\n",
       "<table border=\"1\" class=\"dataframe\">\n",
       "  <thead>\n",
       "    <tr style=\"text-align: right;\">\n",
       "      <th></th>\n",
       "      <th>BOROUGH</th>\n",
       "      <th>ONE V</th>\n",
       "      <th>TWO V</th>\n",
       "      <th>THREE V</th>\n",
       "      <th>MORE V</th>\n",
       "    </tr>\n",
       "  </thead>\n",
       "  <tbody>\n",
       "    <tr>\n",
       "      <th>0</th>\n",
       "      <td>QUEENS</td>\n",
       "      <td>12962</td>\n",
       "      <td>70260</td>\n",
       "      <td>4498</td>\n",
       "      <td>1420</td>\n",
       "    </tr>\n",
       "    <tr>\n",
       "      <th>0</th>\n",
       "      <td>BROOKLYN</td>\n",
       "      <td>17375</td>\n",
       "      <td>80207</td>\n",
       "      <td>4980</td>\n",
       "      <td>1612</td>\n",
       "    </tr>\n",
       "    <tr>\n",
       "      <th>0</th>\n",
       "      <td>MANHATTAN</td>\n",
       "      <td>13318</td>\n",
       "      <td>66958</td>\n",
       "      <td>2024</td>\n",
       "      <td>501</td>\n",
       "    </tr>\n",
       "    <tr>\n",
       "      <th>0</th>\n",
       "      <td>BRONX</td>\n",
       "      <td>8627</td>\n",
       "      <td>34385</td>\n",
       "      <td>1962</td>\n",
       "      <td>625</td>\n",
       "    </tr>\n",
       "    <tr>\n",
       "      <th>0</th>\n",
       "      <td>STATEN ISLAND</td>\n",
       "      <td>2343</td>\n",
       "      <td>10676</td>\n",
       "      <td>759</td>\n",
       "      <td>165</td>\n",
       "    </tr>\n",
       "    <tr>\n",
       "      <th>0</th>\n",
       "      <td>Nah</td>\n",
       "      <td>22357</td>\n",
       "      <td>104045</td>\n",
       "      <td>9210</td>\n",
       "      <td>2508</td>\n",
       "    </tr>\n",
       "  </tbody>\n",
       "</table>\n",
       "</div>"
      ],
      "text/plain": [
       "         BOROUGH  ONE V   TWO V  THREE V  MORE V\n",
       "0         QUEENS  12962   70260     4498    1420\n",
       "0       BROOKLYN  17375   80207     4980    1612\n",
       "0      MANHATTAN  13318   66958     2024     501\n",
       "0          BRONX   8627   34385     1962     625\n",
       "0  STATEN ISLAND   2343   10676      759     165\n",
       "0            Nah  22357  104045     9210    2508"
      ]
     },
     "execution_count": 118,
     "metadata": {},
     "output_type": "execute_result"
    }
   ],
   "source": [
    "pd.concat(frame)"
   ]
  },
  {
   "cell_type": "code",
   "execution_count": null,
   "metadata": {
    "collapsed": true
   },
   "outputs": [],
   "source": []
  }
 ],
 "metadata": {
  "anaconda-cloud": {},
  "kernelspec": {
   "display_name": "Python [conda root]",
   "language": "python",
   "name": "conda-root-py"
  },
  "language_info": {
   "codemirror_mode": {
    "name": "ipython",
    "version": 3
   },
   "file_extension": ".py",
   "mimetype": "text/x-python",
   "name": "python",
   "nbconvert_exporter": "python",
   "pygments_lexer": "ipython3",
   "version": "3.5.2"
  }
 },
 "nbformat": 4,
 "nbformat_minor": 1
}
