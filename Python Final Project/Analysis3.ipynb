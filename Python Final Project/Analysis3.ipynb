{
 "cells": [
  {
   "cell_type": "code",
   "execution_count": 16,
   "metadata": {
    "collapsed": true
   },
   "outputs": [],
   "source": [
    "import nltk\n",
    "import requests\n",
    "import json\n",
    "import csv\n",
    "import requests\n",
    "import os\n",
    "import datetime\n",
    "import dateutil.rrule\n",
    "from datetime import date, timedelta\n",
    "import dateutil.relativedelta as relativedelta\n",
    "import dateutil.rrule as rrule\n",
    "import calendar\n",
    "import glob\n",
    "from nltk.probability import FreqDist\n",
    "import pandas as pd\n",
    "\n"
   ]
  },
  {
   "cell_type": "code",
   "execution_count": 10,
   "metadata": {
    "collapsed": false
   },
   "outputs": [
    {
     "data": {
      "text/html": [
       "<div>\n",
       "<table border=\"1\" class=\"dataframe\">\n",
       "  <thead>\n",
       "    <tr style=\"text-align: right;\">\n",
       "      <th></th>\n",
       "      <th>id</th>\n",
       "      <th>name</th>\n",
       "      <th>phone</th>\n",
       "      <th>rating</th>\n",
       "      <th>reviewcount</th>\n",
       "      <th>transactions</th>\n",
       "      <th>latitude</th>\n",
       "      <th>longitude</th>\n",
       "      <th>city</th>\n",
       "      <th>address1</th>\n",
       "      <th>address2</th>\n",
       "      <th>address3</th>\n",
       "      <th>zip_code</th>\n",
       "      <th>distance</th>\n",
       "      <th>categories1</th>\n",
       "      <th>categories2</th>\n",
       "      <th>categories3</th>\n",
       "      <th>price</th>\n",
       "    </tr>\n",
       "  </thead>\n",
       "  <tbody>\n",
       "    <tr>\n",
       "      <th>0</th>\n",
       "      <td>girl-and-the-goat-chicago</td>\n",
       "      <td>Girl &amp; the Goat</td>\n",
       "      <td>(312) 492-6262</td>\n",
       "      <td>4.5</td>\n",
       "      <td>5896</td>\n",
       "      <td>NaN</td>\n",
       "      <td>41.884105</td>\n",
       "      <td>-87.647944</td>\n",
       "      <td>Chicago</td>\n",
       "      <td>809 W Randolph St</td>\n",
       "      <td>NaN</td>\n",
       "      <td>NaN</td>\n",
       "      <td>60607</td>\n",
       "      <td>3402.031302</td>\n",
       "      <td>American (New)</td>\n",
       "      <td>NaN</td>\n",
       "      <td>NaN</td>\n",
       "      <td>$$$</td>\n",
       "    </tr>\n",
       "    <tr>\n",
       "      <th>1</th>\n",
       "      <td>the-purple-pig-chicago</td>\n",
       "      <td>The Purple Pig</td>\n",
       "      <td>(312) 464-1744</td>\n",
       "      <td>4.0</td>\n",
       "      <td>4904</td>\n",
       "      <td>NaN</td>\n",
       "      <td>41.891020</td>\n",
       "      <td>-87.624562</td>\n",
       "      <td>Chicago</td>\n",
       "      <td>500 N Michigan Ave</td>\n",
       "      <td>NaN</td>\n",
       "      <td>NaN</td>\n",
       "      <td>60611</td>\n",
       "      <td>4675.476777</td>\n",
       "      <td>Tapas/Small Plates</td>\n",
       "      <td>Mediterranean</td>\n",
       "      <td>Wine Bars</td>\n",
       "      <td>$$</td>\n",
       "    </tr>\n",
       "    <tr>\n",
       "      <th>2</th>\n",
       "      <td>the-dearborn-chicago-2</td>\n",
       "      <td>The Dearborn</td>\n",
       "      <td>(312) 384-1242</td>\n",
       "      <td>4.5</td>\n",
       "      <td>280</td>\n",
       "      <td>NaN</td>\n",
       "      <td>41.884258</td>\n",
       "      <td>-87.629397</td>\n",
       "      <td>Chicago</td>\n",
       "      <td>145 N Dearborn St</td>\n",
       "      <td>NaN</td>\n",
       "      <td>NaN</td>\n",
       "      <td>60602</td>\n",
       "      <td>4618.266832</td>\n",
       "      <td>Salad</td>\n",
       "      <td>Seafood</td>\n",
       "      <td>American (Traditional)</td>\n",
       "      <td>$$</td>\n",
       "    </tr>\n",
       "    <tr>\n",
       "      <th>3</th>\n",
       "      <td>au-cheval-chicago</td>\n",
       "      <td>Au Cheval</td>\n",
       "      <td>(312) 929-4580</td>\n",
       "      <td>4.5</td>\n",
       "      <td>3759</td>\n",
       "      <td>NaN</td>\n",
       "      <td>41.884658</td>\n",
       "      <td>-87.647667</td>\n",
       "      <td>Chicago</td>\n",
       "      <td>800 W Randolph St</td>\n",
       "      <td>NaN</td>\n",
       "      <td>NaN</td>\n",
       "      <td>60607</td>\n",
       "      <td>3376.733281</td>\n",
       "      <td>American (New)</td>\n",
       "      <td>Bars</td>\n",
       "      <td>Burgers</td>\n",
       "      <td>$$</td>\n",
       "    </tr>\n",
       "    <tr>\n",
       "      <th>4</th>\n",
       "      <td>copper-fox-gastropub-chicago</td>\n",
       "      <td>Copper Fox Gastropub</td>\n",
       "      <td>(312) 255-8505</td>\n",
       "      <td>4.5</td>\n",
       "      <td>217</td>\n",
       "      <td>NaN</td>\n",
       "      <td>41.893215</td>\n",
       "      <td>-87.623370</td>\n",
       "      <td>Chicago</td>\n",
       "      <td>155 East Ontario St</td>\n",
       "      <td>NaN</td>\n",
       "      <td>NaN</td>\n",
       "      <td>60611</td>\n",
       "      <td>4722.579101</td>\n",
       "      <td>American (New)</td>\n",
       "      <td>Gastropubs</td>\n",
       "      <td>NaN</td>\n",
       "      <td>$$</td>\n",
       "    </tr>\n",
       "  </tbody>\n",
       "</table>\n",
       "</div>"
      ],
      "text/plain": [
       "                             id                  name           phone  rating  \\\n",
       "0     girl-and-the-goat-chicago       Girl & the Goat  (312) 492-6262     4.5   \n",
       "1        the-purple-pig-chicago        The Purple Pig  (312) 464-1744     4.0   \n",
       "2        the-dearborn-chicago-2          The Dearborn  (312) 384-1242     4.5   \n",
       "3             au-cheval-chicago             Au Cheval  (312) 929-4580     4.5   \n",
       "4  copper-fox-gastropub-chicago  Copper Fox Gastropub  (312) 255-8505     4.5   \n",
       "\n",
       "   reviewcount transactions   latitude  longitude     city  \\\n",
       "0         5896          NaN  41.884105 -87.647944  Chicago   \n",
       "1         4904          NaN  41.891020 -87.624562  Chicago   \n",
       "2          280          NaN  41.884258 -87.629397  Chicago   \n",
       "3         3759          NaN  41.884658 -87.647667  Chicago   \n",
       "4          217          NaN  41.893215 -87.623370  Chicago   \n",
       "\n",
       "              address1 address2 address3  zip_code     distance  \\\n",
       "0    809 W Randolph St      NaN      NaN     60607  3402.031302   \n",
       "1   500 N Michigan Ave      NaN      NaN     60611  4675.476777   \n",
       "2    145 N Dearborn St      NaN      NaN     60602  4618.266832   \n",
       "3    800 W Randolph St      NaN      NaN     60607  3376.733281   \n",
       "4  155 East Ontario St      NaN      NaN     60611  4722.579101   \n",
       "\n",
       "          categories1    categories2             categories3 price  \n",
       "0      American (New)            NaN                     NaN   $$$  \n",
       "1  Tapas/Small Plates  Mediterranean               Wine Bars    $$  \n",
       "2               Salad        Seafood  American (Traditional)    $$  \n",
       "3      American (New)           Bars                 Burgers    $$  \n",
       "4      American (New)     Gastropubs                     NaN    $$  "
      ]
     },
     "execution_count": 10,
     "metadata": {},
     "output_type": "execute_result"
    }
   ],
   "source": [
    "df=pd.read_csv((os.getcwd()+'/restaurant.csv'),low_memory=False)\n",
    "df=df.drop_duplicates()\n",
    "\n",
    "df.head()\n"
   ]
  },
  {
   "cell_type": "code",
   "execution_count": 11,
   "metadata": {
    "collapsed": false
   },
   "outputs": [],
   "source": [
    "df1=df[[\"id\",\"reviewcount\",\"rating\"]]"
   ]
  },
  {
   "cell_type": "code",
   "execution_count": 25,
   "metadata": {
    "collapsed": false
   },
   "outputs": [
    {
     "data": {
      "text/html": [
       "<div>\n",
       "<table border=\"1\" class=\"dataframe\">\n",
       "  <thead>\n",
       "    <tr style=\"text-align: right;\">\n",
       "      <th></th>\n",
       "      <th>id</th>\n",
       "      <th>reviewcount</th>\n",
       "      <th>rating</th>\n",
       "    </tr>\n",
       "  </thead>\n",
       "  <tbody>\n",
       "    <tr>\n",
       "      <th>21149</th>\n",
       "      <td>786-degrees-los-angeles-5</td>\n",
       "      <td>491</td>\n",
       "      <td>5.0</td>\n",
       "    </tr>\n",
       "    <tr>\n",
       "      <th>2549</th>\n",
       "      <td>ninis-deli-chicago</td>\n",
       "      <td>364</td>\n",
       "      <td>5.0</td>\n",
       "    </tr>\n",
       "    <tr>\n",
       "      <th>67004</th>\n",
       "      <td>the-alcove-sunnyside</td>\n",
       "      <td>232</td>\n",
       "      <td>5.0</td>\n",
       "    </tr>\n",
       "    <tr>\n",
       "      <th>22949</th>\n",
       "      <td>orleans-and-york-deli-los-angeles</td>\n",
       "      <td>520</td>\n",
       "      <td>4.5</td>\n",
       "    </tr>\n",
       "    <tr>\n",
       "      <th>24599</th>\n",
       "      <td>hoy-ka-thai-restaurant-los-angeles</td>\n",
       "      <td>890</td>\n",
       "      <td>4.5</td>\n",
       "    </tr>\n",
       "  </tbody>\n",
       "</table>\n",
       "</div>"
      ],
      "text/plain": [
       "                                       id  reviewcount  rating\n",
       "21149           786-degrees-los-angeles-5          491     5.0\n",
       "2549                   ninis-deli-chicago          364     5.0\n",
       "67004                the-alcove-sunnyside          232     5.0\n",
       "22949   orleans-and-york-deli-los-angeles          520     4.5\n",
       "24599  hoy-ka-thai-restaurant-los-angeles          890     4.5"
      ]
     },
     "execution_count": 25,
     "metadata": {},
     "output_type": "execute_result"
    }
   ],
   "source": [
    "df_byrating=df1.sort_values([\"rating\"],ascending=[False])\n",
    "df_ana=df_byrating.query('reviewcount>200')\n",
    "df_ana.head()"
   ]
  },
  {
   "cell_type": "code",
   "execution_count": 64,
   "metadata": {
    "collapsed": false
   },
   "outputs": [],
   "source": [
    "Idlist=df_ana['id'].tolist()\n",
    "l1=[\"786-degrees-los-angeles-5\",\"ninis-deli-chicago\",\"the-alcove-sunnyside\",\"orleans-and-york-deli-los-angeles\",\"hoy-ka-thai-restaurant-los-angeles\"]\n",
    "\n",
    "\n"
   ]
  },
  {
   "cell_type": "code",
   "execution_count": 70,
   "metadata": {
    "collapsed": false
   },
   "outputs": [],
   "source": [
    "def get_chunks2(MyList, n):\n",
    "    return [MyList[x:x+n] for x in range(0, len(MyList), n)]\n",
    "\n",
    "def writejson(name,r):    \n",
    "    with open(os.getcwd()+\"/raw data/Restaurant_Review/\"+name+'.json', 'w',encoding='utf-8',errors='ignore') as outfile:\n",
    "        json.dump(r, outfile)        \n",
    "        "
   ]
  },
  {
   "cell_type": "code",
   "execution_count": 69,
   "metadata": {
    "collapsed": false
   },
   "outputs": [],
   "source": [
    "def combineReviewJson():\n",
    "    list1=get_chunks2(Idlist, 20)\n",
    "    for li in list1:\n",
    "        reviewdict={}\n",
    "        review=[]\n",
    "        for l in li:\n",
    "            url = 'https://api.yelp.com/v3/businesses/'+l+'/reviews'\n",
    "            r=requests.get(url=url,headers=headers)\n",
    "            review.extend(r.json()[\"reviews\"])\n",
    "        reviewdict[\"reviews\"]=review\n",
    "        writejson(l[0]+l[1]+l[2]+l[3]+l[4],reviewdict)\n",
    "        \n",
    "        "
   ]
  },
  {
   "cell_type": "code",
   "execution_count": 71,
   "metadata": {
    "collapsed": false
   },
   "outputs": [],
   "source": [
    "combineReviewJson()"
   ]
  },
  {
   "cell_type": "code",
   "execution_count": 72,
   "metadata": {
    "collapsed": false
   },
   "outputs": [],
   "source": [
    "# example={}\n",
    "# ee=[]\n",
    "# for l in l1:\n",
    "#     url = 'https://api.yelp.com/v3/businesses/'+l+'/reviews'\n",
    "#     r=requests.get(url=url,headers=headers)\n",
    "#     ee.extend(r.json()[\"reviews\"])\n",
    "# example[\"reviews\"]=ee    \n",
    "\n",
    "    \n",
    "    "
   ]
  },
  {
   "cell_type": "code",
   "execution_count": 45,
   "metadata": {
    "collapsed": false
   },
   "outputs": [
    {
     "data": {
      "text/plain": [
       "{'reviews': [{'rating': 5,\n",
       "   'text': \"Best pizza I have ever tried!!!!\\n\\nMy bf and I loved it!\\n\\nTry the Bombay Tikka Masala, you won't be disappointed!\",\n",
       "   'time_created': '2017-04-13 15:50:09',\n",
       "   'url': 'https://www.yelp.com/biz/786-degrees-los-angeles-5?hrid=UfcHntPUSV9LvCBDI44qPw&adjust_creative=8_C4NSGbL05eUQksKleGYw&utm_campaign=yelp_api_v3&utm_medium=api_v3_business_reviews&utm_source=8_C4NSGbL05eUQksKleGYw',\n",
       "   'user': {'image_url': 'https://s3-media1.fl.yelpcdn.com/photo/KOfxALWswPPvlsAVWtWtFg/o.jpg',\n",
       "    'name': 'Cindy C.'}},\n",
       "  {'rating': 5,\n",
       "   'text': 'Probably one of our new favorite pizza places! My husband and I tried the Fungi Lama and the Bombay Tikka masala pizzas and both were delicious! Reminded us...',\n",
       "   'time_created': '2017-04-10 18:49:18',\n",
       "   'url': 'https://www.yelp.com/biz/786-degrees-los-angeles-5?hrid=HlqkhDWSr0nM1672EaPpaA&adjust_creative=8_C4NSGbL05eUQksKleGYw&utm_campaign=yelp_api_v3&utm_medium=api_v3_business_reviews&utm_source=8_C4NSGbL05eUQksKleGYw',\n",
       "   'user': {'image_url': 'https://s3-media2.fl.yelpcdn.com/photo/cO5AGDmMpP-asi9u3NC7eQ/o.jpg',\n",
       "    'name': 'Beanne N.'}},\n",
       "  {'rating': 5,\n",
       "   'text': 'Excellent customer service. Owner is Indian, Italian, and Iraqi so the food reflects worldwide flavors. Oven is from Italy from some sort of mountain or...',\n",
       "   'time_created': '2017-04-08 19:09:21',\n",
       "   'url': 'https://www.yelp.com/biz/786-degrees-los-angeles-5?hrid=ZkNs74PaOsQE0RrnF53Skw&adjust_creative=8_C4NSGbL05eUQksKleGYw&utm_campaign=yelp_api_v3&utm_medium=api_v3_business_reviews&utm_source=8_C4NSGbL05eUQksKleGYw',\n",
       "   'user': {'image_url': 'https://s3-media3.fl.yelpcdn.com/photo/_f_ZcXEsNjM7ptMy7PG58Q/o.jpg',\n",
       "    'name': 'Margarita W.'}},\n",
       "  {'rating': 5,\n",
       "   'text': \"Love Nini's deli. Was recommended by a friend and made the trip out to find it. Legit amazing Cuban/Mexican food and Juan is one of the most passionate...\",\n",
       "   'time_created': '2017-04-08 10:48:22',\n",
       "   'url': 'https://www.yelp.com/biz/ninis-deli-chicago?hrid=4sQg_kUI-WoJJh_Shfdtrw&adjust_creative=8_C4NSGbL05eUQksKleGYw&utm_campaign=yelp_api_v3&utm_medium=api_v3_business_reviews&utm_source=8_C4NSGbL05eUQksKleGYw',\n",
       "   'user': {'image_url': 'https://s3-media2.fl.yelpcdn.com/photo/Lr543dYqJStjozifTg6mvw/o.jpg',\n",
       "    'name': 'Jon B.'}},\n",
       "  {'rating': 5,\n",
       "   'text': 'Amazing service from very cool dudes who take family recipes and interrupt them in a modern way. Foods amazing, staff is great, the wait is worth it! \\n\\nI...',\n",
       "   'time_created': '2017-03-03 11:02:23',\n",
       "   'url': 'https://www.yelp.com/biz/ninis-deli-chicago?hrid=4CMqxb_dCJgn9yYz5N96DQ&adjust_creative=8_C4NSGbL05eUQksKleGYw&utm_campaign=yelp_api_v3&utm_medium=api_v3_business_reviews&utm_source=8_C4NSGbL05eUQksKleGYw',\n",
       "   'user': {'image_url': 'https://s3-media1.fl.yelpcdn.com/photo/VXdD-iGAM2E5OZcZ3sJcpw/o.jpg',\n",
       "    'name': 'Brett B.'}},\n",
       "  {'rating': 5,\n",
       "   'text': 'WOWOWOWOWOWOWOW \\n\\nThe cafe con leche is amazing \\nI had the burrito and was thoroughly satisfied. Surprisingly goes very well with Sriracha ?\\n\\nThe owners son...',\n",
       "   'time_created': '2017-02-18 09:41:57',\n",
       "   'url': 'https://www.yelp.com/biz/ninis-deli-chicago?hrid=KwPePGlRe32tEQUZlBYwqg&adjust_creative=8_C4NSGbL05eUQksKleGYw&utm_campaign=yelp_api_v3&utm_medium=api_v3_business_reviews&utm_source=8_C4NSGbL05eUQksKleGYw',\n",
       "   'user': {'image_url': 'https://s3-media1.fl.yelpcdn.com/photo/3-KU6ha3vnQFlDf7wnLvYg/o.jpg',\n",
       "    'name': 'Mihir P.'}},\n",
       "  {'rating': 5,\n",
       "   'text': \"I've been meaning to write a review on this little cozy spot for months now. My boyfriend lives a block away and I consistently demand to come here solely...\",\n",
       "   'time_created': '2017-04-09 10:12:20',\n",
       "   'url': 'https://www.yelp.com/biz/the-alcove-sunnyside?hrid=E_EUKw10kUseCjyvl8qk8A&adjust_creative=8_C4NSGbL05eUQksKleGYw&utm_campaign=yelp_api_v3&utm_medium=api_v3_business_reviews&utm_source=8_C4NSGbL05eUQksKleGYw',\n",
       "   'user': {'image_url': 'https://s3-media1.fl.yelpcdn.com/photo/lCmN-qrTnlmMpaucO7pqDw/o.jpg',\n",
       "    'name': 'Dan G.'}},\n",
       "  {'rating': 3,\n",
       "   'text': 'I decided to check this place out after seeing tantalizing pictures of the tacos and skirt steaks skewers. The servers were very attentive, but were a bit...',\n",
       "   'time_created': '2017-04-14 14:02:35',\n",
       "   'url': 'https://www.yelp.com/biz/the-alcove-sunnyside?hrid=sRsR1wK5q3zDCaXmsw2pLg&adjust_creative=8_C4NSGbL05eUQksKleGYw&utm_campaign=yelp_api_v3&utm_medium=api_v3_business_reviews&utm_source=8_C4NSGbL05eUQksKleGYw',\n",
       "   'user': {'image_url': 'https://s3-media2.fl.yelpcdn.com/photo/d9IwSgL_tguVWki8nFydkw/o.jpg',\n",
       "    'name': 'Tanya K.'}},\n",
       "  {'rating': 2,\n",
       "   'text': 'Oh my poor taste buds... I am going to say flat out, I think their 5 star rating is bullshit. I feel like I was tricked into coming here with all the fake 5...',\n",
       "   'time_created': '2017-04-12 19:37:31',\n",
       "   'url': 'https://www.yelp.com/biz/the-alcove-sunnyside?hrid=AmwmnYKURYyLgZ6t9aXuzA&adjust_creative=8_C4NSGbL05eUQksKleGYw&utm_campaign=yelp_api_v3&utm_medium=api_v3_business_reviews&utm_source=8_C4NSGbL05eUQksKleGYw',\n",
       "   'user': {'image_url': 'https://s3-media4.fl.yelpcdn.com/photo/c9zrZOrPoaRjC8I1HbjJkg/o.jpg',\n",
       "    'name': 'Ben L.'}},\n",
       "  {'rating': 5,\n",
       "   'text': \"I've been coming to Orleans and York for two years now, after having discovered it while trying to find a poboy sandwich in Los Angeles. A girl I was dating...\",\n",
       "   'time_created': '2017-03-11 18:53:46',\n",
       "   'url': 'https://www.yelp.com/biz/orleans-and-york-deli-los-angeles?hrid=ScEZRoh0RWf5rXyjecoJSA&adjust_creative=8_C4NSGbL05eUQksKleGYw&utm_campaign=yelp_api_v3&utm_medium=api_v3_business_reviews&utm_source=8_C4NSGbL05eUQksKleGYw',\n",
       "   'user': {'image_url': 'https://s3-media4.fl.yelpcdn.com/photo/6w2hpXFAnPLStQS8konoUA/o.jpg',\n",
       "    'name': 'Miguel R.'}},\n",
       "  {'rating': 4,\n",
       "   'text': 'Po-boys or Heroes? Decisions, decisions...\\n\\nHaving been a big fan of a shredded beef po-boy when I visited New Orleans, I was pretty excited to find out...',\n",
       "   'time_created': '2017-03-25 21:27:40',\n",
       "   'url': 'https://www.yelp.com/biz/orleans-and-york-deli-los-angeles?hrid=eW-sw07VuixiSI9aQc-UDA&adjust_creative=8_C4NSGbL05eUQksKleGYw&utm_campaign=yelp_api_v3&utm_medium=api_v3_business_reviews&utm_source=8_C4NSGbL05eUQksKleGYw',\n",
       "   'user': {'image_url': 'https://s3-media3.fl.yelpcdn.com/photo/GFrTLSBE8YmU0jhmFDxqVg/o.jpg',\n",
       "    'name': 'Dexter C.'}},\n",
       "  {'rating': 5,\n",
       "   'text': 'When I received my food and opened up my to go box, since I did not choose to dine in, all I could think was OMG I am in love!! The smell of the food...',\n",
       "   'time_created': '2017-01-06 07:23:16',\n",
       "   'url': 'https://www.yelp.com/biz/orleans-and-york-deli-los-angeles?hrid=8wWJO5uZnvuwC3ORgrVcmg&adjust_creative=8_C4NSGbL05eUQksKleGYw&utm_campaign=yelp_api_v3&utm_medium=api_v3_business_reviews&utm_source=8_C4NSGbL05eUQksKleGYw',\n",
       "   'user': {'image_url': 'https://s3-media2.fl.yelpcdn.com/photo/N2h2eYe2TOBQVXUOE9V4Pg/o.jpg',\n",
       "    'name': 'Nik D.'}},\n",
       "  {'rating': 5,\n",
       "   'text': \"Who am I kidding?  The primary reason I come to Hoy-Ka is the sneaky pork.  Whenever I've ordered something else, I've immediately regretted my decision....\",\n",
       "   'time_created': '2017-04-05 10:29:53',\n",
       "   'url': 'https://www.yelp.com/biz/hoy-ka-thai-restaurant-los-angeles?hrid=dGyJaJQMlwtxGHJUTQeYuw&adjust_creative=8_C4NSGbL05eUQksKleGYw&utm_campaign=yelp_api_v3&utm_medium=api_v3_business_reviews&utm_source=8_C4NSGbL05eUQksKleGYw',\n",
       "   'user': {'image_url': 'https://s3-media4.fl.yelpcdn.com/photo/t7OhDNglXbsgi4Dl45n7mA/o.jpg',\n",
       "    'name': 'Greg T.'}},\n",
       "  {'rating': 5,\n",
       "   'text': \"Amazing place. The environment is completely amazing, place is beautiful, the staff is attentive and kind and the food is really amazing!!!\\n\\nIt's not as...\",\n",
       "   'time_created': '2017-04-04 19:14:31',\n",
       "   'url': 'https://www.yelp.com/biz/hoy-ka-thai-restaurant-los-angeles?hrid=kRqFK8LSxgKp2BUtnU9Ngg&adjust_creative=8_C4NSGbL05eUQksKleGYw&utm_campaign=yelp_api_v3&utm_medium=api_v3_business_reviews&utm_source=8_C4NSGbL05eUQksKleGYw',\n",
       "   'user': {'image_url': 'https://s3-media2.fl.yelpcdn.com/photo/T43wpyNwGQAqKVbKaFbr4w/o.jpg',\n",
       "    'name': 'Bryan C.'}},\n",
       "  {'rating': 5,\n",
       "   'text': 'Hoy Ka Thai spicy level 1-10 translated:\\n\\n1 = Hot\\n2 = I did say level 2 right?\\n3 = wait, super hot wtf\\n4 = wait\\n5 = not that bad (fucking terrible) \\n6 =...',\n",
       "   'time_created': '2017-04-01 00:28:24',\n",
       "   'url': 'https://www.yelp.com/biz/hoy-ka-thai-restaurant-los-angeles?hrid=OnH321GdBrIbiPCLUB_xkA&adjust_creative=8_C4NSGbL05eUQksKleGYw&utm_campaign=yelp_api_v3&utm_medium=api_v3_business_reviews&utm_source=8_C4NSGbL05eUQksKleGYw',\n",
       "   'user': {'image_url': 'https://s3-media2.fl.yelpcdn.com/photo/I9dbpaSsYBepBbJhVLfOkg/o.jpg',\n",
       "    'name': 'Dylan S.'}}]}"
      ]
     },
     "execution_count": 45,
     "metadata": {},
     "output_type": "execute_result"
    }
   ],
   "source": [
    "example"
   ]
  },
  {
   "cell_type": "code",
   "execution_count": null,
   "metadata": {
    "collapsed": false
   },
   "outputs": [],
   "source": []
  },
  {
   "cell_type": "code",
   "execution_count": 30,
   "metadata": {
    "collapsed": false
   },
   "outputs": [
    {
     "data": {
      "text/plain": [
       "list"
      ]
     },
     "execution_count": 30,
     "metadata": {},
     "output_type": "execute_result"
    }
   ],
   "source": [
    "type(r1.json()[\"reviews\"])"
   ]
  },
  {
   "cell_type": "code",
   "execution_count": null,
   "metadata": {
    "collapsed": true
   },
   "outputs": [],
   "source": []
  }
 ],
 "metadata": {
  "anaconda-cloud": {},
  "kernelspec": {
   "display_name": "Python [default]",
   "language": "python",
   "name": "python3"
  },
  "language_info": {
   "codemirror_mode": {
    "name": "ipython",
    "version": 3
   },
   "file_extension": ".py",
   "mimetype": "text/x-python",
   "name": "python",
   "nbconvert_exporter": "python",
   "pygments_lexer": "ipython3",
   "version": "3.5.2"
  }
 },
 "nbformat": 4,
 "nbformat_minor": 1
}
