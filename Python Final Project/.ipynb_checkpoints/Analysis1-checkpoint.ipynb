{
 "cells": [
  {
   "cell_type": "markdown",
   "metadata": {},
   "source": []
  },
  {
   "cell_type": "code",
   "execution_count": 123,
   "metadata": {
    "collapsed": true
   },
   "outputs": [],
   "source": [
    "import requests\n",
    "import json\n",
    "import csv\n",
    "import requests\n",
    "import os\n",
    "import datetime\n",
    "import dateutil.rrule\n",
    "from datetime import date, timedelta\n",
    "import dateutil.relativedelta as relativedelta\n",
    "import dateutil.rrule as rrule\n",
    "import calendar\n",
    "import glob\n",
    "from nltk.probability import FreqDist\n",
    "import pandas as pd\n",
    "\n",
    "\n"
   ]
  },
  {
   "cell_type": "code",
   "execution_count": 2,
   "metadata": {
    "collapsed": false
   },
   "outputs": [
    {
     "data": {
      "text/plain": [
       "{'access_token': '5YSTNCxuTZHDmKDEJ15lI_ZQNNs0LJ--b6FHlIpm2cdiZbxijUbA1_4LYy6CTuYvT67SGrz0It76zXR75y0VdpaVwKmSlMTsD-KE2XK71LpIT8ZHKe4sh6hbiCnnWHYx',\n",
       " 'expires_in': 14908350,\n",
       " 'token_type': 'Bearer'}"
      ]
     },
     "execution_count": 2,
     "metadata": {},
     "output_type": "execute_result"
    }
   ],
   "source": [
    "param={\"client_id\":\"8_C4NSGbL05eUQksKleGYw\",\n",
    "      \"client_secret\":\"Wfgy3xIJtzaEfSJfd4lGz5UwEZo9cT3PWoZ5h2q72zDNLxm0Tq35PT78v2Lu7fGJ\",\n",
    "      'grant_type': 'client_credentials'}\n",
    "r=requests.post(\"https://api.yelp.com/oauth2/token\",param)\n",
    "r.json()\n",
    "\n",
    "\n",
    "\n"
   ]
  },
  {
   "cell_type": "code",
   "execution_count": 127,
   "metadata": {
    "collapsed": false
   },
   "outputs": [],
   "source": [
    "access_token=\"5YSTNCxuTZHDmKDEJ15lI_ZQNNs0LJ--b6FHlIpm2cdiZbxijUbA1_4LYy6CTuYvT67SGrz0It76zXR75y0VdpaVwKmSlMTsD-KE2XK71LpIT8ZHKe4sh6hbiCnnWHYx\"\n",
    "url = 'https://api.yelp.com/v3/businesses/search'\n",
    "\n",
    "\n",
    "headers={'Authorization': 'bearer %s' % access_token}\n",
    "\n",
    "# params = {'location': 'Chicago',\n",
    "#            'term':'Restaurants',\n",
    "# #            'pricing_filter': '1, 2',\n",
    "# #              'sort_by': 'rating',\n",
    "#           'offset':0,\n",
    "#           'limit':50\n",
    "#          }\n",
    "\n",
    "\n",
    "# r1=requests.get(url=url,params=params,headers=headers)\n",
    "# r1.json()"
   ]
  },
  {
   "cell_type": "code",
   "execution_count": 126,
   "metadata": {
    "collapsed": true
   },
   "outputs": [],
   "source": [
    "def writejson(offset,r):    \n",
    "    with open(os.getcwd()+\"/raw data/CH-Restaurant/\"+str(offset)+'.json', 'w',encoding='utf-8',errors='ignore') as outfile:\n",
    "        json.dump(r, outfile)"
   ]
  },
  {
   "cell_type": "code",
   "execution_count": 128,
   "metadata": {
    "collapsed": false
   },
   "outputs": [],
   "source": [
    "def collectdata(offestlist):\n",
    "    for num in offestlist:      \n",
    "        params = {'location': 'Chicago',\n",
    "                   'term':'Restaurants',\n",
    "#            'pricing_filter': '1, 2',\n",
    "#              'sort_by': 'rating',\n",
    "          'offset':num,\n",
    "         'limit':50\n",
    "           }\n",
    "        r=requests.get(url=url,params=params,headers=headers)\n",
    "        writejson(num,r.json())\n",
    "        \n",
    "        \n",
    "        \n",
    "        \n",
    "        \n",
    "        "
   ]
  },
  {
   "cell_type": "code",
   "execution_count": 96,
   "metadata": {
    "collapsed": false
   },
   "outputs": [],
   "source": [
    "# offestlist=list(range(280))\n",
    "\n",
    "# collectdata(offestlist)"
   ]
  },
  {
   "cell_type": "code",
   "execution_count": 129,
   "metadata": {
    "collapsed": true
   },
   "outputs": [],
   "source": [
    "def readjson(path):                                               #read json\n",
    "    with open(path,'r',encoding='utf-8',errors='ignore') as df:\n",
    "        data=json.load(df)\n",
    "        return data\n",
    "    \n",
    "    \n",
    "    \n",
    "    "
   ]
  },
  {
   "cell_type": "code",
   "execution_count": 130,
   "metadata": {
    "collapsed": true
   },
   "outputs": [],
   "source": [
    "def writecsv(x):\n",
    "    with open(os.getcwd()+\"/restaurant.csv\", 'a') as outcsv:      \n",
    "        writer=csv.writer(outcsv,delimiter=',', quotechar='|',quoting=csv.QUOTE_MINIMAL, lineterminator='\\n')   \n",
    "        ree=x[\"businesses\"]\n",
    "        for item in ree:\n",
    "            c1=item[\"id\"].replace(\",\",\" \")\n",
    "            c2=item[\"name\"].replace(\",\",\" \")\n",
    "            c3=item[\"display_phone\"]\n",
    "            c4=item[\"rating\"]\n",
    "            c5=item[\"review_count\"]\n",
    "            if len(item[\"transactions\"])==0:\n",
    "                c6=None\n",
    "            else:            \n",
    "                c6=item[\"transactions\"][0]\n",
    "            c7=item[\"coordinates\"][\"latitude\"]\n",
    "            c8=item[\"coordinates\"][\"longitude\"]\n",
    "            c9=item[\"location\"][\"city\"].replace(\",\",\" \")\n",
    "            if item[\"location\"][\"address1\"]==None:\n",
    "                c10=None\n",
    "            else:\n",
    "                c10=item[\"location\"][\"address1\"].replace(\",\",\" \")\n",
    "            if item[\"location\"][\"address2\"]==None:\n",
    "                c11=None\n",
    "            else:\n",
    "                c11=item[\"location\"][\"address2\"].replace(\",\",\" \")\n",
    "            if item[\"location\"][\"address3\"]==None:\n",
    "                c12=None\n",
    "            else:\n",
    "                c12=item[\"location\"][\"address3\"].replace(\",\",\" \")    \n",
    "            c13=item[\"location\"][\"zip_code\"].replace(\",\",\" \")\n",
    "            c14=item[\"distance\"]\n",
    "            if len(item[\"categories\"])>2:\n",
    "                c15=item[\"categories\"][0][\"title\"].replace(\",\",\" \")\n",
    "                c16=item[\"categories\"][1][\"title\"].replace(\",\",\" \")\n",
    "                c17=item[\"categories\"][2][\"title\"].replace(\",\",\" \")\n",
    "            if len(item[\"categories\"])==2:\n",
    "                c15=item[\"categories\"][0][\"title\"].replace(\",\",\" \")\n",
    "                c16=item[\"categories\"][1][\"title\"].replace(\",\",\" \")\n",
    "                c17=None\n",
    "            if len(item[\"categories\"])==1:\n",
    "                c15=item[\"categories\"][0][\"title\"].replace(\",\",\" \")\n",
    "                c16=None\n",
    "                c17=None  \n",
    "            if len(item[\"categories\"])==0:\n",
    "                c15=None\n",
    "                c16=None\n",
    "                c17=None \n",
    "            if 'price' not in item:\n",
    "                c18=None\n",
    "            else:\n",
    "                c18=item['price']\n",
    "            writer.writerow([c1,c2,c3,c4,c5,c6,c7,c8,c9,c10,c11,c12,c13,c14,c15,c16,c17,c18])\n",
    "            \n",
    "            \n",
    "            \n",
    "            "
   ]
  },
  {
   "cell_type": "code",
   "execution_count": 135,
   "metadata": {
    "collapsed": true
   },
   "outputs": [],
   "source": [
    "def writehead():\n",
    "    with open(os.getcwd()+\"/restaurant.csv\", 'a') as outcsv:      \n",
    "        writer=csv.writer(outcsv,delimiter=',', quotechar='|',quoting=csv.QUOTE_MINIMAL, lineterminator='\\n')   \n",
    "        writer.writerow([\"id\",\"name\",\"phone\",\"rating\",\"reviewcount\",\"transactions\",\"latitude\",\"longitude\",\"city\",\"address1\",\"address2\",\"address3\",\"zip_code\",\"distance\",\"categories1\",\"categories2\",\"categories3\",\"price\"])\n",
    "    \n",
    "    \n",
    "    "
   ]
  },
  {
   "cell_type": "code",
   "execution_count": 136,
   "metadata": {
    "collapsed": true
   },
   "outputs": [],
   "source": [
    "def outputcsv(pathlist):\n",
    "    for path in pathlist:\n",
    "        r=readjson(path)\n",
    "        writecsv(r)\n",
    "        \n",
    "        \n",
    "        \n",
    "        "
   ]
  },
  {
   "cell_type": "code",
   "execution_count": 137,
   "metadata": {
    "collapsed": false
   },
   "outputs": [],
   "source": [
    "pathlist=glob.glob(os.getcwd()+\"/raw data/*/*.json\")\n"
   ]
  },
  {
   "cell_type": "code",
   "execution_count": 138,
   "metadata": {
    "collapsed": false
   },
   "outputs": [],
   "source": [
    "if os.path.exists(os.getcwd()+\"/restaurant.csv\"):\n",
    "    os.remove(os.getcwd()+\"/restaurant.csv\") \n",
    "writehead()    \n",
    "outputcsv(pathlist)\n",
    "\n",
    "\n"
   ]
  },
  {
   "cell_type": "code",
   "execution_count": 139,
   "metadata": {
    "collapsed": false
   },
   "outputs": [
    {
     "data": {
      "text/html": [
       "<div>\n",
       "<table border=\"1\" class=\"dataframe\">\n",
       "  <thead>\n",
       "    <tr style=\"text-align: right;\">\n",
       "      <th></th>\n",
       "      <th>id</th>\n",
       "      <th>name</th>\n",
       "      <th>phone</th>\n",
       "      <th>rating</th>\n",
       "      <th>reviewcount</th>\n",
       "      <th>transactions</th>\n",
       "      <th>latitude</th>\n",
       "      <th>longitude</th>\n",
       "      <th>city</th>\n",
       "      <th>address1</th>\n",
       "      <th>address2</th>\n",
       "      <th>address3</th>\n",
       "      <th>zip_code</th>\n",
       "      <th>distance</th>\n",
       "      <th>categories1</th>\n",
       "      <th>categories2</th>\n",
       "      <th>categories3</th>\n",
       "      <th>price</th>\n",
       "    </tr>\n",
       "  </thead>\n",
       "  <tbody>\n",
       "    <tr>\n",
       "      <th>0</th>\n",
       "      <td>girl-and-the-goat-chicago</td>\n",
       "      <td>Girl &amp; the Goat</td>\n",
       "      <td>(312) 492-6262</td>\n",
       "      <td>4.5</td>\n",
       "      <td>5896</td>\n",
       "      <td>NaN</td>\n",
       "      <td>41.884105</td>\n",
       "      <td>-87.647944</td>\n",
       "      <td>Chicago</td>\n",
       "      <td>809 W Randolph St</td>\n",
       "      <td>NaN</td>\n",
       "      <td>NaN</td>\n",
       "      <td>60607</td>\n",
       "      <td>3402.031302</td>\n",
       "      <td>American (New)</td>\n",
       "      <td>NaN</td>\n",
       "      <td>NaN</td>\n",
       "      <td>$$$</td>\n",
       "    </tr>\n",
       "    <tr>\n",
       "      <th>1</th>\n",
       "      <td>the-purple-pig-chicago</td>\n",
       "      <td>The Purple Pig</td>\n",
       "      <td>(312) 464-1744</td>\n",
       "      <td>4.0</td>\n",
       "      <td>4904</td>\n",
       "      <td>NaN</td>\n",
       "      <td>41.891020</td>\n",
       "      <td>-87.624562</td>\n",
       "      <td>Chicago</td>\n",
       "      <td>500 N Michigan Ave</td>\n",
       "      <td>NaN</td>\n",
       "      <td>NaN</td>\n",
       "      <td>60611</td>\n",
       "      <td>4675.476777</td>\n",
       "      <td>Tapas/Small Plates</td>\n",
       "      <td>Mediterranean</td>\n",
       "      <td>Wine Bars</td>\n",
       "      <td>$$</td>\n",
       "    </tr>\n",
       "    <tr>\n",
       "      <th>2</th>\n",
       "      <td>the-dearborn-chicago-2</td>\n",
       "      <td>The Dearborn</td>\n",
       "      <td>(312) 384-1242</td>\n",
       "      <td>4.5</td>\n",
       "      <td>280</td>\n",
       "      <td>NaN</td>\n",
       "      <td>41.884258</td>\n",
       "      <td>-87.629397</td>\n",
       "      <td>Chicago</td>\n",
       "      <td>145 N Dearborn St</td>\n",
       "      <td>NaN</td>\n",
       "      <td>NaN</td>\n",
       "      <td>60602</td>\n",
       "      <td>4618.266832</td>\n",
       "      <td>Salad</td>\n",
       "      <td>Seafood</td>\n",
       "      <td>American (Traditional)</td>\n",
       "      <td>$$</td>\n",
       "    </tr>\n",
       "    <tr>\n",
       "      <th>3</th>\n",
       "      <td>au-cheval-chicago</td>\n",
       "      <td>Au Cheval</td>\n",
       "      <td>(312) 929-4580</td>\n",
       "      <td>4.5</td>\n",
       "      <td>3759</td>\n",
       "      <td>NaN</td>\n",
       "      <td>41.884658</td>\n",
       "      <td>-87.647667</td>\n",
       "      <td>Chicago</td>\n",
       "      <td>800 W Randolph St</td>\n",
       "      <td>NaN</td>\n",
       "      <td>NaN</td>\n",
       "      <td>60607</td>\n",
       "      <td>3376.733281</td>\n",
       "      <td>American (New)</td>\n",
       "      <td>Bars</td>\n",
       "      <td>Burgers</td>\n",
       "      <td>$$</td>\n",
       "    </tr>\n",
       "    <tr>\n",
       "      <th>4</th>\n",
       "      <td>copper-fox-gastropub-chicago</td>\n",
       "      <td>Copper Fox Gastropub</td>\n",
       "      <td>(312) 255-8505</td>\n",
       "      <td>4.5</td>\n",
       "      <td>217</td>\n",
       "      <td>NaN</td>\n",
       "      <td>41.893215</td>\n",
       "      <td>-87.623370</td>\n",
       "      <td>Chicago</td>\n",
       "      <td>155 East Ontario St</td>\n",
       "      <td>NaN</td>\n",
       "      <td>NaN</td>\n",
       "      <td>60611</td>\n",
       "      <td>4722.579101</td>\n",
       "      <td>American (New)</td>\n",
       "      <td>Gastropubs</td>\n",
       "      <td>NaN</td>\n",
       "      <td>$$</td>\n",
       "    </tr>\n",
       "  </tbody>\n",
       "</table>\n",
       "</div>"
      ],
      "text/plain": [
       "                             id                  name           phone  rating  \\\n",
       "0     girl-and-the-goat-chicago       Girl & the Goat  (312) 492-6262     4.5   \n",
       "1        the-purple-pig-chicago        The Purple Pig  (312) 464-1744     4.0   \n",
       "2        the-dearborn-chicago-2          The Dearborn  (312) 384-1242     4.5   \n",
       "3             au-cheval-chicago             Au Cheval  (312) 929-4580     4.5   \n",
       "4  copper-fox-gastropub-chicago  Copper Fox Gastropub  (312) 255-8505     4.5   \n",
       "\n",
       "   reviewcount transactions   latitude  longitude     city  \\\n",
       "0         5896          NaN  41.884105 -87.647944  Chicago   \n",
       "1         4904          NaN  41.891020 -87.624562  Chicago   \n",
       "2          280          NaN  41.884258 -87.629397  Chicago   \n",
       "3         3759          NaN  41.884658 -87.647667  Chicago   \n",
       "4          217          NaN  41.893215 -87.623370  Chicago   \n",
       "\n",
       "              address1 address2 address3  zip_code     distance  \\\n",
       "0    809 W Randolph St      NaN      NaN     60607  3402.031302   \n",
       "1   500 N Michigan Ave      NaN      NaN     60611  4675.476777   \n",
       "2    145 N Dearborn St      NaN      NaN     60602  4618.266832   \n",
       "3    800 W Randolph St      NaN      NaN     60607  3376.733281   \n",
       "4  155 East Ontario St      NaN      NaN     60611  4722.579101   \n",
       "\n",
       "          categories1    categories2             categories3 price  \n",
       "0      American (New)            NaN                     NaN   $$$  \n",
       "1  Tapas/Small Plates  Mediterranean               Wine Bars    $$  \n",
       "2               Salad        Seafood  American (Traditional)    $$  \n",
       "3      American (New)           Bars                 Burgers    $$  \n",
       "4      American (New)     Gastropubs                     NaN    $$  "
      ]
     },
     "execution_count": 139,
     "metadata": {},
     "output_type": "execute_result"
    }
   ],
   "source": [
    "df=pd.read_csv((os.getcwd()+'/restaurant.csv'),low_memory=False)\n",
    "df=df.drop_duplicates()\n",
    "df.head()"
   ]
  },
  {
   "cell_type": "code",
   "execution_count": 140,
   "metadata": {
    "collapsed": false
   },
   "outputs": [
    {
     "data": {
      "text/html": [
       "<div>\n",
       "<table border=\"1\" class=\"dataframe\">\n",
       "  <thead>\n",
       "    <tr style=\"text-align: right;\">\n",
       "      <th></th>\n",
       "      <th>rating</th>\n",
       "      <th>categories1</th>\n",
       "      <th>price</th>\n",
       "    </tr>\n",
       "  </thead>\n",
       "  <tbody>\n",
       "    <tr>\n",
       "      <th>0</th>\n",
       "      <td>4.5</td>\n",
       "      <td>American (New)</td>\n",
       "      <td>$$$</td>\n",
       "    </tr>\n",
       "    <tr>\n",
       "      <th>1</th>\n",
       "      <td>4.0</td>\n",
       "      <td>Tapas/Small Plates</td>\n",
       "      <td>$$</td>\n",
       "    </tr>\n",
       "    <tr>\n",
       "      <th>2</th>\n",
       "      <td>4.5</td>\n",
       "      <td>Salad</td>\n",
       "      <td>$$</td>\n",
       "    </tr>\n",
       "    <tr>\n",
       "      <th>3</th>\n",
       "      <td>4.5</td>\n",
       "      <td>American (New)</td>\n",
       "      <td>$$</td>\n",
       "    </tr>\n",
       "    <tr>\n",
       "      <th>4</th>\n",
       "      <td>4.5</td>\n",
       "      <td>American (New)</td>\n",
       "      <td>$$</td>\n",
       "    </tr>\n",
       "  </tbody>\n",
       "</table>\n",
       "</div>"
      ],
      "text/plain": [
       "   rating         categories1 price\n",
       "0     4.5      American (New)   $$$\n",
       "1     4.0  Tapas/Small Plates    $$\n",
       "2     4.5               Salad    $$\n",
       "3     4.5      American (New)    $$\n",
       "4     4.5      American (New)    $$"
      ]
     },
     "execution_count": 140,
     "metadata": {},
     "output_type": "execute_result"
    }
   ],
   "source": [
    "df1=df[[\"rating\",\"categories1\",\"price\"]]\n",
    "df1.head()\n",
    "\n"
   ]
  },
  {
   "cell_type": "code",
   "execution_count": 141,
   "metadata": {
    "collapsed": true
   },
   "outputs": [],
   "source": [
    "df2=df1.copy()\n",
    "\n",
    "\n",
    "\n"
   ]
  },
  {
   "cell_type": "code",
   "execution_count": 142,
   "metadata": {
    "collapsed": false
   },
   "outputs": [
    {
     "data": {
      "text/html": [
       "<div>\n",
       "<table border=\"1\" class=\"dataframe\">\n",
       "  <thead>\n",
       "    <tr style=\"text-align: right;\">\n",
       "      <th></th>\n",
       "      <th>rating</th>\n",
       "      <th>categories1</th>\n",
       "      <th>price</th>\n",
       "    </tr>\n",
       "  </thead>\n",
       "  <tbody>\n",
       "    <tr>\n",
       "      <th>0</th>\n",
       "      <td>4.5</td>\n",
       "      <td>American (New)</td>\n",
       "      <td>3.0</td>\n",
       "    </tr>\n",
       "    <tr>\n",
       "      <th>1</th>\n",
       "      <td>4.0</td>\n",
       "      <td>Tapas/Small Plates</td>\n",
       "      <td>2.0</td>\n",
       "    </tr>\n",
       "    <tr>\n",
       "      <th>2</th>\n",
       "      <td>4.5</td>\n",
       "      <td>Salad</td>\n",
       "      <td>2.0</td>\n",
       "    </tr>\n",
       "    <tr>\n",
       "      <th>3</th>\n",
       "      <td>4.5</td>\n",
       "      <td>American (New)</td>\n",
       "      <td>2.0</td>\n",
       "    </tr>\n",
       "    <tr>\n",
       "      <th>4</th>\n",
       "      <td>4.5</td>\n",
       "      <td>American (New)</td>\n",
       "      <td>2.0</td>\n",
       "    </tr>\n",
       "  </tbody>\n",
       "</table>\n",
       "</div>"
      ],
      "text/plain": [
       "   rating         categories1  price\n",
       "0     4.5      American (New)    3.0\n",
       "1     4.0  Tapas/Small Plates    2.0\n",
       "2     4.5               Salad    2.0\n",
       "3     4.5      American (New)    2.0\n",
       "4     4.5      American (New)    2.0"
      ]
     },
     "execution_count": 142,
     "metadata": {},
     "output_type": "execute_result"
    }
   ],
   "source": [
    "df2['price']=df2['price'].replace('$$',2)\n",
    "df2['price']=df2['price'].replace('$',1)\n",
    "df2['price']=df2['price'].replace('$$$',3)\n",
    "df2['price']=df2['price'].replace('$$$$',4)\n",
    "df2['price']=df2['price'].replace('$$$$$',5)\n",
    "\n",
    "df2.head()\n",
    "\n",
    "\n"
   ]
  },
  {
   "cell_type": "code",
   "execution_count": 143,
   "metadata": {
    "collapsed": true
   },
   "outputs": [],
   "source": [
    "df3=df2.copy()\n"
   ]
  },
  {
   "cell_type": "code",
   "execution_count": 144,
   "metadata": {
    "collapsed": false
   },
   "outputs": [
    {
     "data": {
      "text/html": [
       "<div>\n",
       "<table border=\"1\" class=\"dataframe\">\n",
       "  <thead>\n",
       "    <tr style=\"text-align: right;\">\n",
       "      <th></th>\n",
       "      <th>rating</th>\n",
       "      <th>categories1</th>\n",
       "      <th>price</th>\n",
       "      <th>Quantity</th>\n",
       "    </tr>\n",
       "  </thead>\n",
       "  <tbody>\n",
       "    <tr>\n",
       "      <th>0</th>\n",
       "      <td>4.5</td>\n",
       "      <td>American (New)</td>\n",
       "      <td>3.0</td>\n",
       "      <td>1</td>\n",
       "    </tr>\n",
       "    <tr>\n",
       "      <th>1</th>\n",
       "      <td>4.0</td>\n",
       "      <td>Tapas/Small Plates</td>\n",
       "      <td>2.0</td>\n",
       "      <td>1</td>\n",
       "    </tr>\n",
       "    <tr>\n",
       "      <th>2</th>\n",
       "      <td>4.5</td>\n",
       "      <td>Salad</td>\n",
       "      <td>2.0</td>\n",
       "      <td>1</td>\n",
       "    </tr>\n",
       "    <tr>\n",
       "      <th>3</th>\n",
       "      <td>4.5</td>\n",
       "      <td>American (New)</td>\n",
       "      <td>2.0</td>\n",
       "      <td>1</td>\n",
       "    </tr>\n",
       "    <tr>\n",
       "      <th>4</th>\n",
       "      <td>4.5</td>\n",
       "      <td>American (New)</td>\n",
       "      <td>2.0</td>\n",
       "      <td>1</td>\n",
       "    </tr>\n",
       "  </tbody>\n",
       "</table>\n",
       "</div>"
      ],
      "text/plain": [
       "   rating         categories1  price  Quantity\n",
       "0     4.5      American (New)    3.0         1\n",
       "1     4.0  Tapas/Small Plates    2.0         1\n",
       "2     4.5               Salad    2.0         1\n",
       "3     4.5      American (New)    2.0         1\n",
       "4     4.5      American (New)    2.0         1"
      ]
     },
     "execution_count": 144,
     "metadata": {},
     "output_type": "execute_result"
    }
   ],
   "source": [
    "df3['Quantity']=1\n",
    "df3.head()\n"
   ]
  },
  {
   "cell_type": "code",
   "execution_count": 145,
   "metadata": {
    "collapsed": false
   },
   "outputs": [
    {
     "data": {
      "text/html": [
       "<div>\n",
       "<table border=\"1\" class=\"dataframe\">\n",
       "  <thead>\n",
       "    <tr style=\"text-align: right;\">\n",
       "      <th></th>\n",
       "      <th>categories1</th>\n",
       "      <th>Quantity</th>\n",
       "    </tr>\n",
       "  </thead>\n",
       "  <tbody>\n",
       "    <tr>\n",
       "      <th>0</th>\n",
       "      <td>American (New)</td>\n",
       "      <td>1</td>\n",
       "    </tr>\n",
       "    <tr>\n",
       "      <th>1</th>\n",
       "      <td>Tapas/Small Plates</td>\n",
       "      <td>1</td>\n",
       "    </tr>\n",
       "    <tr>\n",
       "      <th>2</th>\n",
       "      <td>Salad</td>\n",
       "      <td>1</td>\n",
       "    </tr>\n",
       "    <tr>\n",
       "      <th>3</th>\n",
       "      <td>American (New)</td>\n",
       "      <td>1</td>\n",
       "    </tr>\n",
       "    <tr>\n",
       "      <th>4</th>\n",
       "      <td>American (New)</td>\n",
       "      <td>1</td>\n",
       "    </tr>\n",
       "  </tbody>\n",
       "</table>\n",
       "</div>"
      ],
      "text/plain": [
       "          categories1  Quantity\n",
       "0      American (New)         1\n",
       "1  Tapas/Small Plates         1\n",
       "2               Salad         1\n",
       "3      American (New)         1\n",
       "4      American (New)         1"
      ]
     },
     "execution_count": 145,
     "metadata": {},
     "output_type": "execute_result"
    }
   ],
   "source": [
    "\n",
    "dfcount=df3[[\"categories1\",\"Quantity\"]]\n",
    "dfcount.head()\n"
   ]
  },
  {
   "cell_type": "code",
   "execution_count": 146,
   "metadata": {
    "collapsed": false
   },
   "outputs": [
    {
     "data": {
      "text/html": [
       "<div>\n",
       "<table border=\"1\" class=\"dataframe\">\n",
       "  <thead>\n",
       "    <tr style=\"text-align: right;\">\n",
       "      <th></th>\n",
       "      <th>categories1</th>\n",
       "      <th>Quantity</th>\n",
       "    </tr>\n",
       "  </thead>\n",
       "  <tbody>\n",
       "    <tr>\n",
       "      <th>0</th>\n",
       "      <td>Active Life</td>\n",
       "      <td>1</td>\n",
       "    </tr>\n",
       "    <tr>\n",
       "      <th>1</th>\n",
       "      <td>Afghan</td>\n",
       "      <td>1</td>\n",
       "    </tr>\n",
       "    <tr>\n",
       "      <th>2</th>\n",
       "      <td>African</td>\n",
       "      <td>1</td>\n",
       "    </tr>\n",
       "    <tr>\n",
       "      <th>3</th>\n",
       "      <td>American (New)</td>\n",
       "      <td>286</td>\n",
       "    </tr>\n",
       "    <tr>\n",
       "      <th>4</th>\n",
       "      <td>American (Traditional)</td>\n",
       "      <td>67</td>\n",
       "    </tr>\n",
       "  </tbody>\n",
       "</table>\n",
       "</div>"
      ],
      "text/plain": [
       "              categories1  Quantity\n",
       "0             Active Life         1\n",
       "1                  Afghan         1\n",
       "2                 African         1\n",
       "3          American (New)       286\n",
       "4  American (Traditional)        67"
      ]
     },
     "execution_count": 146,
     "metadata": {},
     "output_type": "execute_result"
    }
   ],
   "source": [
    "dd=dfcount.groupby([\"categories1\"],as_index=False).count()\n",
    "dd.head()"
   ]
  },
  {
   "cell_type": "code",
   "execution_count": 172,
   "metadata": {
    "collapsed": false
   },
   "outputs": [],
   "source": [
    "# df_cate=dfcount.query('Quantity>10')\n",
    "# df_cate=df_cate.sort_values([\"Quantity\"],ascending=[False])\n",
    "# df_cate.head()"
   ]
  },
  {
   "cell_type": "code",
   "execution_count": 147,
   "metadata": {
    "collapsed": false
   },
   "outputs": [
    {
     "data": {
      "text/plain": [
       "pandas.core.series.Series"
      ]
     },
     "execution_count": 147,
     "metadata": {},
     "output_type": "execute_result"
    }
   ],
   "source": [
    "type(df2.rating)"
   ]
  },
  {
   "cell_type": "code",
   "execution_count": 153,
   "metadata": {
    "collapsed": false
   },
   "outputs": [
    {
     "data": {
      "text/html": [
       "<div>\n",
       "<table border=\"1\" class=\"dataframe\">\n",
       "  <thead>\n",
       "    <tr style=\"text-align: right;\">\n",
       "      <th></th>\n",
       "      <th>categories1</th>\n",
       "      <th>rating</th>\n",
       "      <th>price</th>\n",
       "    </tr>\n",
       "  </thead>\n",
       "  <tbody>\n",
       "    <tr>\n",
       "      <th>0</th>\n",
       "      <td>Active Life</td>\n",
       "      <td>4.500000</td>\n",
       "      <td>NaN</td>\n",
       "    </tr>\n",
       "    <tr>\n",
       "      <th>1</th>\n",
       "      <td>Afghan</td>\n",
       "      <td>4.500000</td>\n",
       "      <td>2.000000</td>\n",
       "    </tr>\n",
       "    <tr>\n",
       "      <th>2</th>\n",
       "      <td>African</td>\n",
       "      <td>4.500000</td>\n",
       "      <td>1.000000</td>\n",
       "    </tr>\n",
       "    <tr>\n",
       "      <th>3</th>\n",
       "      <td>American (New)</td>\n",
       "      <td>4.094406</td>\n",
       "      <td>2.318182</td>\n",
       "    </tr>\n",
       "    <tr>\n",
       "      <th>4</th>\n",
       "      <td>American (Traditional)</td>\n",
       "      <td>4.014925</td>\n",
       "      <td>1.985075</td>\n",
       "    </tr>\n",
       "  </tbody>\n",
       "</table>\n",
       "</div>"
      ],
      "text/plain": [
       "              categories1    rating     price\n",
       "0             Active Life  4.500000       NaN\n",
       "1                  Afghan  4.500000  2.000000\n",
       "2                 African  4.500000  1.000000\n",
       "3          American (New)  4.094406  2.318182\n",
       "4  American (Traditional)  4.014925  1.985075"
      ]
     },
     "execution_count": 153,
     "metadata": {},
     "output_type": "execute_result"
    }
   ],
   "source": [
    "df4=df2.groupby([\"categories1\"],as_index=False).mean()\n",
    "df4.head()\n",
    "\n"
   ]
  },
  {
   "cell_type": "code",
   "execution_count": 148,
   "metadata": {
    "collapsed": false
   },
   "outputs": [
    {
     "data": {
      "text/html": [
       "<div>\n",
       "<table border=\"1\" class=\"dataframe\">\n",
       "  <thead>\n",
       "    <tr style=\"text-align: right;\">\n",
       "      <th></th>\n",
       "      <th>categories1</th>\n",
       "      <th>Quantity</th>\n",
       "      <th>rating</th>\n",
       "      <th>price</th>\n",
       "    </tr>\n",
       "  </thead>\n",
       "  <tbody>\n",
       "    <tr>\n",
       "      <th>0</th>\n",
       "      <td>Active Life</td>\n",
       "      <td>1</td>\n",
       "      <td>4.500000</td>\n",
       "      <td>NaN</td>\n",
       "    </tr>\n",
       "    <tr>\n",
       "      <th>1</th>\n",
       "      <td>Afghan</td>\n",
       "      <td>1</td>\n",
       "      <td>4.500000</td>\n",
       "      <td>2.000000</td>\n",
       "    </tr>\n",
       "    <tr>\n",
       "      <th>2</th>\n",
       "      <td>African</td>\n",
       "      <td>1</td>\n",
       "      <td>4.500000</td>\n",
       "      <td>1.000000</td>\n",
       "    </tr>\n",
       "    <tr>\n",
       "      <th>3</th>\n",
       "      <td>American (New)</td>\n",
       "      <td>286</td>\n",
       "      <td>4.094406</td>\n",
       "      <td>2.318182</td>\n",
       "    </tr>\n",
       "    <tr>\n",
       "      <th>4</th>\n",
       "      <td>American (Traditional)</td>\n",
       "      <td>67</td>\n",
       "      <td>4.014925</td>\n",
       "      <td>1.985075</td>\n",
       "    </tr>\n",
       "  </tbody>\n",
       "</table>\n",
       "</div>"
      ],
      "text/plain": [
       "              categories1  Quantity    rating     price\n",
       "0             Active Life         1  4.500000       NaN\n",
       "1                  Afghan         1  4.500000  2.000000\n",
       "2                 African         1  4.500000  1.000000\n",
       "3          American (New)       286  4.094406  2.318182\n",
       "4  American (Traditional)        67  4.014925  1.985075"
      ]
     },
     "execution_count": 148,
     "metadata": {},
     "output_type": "execute_result"
    }
   ],
   "source": [
    "df_rpq=pd.merge(dd,df4,on='categories1')\n",
    "df_rpq.head()\n",
    "\n",
    "\n",
    "\n"
   ]
  },
  {
   "cell_type": "code",
   "execution_count": 149,
   "metadata": {
    "collapsed": false
   },
   "outputs": [
    {
     "data": {
      "text/html": [
       "<div>\n",
       "<table border=\"1\" class=\"dataframe\">\n",
       "  <thead>\n",
       "    <tr style=\"text-align: right;\">\n",
       "      <th></th>\n",
       "      <th>categories1</th>\n",
       "      <th>Quantity</th>\n",
       "      <th>rating</th>\n",
       "      <th>price</th>\n",
       "    </tr>\n",
       "  </thead>\n",
       "  <tbody>\n",
       "    <tr>\n",
       "      <th>3</th>\n",
       "      <td>American (New)</td>\n",
       "      <td>286</td>\n",
       "      <td>4.094406</td>\n",
       "      <td>2.318182</td>\n",
       "    </tr>\n",
       "    <tr>\n",
       "      <th>88</th>\n",
       "      <td>Italian</td>\n",
       "      <td>208</td>\n",
       "      <td>4.122596</td>\n",
       "      <td>2.278846</td>\n",
       "    </tr>\n",
       "    <tr>\n",
       "      <th>102</th>\n",
       "      <td>Mexican</td>\n",
       "      <td>100</td>\n",
       "      <td>4.230000</td>\n",
       "      <td>1.650000</td>\n",
       "    </tr>\n",
       "    <tr>\n",
       "      <th>14</th>\n",
       "      <td>Bars</td>\n",
       "      <td>99</td>\n",
       "      <td>4.035354</td>\n",
       "      <td>2.080808</td>\n",
       "    </tr>\n",
       "    <tr>\n",
       "      <th>127</th>\n",
       "      <td>Seafood</td>\n",
       "      <td>83</td>\n",
       "      <td>4.120482</td>\n",
       "      <td>2.409639</td>\n",
       "    </tr>\n",
       "  </tbody>\n",
       "</table>\n",
       "</div>"
      ],
      "text/plain": [
       "        categories1  Quantity    rating     price\n",
       "3    American (New)       286  4.094406  2.318182\n",
       "88          Italian       208  4.122596  2.278846\n",
       "102         Mexican       100  4.230000  1.650000\n",
       "14             Bars        99  4.035354  2.080808\n",
       "127         Seafood        83  4.120482  2.409639"
      ]
     },
     "execution_count": 149,
     "metadata": {},
     "output_type": "execute_result"
    }
   ],
   "source": [
    "df_ByQu=df_rpq.sort_values([\"Quantity\"],ascending=[False])\n",
    "\n",
    "df_result=df_ByQu.query('Quantity>20')\n",
    "df_result.head()"
   ]
  },
  {
   "cell_type": "code",
   "execution_count": 150,
   "metadata": {
    "collapsed": false
   },
   "outputs": [
    {
     "data": {
      "image/png": "[encoded data removed]",
      "text/plain": [
       "<matplotlib.figure.Figure at 0x11c1053c8>"
      ]
     },
     "metadata": {},
     "output_type": "display_data"
    }
   ],
   "source": [
    "import matplotlib.pyplot as plt\n",
    "\n",
    "\n",
    "ax=df_result.plot(x=\"categories1\",y=\"Quantity\",kind='bar', title =\"Restaurant Category \", figsize=(15, 10), legend=True, fontsize=8)\n",
    "ax.set_ylabel(\"Quantity\", fontsize=12)\n",
    "ax.set_xlabel(\"Category\", fontsize=12)\n",
    "plt.xticks(rotation = 45)\n",
    "\n",
    "plt.show()"
   ]
  },
  {
   "cell_type": "code",
   "execution_count": 151,
   "metadata": {
    "collapsed": false
   },
   "outputs": [
    {
     "data": {
      "text/html": [
       "<div>\n",
       "<table border=\"1\" class=\"dataframe\">\n",
       "  <thead>\n",
       "    <tr style=\"text-align: right;\">\n",
       "      <th></th>\n",
       "      <th>categories1</th>\n",
       "      <th>Quantity</th>\n",
       "      <th>rating</th>\n",
       "      <th>price</th>\n",
       "    </tr>\n",
       "  </thead>\n",
       "  <tbody>\n",
       "    <tr>\n",
       "      <th>45</th>\n",
       "      <td>Coffee &amp; Tea</td>\n",
       "      <td>59</td>\n",
       "      <td>4.296610</td>\n",
       "      <td>1.423729</td>\n",
       "    </tr>\n",
       "    <tr>\n",
       "      <th>30</th>\n",
       "      <td>Cafes</td>\n",
       "      <td>34</td>\n",
       "      <td>4.294118</td>\n",
       "      <td>1.676471</td>\n",
       "    </tr>\n",
       "    <tr>\n",
       "      <th>126</th>\n",
       "      <td>Sandwiches</td>\n",
       "      <td>31</td>\n",
       "      <td>4.290323</td>\n",
       "      <td>1.419355</td>\n",
       "    </tr>\n",
       "    <tr>\n",
       "      <th>159</th>\n",
       "      <td>Wine Bars</td>\n",
       "      <td>37</td>\n",
       "      <td>4.270270</td>\n",
       "      <td>2.135135</td>\n",
       "    </tr>\n",
       "    <tr>\n",
       "      <th>102</th>\n",
       "      <td>Mexican</td>\n",
       "      <td>100</td>\n",
       "      <td>4.230000</td>\n",
       "      <td>1.650000</td>\n",
       "    </tr>\n",
       "  </tbody>\n",
       "</table>\n",
       "</div>"
      ],
      "text/plain": [
       "      categories1  Quantity    rating     price\n",
       "45   Coffee & Tea        59  4.296610  1.423729\n",
       "30          Cafes        34  4.294118  1.676471\n",
       "126    Sandwiches        31  4.290323  1.419355\n",
       "159     Wine Bars        37  4.270270  2.135135\n",
       "102       Mexican       100  4.230000  1.650000"
      ]
     },
     "execution_count": 151,
     "metadata": {},
     "output_type": "execute_result"
    }
   ],
   "source": [
    "ByRating=df_result.sort_values([\"rating\"],ascending=[False])\n",
    "ByRating.head()\n",
    "\n",
    "\n"
   ]
  },
  {
   "cell_type": "code",
   "execution_count": 63,
   "metadata": {
    "collapsed": false
   },
   "outputs": [
    {
     "data": {
      "image/png": "[encoded data removed]",
      "text/plain": [
       "<matplotlib.figure.Figure at 0x11e83ce10>"
      ]
     },
     "metadata": {},
     "output_type": "display_data"
    }
   ],
   "source": [
    "ax=df_result.plot(x=\"categories1\",y=[\"rating\",\"price\"],kind='bar', title =\"Price and Rating\", figsize=(15, 10), legend=True, fontsize=8)\n",
    "\n",
    "ax.set_ylabel(\"Quantity\", fontsize=12)\n",
    "ax.set_xlabel(\"Category\", fontsize=12)\n",
    "plt.xticks(rotation = 45)\n",
    "\n",
    "\n",
    "plt.show()\n"
   ]
  },
  {
   "cell_type": "code",
   "execution_count": 152,
   "metadata": {
    "collapsed": false
   },
   "outputs": [
    {
     "data": {
      "text/html": [
       "<div>\n",
       "<table border=\"1\" class=\"dataframe\">\n",
       "  <thead>\n",
       "    <tr style=\"text-align: right;\">\n",
       "      <th></th>\n",
       "      <th>categories1</th>\n",
       "      <th>Quantity</th>\n",
       "      <th>rating</th>\n",
       "      <th>price</th>\n",
       "    </tr>\n",
       "  </thead>\n",
       "  <tbody>\n",
       "    <tr>\n",
       "      <th>69</th>\n",
       "      <td>French</td>\n",
       "      <td>52</td>\n",
       "      <td>4.086538</td>\n",
       "      <td>2.519231</td>\n",
       "    </tr>\n",
       "    <tr>\n",
       "      <th>127</th>\n",
       "      <td>Seafood</td>\n",
       "      <td>83</td>\n",
       "      <td>4.120482</td>\n",
       "      <td>2.409639</td>\n",
       "    </tr>\n",
       "    <tr>\n",
       "      <th>3</th>\n",
       "      <td>American (New)</td>\n",
       "      <td>286</td>\n",
       "      <td>4.094406</td>\n",
       "      <td>2.318182</td>\n",
       "    </tr>\n",
       "    <tr>\n",
       "      <th>88</th>\n",
       "      <td>Italian</td>\n",
       "      <td>208</td>\n",
       "      <td>4.122596</td>\n",
       "      <td>2.278846</td>\n",
       "    </tr>\n",
       "    <tr>\n",
       "      <th>142</th>\n",
       "      <td>Sushi Bars</td>\n",
       "      <td>32</td>\n",
       "      <td>4.109375</td>\n",
       "      <td>2.218750</td>\n",
       "    </tr>\n",
       "  </tbody>\n",
       "</table>\n",
       "</div>"
      ],
      "text/plain": [
       "        categories1  Quantity    rating     price\n",
       "69           French        52  4.086538  2.519231\n",
       "127         Seafood        83  4.120482  2.409639\n",
       "3    American (New)       286  4.094406  2.318182\n",
       "88          Italian       208  4.122596  2.278846\n",
       "142      Sushi Bars        32  4.109375  2.218750"
      ]
     },
     "execution_count": 152,
     "metadata": {},
     "output_type": "execute_result"
    }
   ],
   "source": [
    "ByPrice=df_result.sort_values([\"price\"],ascending=[False])\n",
    "ByPrice.head()\n",
    "\n",
    "\n",
    "\n"
   ]
  },
  {
   "cell_type": "code",
   "execution_count": null,
   "metadata": {
    "collapsed": true
   },
   "outputs": [],
   "source": []
  }
 ],
 "metadata": {
  "anaconda-cloud": {},
  "kernelspec": {
   "display_name": "Python [conda root]",
   "language": "python",
   "name": "conda-root-py"
  },
  "language_info": {
   "codemirror_mode": {
    "name": "ipython",
    "version": 3
   },
   "file_extension": ".py",
   "mimetype": "text/x-python",
   "name": "python",
   "nbconvert_exporter": "python",
   "pygments_lexer": "ipython3",
   "version": "3.5.2"
  }
 },
 "nbformat": 4,
 "nbformat_minor": 1
}
