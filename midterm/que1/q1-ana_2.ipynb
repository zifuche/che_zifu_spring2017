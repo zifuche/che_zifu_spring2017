{
 "cells": [
  {
   "cell_type": "markdown",
   "metadata": {},
   "source": [
    "# Question1\n",
    "Anaysis2\n",
    "\n",
    "1. Choose several top mail receivers to analyze their email content\n",
    "\n",
    "1) "
   ]
  },
  {
   "cell_type": "code",
   "execution_count": 29,
   "metadata": {
    "collapsed": false
   },
   "outputs": [],
   "source": [
    "import nltk\n",
    "from nltk.classify import NaiveBayesClassifier\n",
    "from nltk.corpus import subjectivity\n",
    "from nltk.sentiment import SentimentAnalyzer\n",
    "from nltk.sentiment.util import *\n",
    "from nltk.sentiment.vader import SentimentIntensityAnalyzer\n",
    "import nltk.sentiment.vader\n",
    "import os\n",
    "import email\n",
    "from email.parser import Parser\n",
    "import nltk\n",
    "import glob\n",
    "from email.utils import parsedate_tz\n",
    "import pathlib\n",
    "import os\n",
    "from pathlib import Path\n",
    "from nltk.probability import FreqDist\n",
    "from nltk import word_tokenize\n",
    "from nltk.corpus import stopwords\n",
    "import string"
   ]
  },
  {
   "cell_type": "markdown",
   "metadata": {
    "collapsed": false
   },
   "source": [
    "According to last analysis,list top 5 receivers:\n",
    "1)richard.shapiro@enron.com\n",
    "2)jeff.dasovich@enron.com\n",
    "3)tana.jones@enron.com\n",
    "4)steven.kean@enron.com\n",
    "5)sara.shackleton@enron.com\n",
    "\n",
    "\n",
    "\n",
    "The analysis will focus their inbox mails \n",
    "\n"
   ]
  },
  {
   "cell_type": "code",
   "execution_count": 84,
   "metadata": {
    "collapsed": false
   },
   "outputs": [],
   "source": [
    "vipfilenamelist=[\"shapiro-r\",\"dasovich-j\",\"jones-t\",\"kean-s\",\"shackleton-s\"]\n",
    "\n",
    "def vippath(filenamelist):\n",
    "    vippathlist=[]\n",
    "    for name in filenamelist:\n",
    "        vippathlist.append(os.path.dirname(os.getcwd())+\"/raw data/maildir/\"+name+\"/inbox\")      \n",
    "    return vippathlist     \n",
    "    \n",
    "\n",
    "\n",
    "\n"
   ]
  },
  {
   "cell_type": "code",
   "execution_count": 112,
   "metadata": {
    "collapsed": false
   },
   "outputs": [
    {
     "data": {
      "text/plain": [
       "['/Users/zifuche/Desktop/midterm/raw data/maildir/shapiro-r/inbox',\n",
       " '/Users/zifuche/Desktop/midterm/raw data/maildir/dasovich-j/inbox',\n",
       " '/Users/zifuche/Desktop/midterm/raw data/maildir/jones-t/inbox',\n",
       " '/Users/zifuche/Desktop/midterm/raw data/maildir/kean-s/inbox',\n",
       " '/Users/zifuche/Desktop/midterm/raw data/maildir/shackleton-s/inbox']"
      ]
     },
     "execution_count": 112,
     "metadata": {},
     "output_type": "execute_result"
    }
   ],
   "source": [
    "vippath(vipfilenamelist)"
   ]
  },
  {
   "cell_type": "code",
   "execution_count": 55,
   "metadata": {
    "collapsed": false
   },
   "outputs": [],
   "source": [
    "def getemailcontent(path):                             #get email according path\n",
    "    with open(path, 'r',encoding='utf-8',errors='ignore') as ex:      \n",
    "        content = ex.read()\n",
    "        email=Parser().parsestr(content)\n",
    "        return(email.get_payload())\n",
    "    \n"
   ]
  },
  {
   "cell_type": "code",
   "execution_count": null,
   "metadata": {
    "collapsed": false
   },
   "outputs": [],
   "source": []
  },
  {
   "cell_type": "code",
   "execution_count": 89,
   "metadata": {
    "collapsed": false
   },
   "outputs": [],
   "source": [
    "def getallfile(path):                         #get files path according to dir path\n",
    "    allfiles=[os.path.join(root,fn) for root,dirs,files in os.walk(path) for fn in files if fn.endswith(\".\")] \n",
    "    return (allfiles)\n",
    "    \n",
    "  "
   ]
  },
  {
   "cell_type": "code",
   "execution_count": 90,
   "metadata": {
    "collapsed": true
   },
   "outputs": [],
   "source": [
    "def cleanword(rawcontent):\n",
    "    wordlist=[i for i in word_tokenize(rawcontent.lower()) if i not in stopwords.words('english') and i not in string.punctuation and i.isalpha()]\n",
    "    return wordlist"
   ]
  },
  {
   "cell_type": "code",
   "execution_count": 91,
   "metadata": {
    "collapsed": true
   },
   "outputs": [],
   "source": [
    "def getallemailwordslist(path):\n",
    "    wordlist=[]\n",
    "    filespath=getallfile(path)\n",
    "    for eachfilepath in filespath:\n",
    "        words=cleanword(getemailcontent(eachfilepath))\n",
    "        wordlist.extend(words)\n",
    "    return wordlist    \n",
    "        \n",
    "    \n",
    "    "
   ]
  },
  {
   "cell_type": "code",
   "execution_count": 93,
   "metadata": {
    "collapsed": false
   },
   "outputs": [],
   "source": [
    "# name=\"shapiro-r\"\n",
    "# s=getallemailwordslist(os.path.dirname(os.getcwd())+\"/raw data/maildir/\"+name+\"/sent\")\n"
   ]
  },
  {
   "cell_type": "code",
   "execution_count": 94,
   "metadata": {
    "collapsed": false
   },
   "outputs": [],
   "source": [
    "wordbase=[]\n",
    "for path in vippath(vipfilenamelist):\n",
    "    wordbase.extend(getallemailwordslist(path))\n",
    "    "
   ]
  },
  {
   "cell_type": "code",
   "execution_count": 154,
   "metadata": {
    "collapsed": false
   },
   "outputs": [
    {
     "data": {
      "text/plain": [
       "850975"
      ]
     },
     "execution_count": 154,
     "metadata": {},
     "output_type": "execute_result"
    }
   ],
   "source": [
    "len(wordbase)"
   ]
  },
  {
   "cell_type": "code",
   "execution_count": 139,
   "metadata": {
    "collapsed": false
   },
   "outputs": [
    {
     "data": {
      "text/plain": [
       "[('enron', 13252),\n",
       " ('said', 5871),\n",
       " ('company', 5641),\n",
       " ('power', 4329),\n",
       " ('message', 4060),\n",
       " ('would', 3980),\n",
       " ('energy', 3936),\n",
       " ('sent', 3737),\n",
       " ('subject', 3715),\n",
       " ('please', 3484),\n",
       " ('new', 3446),\n",
       " ('http', 3342),\n",
       " ('gas', 2736),\n",
       " ('jones', 2524),\n",
       " ('may', 2396),\n",
       " ('pm', 2391),\n",
       " ('td', 2276),\n",
       " ('business', 2257),\n",
       " ('state', 2220),\n",
       " ('also', 2187),\n",
       " ('credit', 2155),\n",
       " ('market', 2092),\n",
       " ('one', 2014),\n",
       " ('financial', 2005),\n",
       " ('billion', 1964),\n",
       " ('october', 1949),\n",
       " ('information', 1905),\n",
       " ('trading', 1901),\n",
       " ('dow', 1870),\n",
       " ('million', 1867),\n",
       " ('agreement', 1843),\n",
       " ('us', 1777),\n",
       " ('br', 1764),\n",
       " ('california', 1732),\n",
       " ('could', 1727),\n",
       " ('thanks', 1690),\n",
       " ('year', 1645),\n",
       " ('e', 1629),\n",
       " ('last', 1616),\n",
       " ('time', 1603),\n",
       " ('tr', 1600),\n",
       " ('call', 1593),\n",
       " ('nbsp', 1591),\n",
       " ('font', 1589),\n",
       " ('sara', 1579),\n",
       " ('jeff', 1575),\n",
       " ('know', 1565),\n",
       " ('stock', 1538),\n",
       " ('cc', 1476),\n",
       " ('get', 1473)]"
      ]
     },
     "execution_count": 139,
     "metadata": {},
     "output_type": "execute_result"
    }
   ],
   "source": [
    "wordfreq=sorted(FreqDist(wordbase).items(),key=lambda x:x[1],reverse=True)\n",
    "wordfreq[:50]"
   ]
  },
  {
   "cell_type": "code",
   "execution_count": 107,
   "metadata": {
    "collapsed": false
   },
   "outputs": [
    {
     "data": {
      "text/plain": [
       "4329"
      ]
     },
     "execution_count": 107,
     "metadata": {},
     "output_type": "execute_result"
    }
   ],
   "source": [
    "wordbase.count(\"power\")\n"
   ]
  },
  {
   "cell_type": "code",
   "execution_count": 116,
   "metadata": {
    "collapsed": false
   },
   "outputs": [],
   "source": [
    "def cleanword(rawcontent):\n",
    "    wordlist=[i for i in word_tokenize(rawcontent.lower()) if i not in stopwords.words('english') and i not in string.punctuation]\n",
    "    return wordlist\n",
    "\n",
    "\n",
    "\n"
   ]
  },
  {
   "cell_type": "code",
   "execution_count": 130,
   "metadata": {
    "collapsed": true
   },
   "outputs": [],
   "source": [
    "def mailquantityofdate(path):                       #mail date\n",
    "    with open(path, 'r',encoding='utf-8',errors='ignore') as exa:\n",
    "        content=exa.read()\n",
    "        email=Parser().parsestr(content)\n",
    "        t=parsedate_tz(email[\"date\"])\n",
    "        return (str(t[0])+\"-\"+str(t[1])) \n",
    "\n",
    "\n",
    "\n"
   ]
  },
  {
   "cell_type": "code",
   "execution_count": 131,
   "metadata": {
    "collapsed": false
   },
   "outputs": [],
   "source": [
    "emailQuantperMonth=[]\n",
    "for path in vippath(vipfilenamelist):\n",
    "    allfiles=getallfile(path)    \n",
    "    for f in allfiles:\n",
    "        emailQuantperMonth.append(mailquantityofdate(f))\n",
    "        \n",
    "    \n",
    "    \n",
    "    "
   ]
  },
  {
   "cell_type": "code",
   "execution_count": 132,
   "metadata": {
    "collapsed": false
   },
   "outputs": [
    {
     "data": {
      "text/plain": [
       "3526"
      ]
     },
     "execution_count": 132,
     "metadata": {},
     "output_type": "execute_result"
    }
   ],
   "source": [
    "len(emailQuantperMonth)"
   ]
  },
  {
   "cell_type": "code",
   "execution_count": 135,
   "metadata": {
    "collapsed": false
   },
   "outputs": [
    {
     "data": {
      "text/plain": [
       "FreqDist({'2001-10': 1263,\n",
       "          '2001-11': 937,\n",
       "          '2001-12': 380,\n",
       "          '2001-7': 10,\n",
       "          '2001-8': 6,\n",
       "          '2001-9': 593,\n",
       "          '2002-1': 129,\n",
       "          '2002-2': 101,\n",
       "          '2002-3': 107})"
      ]
     },
     "execution_count": 135,
     "metadata": {},
     "output_type": "execute_result"
    }
   ],
   "source": [
    "fd=FreqDist(emailQuantperMonth)\n",
    "Time = list(fd.keys())\n",
    "Quantities = list(fd.values())\n",
    "fd"
   ]
  },
  {
   "cell_type": "code",
   "execution_count": null,
   "metadata": {
    "collapsed": true
   },
   "outputs": [],
   "source": [
    "import matplotlib.pyplot as pltl\n",
    "%matplotlib inline"
   ]
  },
  {
   "cell_type": "code",
   "execution_count": null,
   "metadata": {
    "collapsed": true
   },
   "outputs": [],
   "source": [
    "Time=[1,2,3,4,5,6,7,8,9]\n",
    "Quantities=[10,6,593,1263,937,380,129,101,107]"
   ]
  },
  {
   "cell_type": "code",
   "execution_count": 156,
   "metadata": {
    "collapsed": false
   },
   "outputs": [
    {
     "data": {
      "image/png": "[encoded data removed]",
      "text/plain": [
       "<matplotlib.figure.Figure at 0x11aae5588>"
      ]
     },
     "metadata": {},
     "output_type": "display_data"
    }
   ],
   "source": [
    "# Show Email Distrubution per Month\n",
    "# Times=em.keys()\n",
    "# Quantities=em.values()\n",
    "my_xticks=['2001-7','2001-8','2001-9','2001-10','2001-11','2001-12','2002-1','2002-2','2002-3']\n",
    "pltl.bar(Time,Quantities)\n",
    "pltl.title(\"Email Distrbution\",fontsize=16,fontweight=\"bold\")\n",
    "pltl.xlabel(\"Times\",fontsize=12,fontweight=\"bold\")\n",
    "pltl.xticks(Time,my_xticks,rotation=30)\n",
    "pltl.ylabel(\"Email Quantities\",fontsize=12,fontweight=\"bold\")\n",
    "pltl.grid(True)\n",
    "pltl.show()"
   ]
  },
  {
   "cell_type": "code",
   "execution_count": null,
   "metadata": {
    "collapsed": true
   },
   "outputs": [],
   "source": []
  }
 ],
 "metadata": {
  "anaconda-cloud": {},
  "kernelspec": {
   "display_name": "Python [conda root]",
   "language": "python",
   "name": "conda-root-py"
  },
  "language_info": {
   "codemirror_mode": {
    "name": "ipython",
    "version": 3
   },
   "file_extension": ".py",
   "mimetype": "text/x-python",
   "name": "python",
   "nbconvert_exporter": "python",
   "pygments_lexer": "ipython3",
   "version": "3.5.2"
  }
 },
 "nbformat": 4,
 "nbformat_minor": 1
}
