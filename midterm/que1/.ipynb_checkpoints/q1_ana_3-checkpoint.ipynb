{
 "cells": [
  {
   "cell_type": "markdown",
   "metadata": {},
   "source": [
    "Analyze 3： \n",
    "Business topic distribution per Month\n",
    "Business topic :\n",
    "Create important vocabularies from high frequency words list from analysis 2:\n",
    "include:{enron, gas, price, power,company,energy,trading,service,credit}\n",
    "\n",
    "\n"
   ]
  },
  {
   "cell_type": "code",
   "execution_count": 78,
   "metadata": {
    "collapsed": true
   },
   "outputs": [],
   "source": [
    "import nltk\n",
    "from nltk.classify import NaiveBayesClassifier\n",
    "from nltk.corpus import subjectivity\n",
    "from nltk.sentiment import SentimentAnalyzer\n",
    "from nltk.sentiment.util import *\n",
    "from nltk.sentiment.vader import SentimentIntensityAnalyzer\n",
    "import nltk.sentiment.vader\n",
    "import os\n",
    "import email\n",
    "from email.parser import Parser\n",
    "import nltk\n",
    "import glob\n",
    "from email.utils import parsedate_tz\n",
    "import pathlib\n",
    "import os\n",
    "from pathlib import Path\n",
    "from nltk.probability import FreqDist\n",
    "from nltk import word_tokenize\n",
    "from nltk.corpus import stopwords\n",
    "import string\n"
   ]
  },
  {
   "cell_type": "code",
   "execution_count": 71,
   "metadata": {
    "collapsed": true
   },
   "outputs": [],
   "source": [
    "def returnmaildate(path):                       #mail date\n",
    "    with open(path, 'r',encoding='utf-8',errors='ignore') as exa:\n",
    "        content=exa.read()\n",
    "        email=Parser().parsestr(content)\n",
    "        t=parsedate_tz(email[\"date\"])\n",
    "        if t[2]<16:\n",
    "            q=\"first\"\n",
    "        else:\n",
    "            q=\"second\"\n",
    "        return (str(t[0])+\"-\"+str(t[1])+\"-\"+q) \n",
    "        "
   ]
  },
  {
   "cell_type": "code",
   "execution_count": 70,
   "metadata": {
    "collapsed": true
   },
   "outputs": [],
   "source": [
    "def cleanword(rawcontent):\n",
    "    wordlist=[i for i in word_tokenize(rawcontent.lower()) if i not in stopwords.words('english') and i not in string.punctuation and i.isalpha()]\n",
    "    return wordlist"
   ]
  },
  {
   "cell_type": "code",
   "execution_count": 72,
   "metadata": {
    "collapsed": true
   },
   "outputs": [],
   "source": [
    "vipfilenamelist=[\"shapiro-r\",\"dasovich-j\",\"jones-t\",\"kean-s\",\"shackleton-s\"]\n",
    "\n",
    "def vippath(filenamelist):\n",
    "    vippathlist=[]\n",
    "    for name in filenamelist:\n",
    "        vippathlist.append(os.path.dirname(os.getcwd())+\"/raw data/maildir/\"+name+\"/inbox\")      \n",
    "    return vippathlist "
   ]
  },
  {
   "cell_type": "code",
   "execution_count": 73,
   "metadata": {
    "collapsed": false
   },
   "outputs": [
    {
     "data": {
      "text/plain": [
       "['/Users/zifuche/Desktop/midterm/raw data/maildir/shapiro-r/inbox',\n",
       " '/Users/zifuche/Desktop/midterm/raw data/maildir/dasovich-j/inbox',\n",
       " '/Users/zifuche/Desktop/midterm/raw data/maildir/jones-t/inbox',\n",
       " '/Users/zifuche/Desktop/midterm/raw data/maildir/kean-s/inbox',\n",
       " '/Users/zifuche/Desktop/midterm/raw data/maildir/shackleton-s/inbox']"
      ]
     },
     "execution_count": 73,
     "metadata": {},
     "output_type": "execute_result"
    }
   ],
   "source": [
    "vippath(vipfilenamelist)\n"
   ]
  },
  {
   "cell_type": "code",
   "execution_count": 74,
   "metadata": {
    "collapsed": true
   },
   "outputs": [],
   "source": [
    "def getallfile(path):                         #get files path according to dir path\n",
    "    allfiles=[os.path.join(root,fn) for root,dirs,files in os.walk(path) for fn in files if fn.endswith(\".\")] \n",
    "    return (allfiles)"
   ]
  },
  {
   "cell_type": "code",
   "execution_count": null,
   "metadata": {
    "collapsed": false
   },
   "outputs": [],
   "source": [
    "\n",
    "\n",
    "\n"
   ]
  },
  {
   "cell_type": "code",
   "execution_count": 67,
   "metadata": {
    "collapsed": false
   },
   "outputs": [
    {
     "data": {
      "text/plain": [
       "'2001-5-first'"
      ]
     },
     "execution_count": 67,
     "metadata": {},
     "output_type": "execute_result"
    }
   ],
   "source": [
    "returnmaildate(os.path.dirname(os.getcwd())+\"/raw data/maildir/allen-p/_sent_mail/12.\")"
   ]
  },
  {
   "cell_type": "code",
   "execution_count": 75,
   "metadata": {
    "collapsed": true
   },
   "outputs": [],
   "source": [
    "def getemailcontent(path):                             #get email according path\n",
    "    with open(path, 'r',encoding='utf-8',errors='ignore') as ex:      \n",
    "        content = ex.read()\n",
    "        email=Parser().parsestr(content)\n",
    "        return(email.get_payload())"
   ]
  },
  {
   "cell_type": "code",
   "execution_count": 76,
   "metadata": {
    "collapsed": true
   },
   "outputs": [],
   "source": [
    "def getallemailwordslist(path,date):\n",
    "    wordlist=[]\n",
    "    filespath=getallfile(path)\n",
    "    for eachfilepath in filespath:\n",
    "        if returnmaildate(eachfilepath)==date:         \n",
    "            words=cleanword(getemailcontent(eachfilepath))\n",
    "            wordlist.extend(words)\n",
    "    return wordlist "
   ]
  },
  {
   "cell_type": "code",
   "execution_count": 87,
   "metadata": {
    "collapsed": false
   },
   "outputs": [],
   "source": [
    "def getwordpermonth(date):\n",
    "    wordbase=[]\n",
    "    for path in vippath(vipfilenamelist):\n",
    "        wordbase.extend(getallemailwordslist(path,date))\n",
    "    return wordbase    \n"
   ]
  },
  {
   "cell_type": "code",
   "execution_count": null,
   "metadata": {
    "collapsed": false
   },
   "outputs": [],
   "source": []
  },
  {
   "cell_type": "code",
   "execution_count": 91,
   "metadata": {
    "collapsed": true
   },
   "outputs": [],
   "source": [
    "datelist=[\"2001-7-first\",\"2001-7-second\",\"2001-8-first\",\"2001-8-second\",\"2001-9-first\",\"2001-9-second\",\"2001-10-first\",\"2001-10-second\",\"2001-11-first\",\"2001-11-second\",\"2001-12-first\",\"2001-12-second\",\"2002-1-first\",\"2002-1-second\",\"2002-2-first\",\"2002-2-second\",\"2002-3-first\",\"2002-3-second\"]\n",
    "\n",
    "\n"
   ]
  },
  {
   "cell_type": "code",
   "execution_count": 92,
   "metadata": {
    "collapsed": true
   },
   "outputs": [],
   "source": [
    "def caculateword(wordlist):\n",
    "    q=wordlist.count(\"enron\")+wordlist.count(\"gas\")+wordlist.count(\"price\")+wordlist.count(\"power\")+wordlist.count(\"company\")+wordlist.count(\"energy\")+wordlist.count(\"trading\")+wordlist.count(\"service\")+wordlist.count(\"credit\")\n",
    "    return q\n"
   ]
  },
  {
   "cell_type": "code",
   "execution_count": null,
   "metadata": {
    "collapsed": false
   },
   "outputs": [],
   "source": [
    "\n"
   ]
  },
  {
   "cell_type": "code",
   "execution_count": null,
   "metadata": {
    "collapsed": false
   },
   "outputs": [],
   "source": []
  },
  {
   "cell_type": "code",
   "execution_count": 94,
   "metadata": {
    "collapsed": false
   },
   "outputs": [],
   "source": [
    "dic={}\n",
    "for date in datelist:\n",
    "    dic[date]=caculateword(getwordpermonth(date))\n",
    "    \n",
    "    \n",
    "    \n",
    "    \n",
    "    "
   ]
  },
  {
   "cell_type": "code",
   "execution_count": 95,
   "metadata": {
    "collapsed": false
   },
   "outputs": [
    {
     "data": {
      "text/plain": [
       "{'2001-10-first': 5450,\n",
       " '2001-10-second': 10764,\n",
       " '2001-11-first': 8047,\n",
       " '2001-11-second': 2431,\n",
       " '2001-12-first': 311,\n",
       " '2001-12-second': 581,\n",
       " '2001-7-first': 0,\n",
       " '2001-7-second': 589,\n",
       " '2001-8-first': 5,\n",
       " '2001-8-second': 218,\n",
       " '2001-9-first': 3248,\n",
       " '2001-9-second': 3911,\n",
       " '2002-1-first': 89,\n",
       " '2002-1-second': 279,\n",
       " '2002-2-first': 168,\n",
       " '2002-2-second': 139,\n",
       " '2002-3-first': 179,\n",
       " '2002-3-second': 109}"
      ]
     },
     "execution_count": 95,
     "metadata": {},
     "output_type": "execute_result"
    }
   ],
   "source": [
    "dic"
   ]
  },
  {
   "cell_type": "code",
   "execution_count": 101,
   "metadata": {
    "collapsed": true
   },
   "outputs": [],
   "source": [
    "Times=[1,2,3,4,5,6,7,8,9,10,11,12,13,14,15,16,17,18]\n",
    "WordFreq=[0,589,5,218,3248,3911,5450,10764,8047,2431,311,581,89,279,168,139,179,109]"
   ]
  },
  {
   "cell_type": "code",
   "execution_count": 99,
   "metadata": {
    "collapsed": true
   },
   "outputs": [],
   "source": [
    "import matplotlib.pyplot as pltl\n",
    "%matplotlib inline"
   ]
  },
  {
   "cell_type": "code",
   "execution_count": 112,
   "metadata": {
    "collapsed": false
   },
   "outputs": [
    {
     "data": {
      "image/png": "[encoded data removed]",
      "text/plain": [
       "<matplotlib.figure.Figure at 0x1070147f0>"
      ]
     },
     "metadata": {},
     "output_type": "display_data"
    }
   ],
   "source": [
    "my_xticks=['2001-7-first','2001-7-second','2001-8-first','2001-8-second','2001-9-first','2001-9-second','2001-10-first','2001-10-second','2001-11-first','2001-11-second','2001-12-first','2001-12-second','2002-1-first','2002-1-second','2002-2-first','2002-2-second','2002-3-first','2002-3-second']\n",
    "pltl.plot(Times,WordFreq)\n",
    "pltl.title(\"Top word Distribution\",fontsize=16,fontweight=\"bold\")\n",
    "pltl.xlabel(\"Times\",fontsize=12,fontweight=\"bold\")\n",
    "pltl.xticks(Times,my_xticks,rotation=30,fontsize=6)\n",
    "pltl.ylabel(\"Word Freq\",fontsize=12,fontweight=\"bold\")\n",
    "pltl.grid(True)\n",
    "pltl.show()"
   ]
  },
  {
   "cell_type": "code",
   "execution_count": null,
   "metadata": {
    "collapsed": true
   },
   "outputs": [],
   "source": []
  }
 ],
 "metadata": {
  "anaconda-cloud": {},
  "kernelspec": {
   "display_name": "Python [conda root]",
   "language": "python",
   "name": "conda-root-py"
  },
  "language_info": {
   "codemirror_mode": {
    "name": "ipython",
    "version": 3
   },
   "file_extension": ".py",
   "mimetype": "text/x-python",
   "name": "python",
   "nbconvert_exporter": "python",
   "pygments_lexer": "ipython3",
   "version": "3.5.2"
  }
 },
 "nbformat": 4,
 "nbformat_minor": 1
}
