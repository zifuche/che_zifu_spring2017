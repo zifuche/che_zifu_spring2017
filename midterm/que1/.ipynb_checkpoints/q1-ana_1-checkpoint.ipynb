{
 "cells": [
  {
   "cell_type": "markdown",
   "metadata": {
    "collapsed": false
   },
   "source": [
    "# Question1\n",
    "Anaysis1\n",
    "Total Email time distribution\n",
    "\n"
   ]
  },
  {
   "cell_type": "code",
   "execution_count": 1,
   "metadata": {
    "collapsed": true
   },
   "outputs": [],
   "source": [
    "import email\n",
    "from email.parser import Parser\n",
    "import nltk\n",
    "import glob\n",
    "from email.utils import parsedate_tz\n",
    "import pathlib\n",
    "from pathlib import Path\n",
    "from nltk.probability import FreqDist\n",
    "\n",
    "\n",
    "\n",
    "\n"
   ]
  },
  {
   "cell_type": "code",
   "execution_count": 98,
   "metadata": {
    "collapsed": false,
    "scrolled": true
   },
   "outputs": [
    {
     "name": "stdout",
     "output_type": "stream",
     "text": [
      "Reagan,\n",
      "\n",
      "Just wanted to give you an update.  I have changed the unit mix to include some 1 bedrooms and reduced the number of buildings to 12.  Kipp Flores is working on the construction drawings.  At the same time I am pursuing FHA financing.  Once the construction drawings are complete I will send them to you for a revised bid.  Your original bid was competitive and I am still attracted to your firm because of your strong local presence and contacts.\n",
      "\n",
      "Phillip\n",
      "rlehmann@yahoo.com\n",
      "phillip.allen@enron.com\n"
     ]
    }
   ],
   "source": [
    "\n",
    "with open(\"raw data/maildir/allen-p/_sent_mail/12.\", 'r',encoding='utf-8',errors='ignore') as example:\n",
    "    content = example.read()\n",
    "    email=Parser().parsestr(content)\n",
    "    \n",
    "print(email.get_payload())    \n",
    "print(email[\"to\"])  \n",
    "print(email[\"from\"]) \n",
    "\n"
   ]
  },
  {
   "cell_type": "code",
   "execution_count": 99,
   "metadata": {
    "collapsed": false
   },
   "outputs": [
    {
     "name": "stdout",
     "output_type": "stream",
     "text": [
      "Thu, 3 May 2001 15:57:00 -0700 (PDT)\n",
      "(2001, 5, 3)\n"
     ]
    }
   ],
   "source": [
    "print(email[\"date\"])\n",
    "t=parsedate_tz(email[\"date\"])\n",
    "print((t[0],t[1],t[2]))"
   ]
  },
  {
   "cell_type": "code",
   "execution_count": 115,
   "metadata": {
    "collapsed": true
   },
   "outputs": [],
   "source": [
    "def readmailto(path):                                     #mail to\n",
    "    with open(path, 'r',encoding='utf-8',errors='ignore') as exa:\n",
    "        content = exa.read()\n",
    "        email=Parser().parsestr(content)\n",
    "        \n",
    "        return(email[\"to\"])\n",
    "        \n",
    "    "
   ]
  },
  {
   "cell_type": "code",
   "execution_count": 165,
   "metadata": {
    "collapsed": true
   },
   "outputs": [],
   "source": [
    "def readmailfrom(path):                                #mail from\n",
    "    with open(path, 'r',encoding='utf-8',errors='ignore') as exa:\n",
    "        content = exa.read()\n",
    "        email=Parser().parsestr(content)\n",
    "        \n",
    "        return(email[\"from\"])"
   ]
  },
  {
   "cell_type": "code",
   "execution_count": 108,
   "metadata": {
    "collapsed": true
   },
   "outputs": [],
   "source": [
    "def mailquantityofdate(path):                       #mail date\n",
    "    with open(path, 'r',encoding='utf-8',errors='ignore') as exa:\n",
    "        content=exa.read()\n",
    "        email=Parser().parsestr(content)\n",
    "        t=parsedate_tz(email[\"date\"])\n",
    "        return (t[0],t[1]) \n",
    "        \n",
    "        \n",
    "    \n",
    "    "
   ]
  },
  {
   "cell_type": "code",
   "execution_count": 166,
   "metadata": {
    "collapsed": false
   },
   "outputs": [
    {
     "name": "stdout",
     "output_type": "stream",
     "text": [
      "3034\n"
     ]
    }
   ],
   "source": [
    "import os\n",
    "import re\n",
    "path='raw data/maildir/allen-p'\n",
    "\n",
    "\n",
    "fns=[os.path.join(root,fn) for root,dirs,files in os.walk(path) for fn in files if fn.endswith(\".\")]\n",
    "print(len(fns))\n",
    "    "
   ]
  },
  {
   "cell_type": "code",
   "execution_count": 172,
   "metadata": {
    "collapsed": false
   },
   "outputs": [],
   "source": [
    "mailfrom=[]\n",
    "for path in fns:\n",
    "    mailfrom.append(readmailfrom(path))"
   ]
  },
  {
   "cell_type": "code",
   "execution_count": 168,
   "metadata": {
    "collapsed": false
   },
   "outputs": [],
   "source": [
    "maildate=[]\n",
    "for path in fns:\n",
    "    maildate.append(mailquantityofdate(path)) \n",
    "    \n",
    "   "
   ]
  },
  {
   "cell_type": "code",
   "execution_count": 135,
   "metadata": {
    "collapsed": true
   },
   "outputs": [],
   "source": [
    "mailto=[]\n",
    "for path in fns:\n",
    "    mailto.append(readmailto(path))\n"
   ]
  },
  {
   "cell_type": "code",
   "execution_count": 160,
   "metadata": {
    "collapsed": false
   },
   "outputs": [],
   "source": [
    "def cleanmail(l):\n",
    "    mailtolist=[]\n",
    "    for mail in l:\n",
    "        if mail!=None:\n",
    "            if \",\" in mail:        \n",
    "                for m in mail.split(\",\"):\n",
    "                    m=m.replace(\" \",\"\")\n",
    "                    m=m.replace(\"\\n\\t\",\"\")\n",
    "                    mailtolist.append(m)\n",
    "            else:\n",
    "                mailtolist.append(mail)\n",
    "                mail=mail.replace(\" \",\"\")\n",
    "                mail=mail.replace(\"\\n\\t\",\"\")\n",
    "    return mailtolist\n",
    "            \n",
    "                \n",
    "                "
   ]
  },
  {
   "cell_type": "code",
   "execution_count": null,
   "metadata": {
    "collapsed": false
   },
   "outputs": [],
   "source": []
  },
  {
   "cell_type": "code",
   "execution_count": 30,
   "metadata": {
    "collapsed": false
   },
   "outputs": [],
   "source": [
    "readmail(\"raw data/maildir/allen-p/_sent_mail/12.\")\n",
    "\n"
   ]
  },
  {
   "cell_type": "code",
   "execution_count": 35,
   "metadata": {
    "collapsed": false
   },
   "outputs": [
    {
     "name": "stdout",
     "output_type": "stream",
     "text": [
      "['Reagan', ',', 'Just', 'wanted', 'to', 'give', 'you', 'an', 'update', '.', 'I', 'have', 'changed', 'the', 'unit', 'mix', 'to', 'include', 'some', '1', 'bedrooms', 'and', 'reduced', 'the', 'number', 'of', 'buildings', 'to', '12', '.', 'Kipp', 'Flores', 'is', 'working', 'on', 'the', 'construction', 'drawings', '.', 'At', 'the', 'same', 'time', 'I', 'am', 'pursuing', 'FHA', 'financing', '.', 'Once', 'the', 'construction', 'drawings', 'are', 'complete', 'I', 'will', 'send', 'them', 'to', 'you', 'for', 'a', 'revised', 'bid', '.', 'Your', 'original', 'bid', 'was', 'competitive', 'and', 'I', 'am', 'still', 'attracted', 'to', 'your', 'firm', 'because', 'of', 'your', 'strong', 'local', 'presence', 'and', 'contacts', '.', 'Phillip']\n"
     ]
    }
   ],
   "source": [
    "\n",
    "tokens=nltk.word_tokenize(raw)\n",
    "\n",
    "print(tokens)"
   ]
  },
  {
   "cell_type": "code",
   "execution_count": null,
   "metadata": {
    "collapsed": true
   },
   "outputs": [],
   "source": []
  }
 ],
 "metadata": {
  "anaconda-cloud": {},
  "kernelspec": {
   "display_name": "Python [conda root]",
   "language": "python",
   "name": "conda-root-py"
  },
  "language_info": {
   "codemirror_mode": {
    "name": "ipython",
    "version": 3
   },
   "file_extension": ".py",
   "mimetype": "text/x-python",
   "name": "python",
   "nbconvert_exporter": "python",
   "pygments_lexer": "ipython3",
   "version": "3.5.2"
  }
 },
 "nbformat": 4,
 "nbformat_minor": 1
}
