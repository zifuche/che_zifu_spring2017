{
 "cells": [
  {
   "cell_type": "markdown",
   "metadata": {
    "collapsed": false
   },
   "source": [
    "# Question1\n",
    "Anaysis1\n",
    "Total Email time distribution\n",
    "\n"
   ]
  },
  {
   "cell_type": "code",
   "execution_count": 2,
   "metadata": {
    "collapsed": false
   },
   "outputs": [],
   "source": [
    "import email\n",
    "from email.parser import Parser\n",
    "import nltk\n",
    "import glob\n",
    "from email.utils import parsedate_tz\n",
    "import pathlib\n",
    "import os\n",
    "from pathlib import Path\n",
    "from nltk.probability import FreqDist\n",
    "\n",
    "\n",
    "\n"
   ]
  },
  {
   "cell_type": "code",
   "execution_count": 1,
   "metadata": {
    "collapsed": false,
    "scrolled": true
   },
   "outputs": [],
   "source": [
    "\n",
    "# with open(os.path.dirname(os.getcwd())+\"/raw data/maildir/allen-p/_sent_mail/12.\", 'r',encoding='utf-8',errors='ignore') as example:\n",
    "#     content = example.read()\n",
    "#     email=Parser().parsestr(content)\n",
    "    \n",
    "# print(email.get_payload())    \n",
    "# print(email[\"to\"])  \n",
    "# print(email[\"from\"]) \n",
    "\n"
   ]
  },
  {
   "cell_type": "code",
   "execution_count": 2,
   "metadata": {
    "collapsed": false
   },
   "outputs": [],
   "source": [
    "# print(email[\"date\"])\n",
    "# t=parsedate_tz(email[\"date\"])\n",
    "# print((t[0],t[1],t[2]))"
   ]
  },
  {
   "cell_type": "code",
   "execution_count": 10,
   "metadata": {
    "collapsed": true
   },
   "outputs": [],
   "source": [
    "def readmailto(path):                                     #mail to\n",
    "    with open(path, 'r',encoding='utf-8',errors='ignore') as exa:\n",
    "        content = exa.read()\n",
    "        email=Parser().parsestr(content)        \n",
    "        return(email[\"to\"])\n",
    "        \n",
    "    "
   ]
  },
  {
   "cell_type": "code",
   "execution_count": 11,
   "metadata": {
    "collapsed": true
   },
   "outputs": [],
   "source": [
    "def readmailfrom(path):                                #mail from\n",
    "    with open(path, 'r',encoding='utf-8',errors='ignore') as exa:\n",
    "        content = exa.read()\n",
    "        email=Parser().parsestr(content)       \n",
    "        return(email[\"from\"])"
   ]
  },
  {
   "cell_type": "code",
   "execution_count": 12,
   "metadata": {
    "collapsed": true
   },
   "outputs": [],
   "source": [
    "def mailquantityofdate(path):                       #mail date\n",
    "    with open(path, 'r',encoding='utf-8',errors='ignore') as exa:\n",
    "        content=exa.read()\n",
    "        email=Parser().parsestr(content)\n",
    "        t=parsedate_tz(email[\"date\"])\n",
    "        return (t[0],t[1]) \n",
    "        \n",
    "        \n",
    "    \n",
    "    "
   ]
  },
  {
   "cell_type": "code",
   "execution_count": 35,
   "metadata": {
    "collapsed": false
   },
   "outputs": [
    {
     "name": "stdout",
     "output_type": "stream",
     "text": [
      "517401\n"
     ]
    }
   ],
   "source": [
    "\n",
    "path=os.path.dirname(os.getcwd())+\"/raw data/maildir/\"              \n",
    "\n",
    "\n",
    "fns=[os.path.join(root,fn) for root,dirs,files in os.walk(path) for fn in files if fn.endswith(\".\")]\n",
    "print(len(fns))\n",
    "    "
   ]
  },
  {
   "cell_type": "code",
   "execution_count": 26,
   "metadata": {
    "collapsed": false
   },
   "outputs": [],
   "source": [
    "mailfrom=[]\n",
    "for path in fns:\n",
    "    mailfrom.append(readmailfrom(path))     "
   ]
  },
  {
   "cell_type": "code",
   "execution_count": 27,
   "metadata": {
    "collapsed": false
   },
   "outputs": [],
   "source": [
    "maildate=[]\n",
    "for path in fns:\n",
    "    maildate.append(mailquantityofdate(path)) \n",
    "    \n",
    "   "
   ]
  },
  {
   "cell_type": "code",
   "execution_count": 36,
   "metadata": {
    "collapsed": true
   },
   "outputs": [],
   "source": [
    "mailto=[]\n",
    "for path in fns:\n",
    "    mailto.append(readmailto(path))\n"
   ]
  },
  {
   "cell_type": "code",
   "execution_count": 48,
   "metadata": {
    "collapsed": false
   },
   "outputs": [],
   "source": [
    "def cleanmail(l):\n",
    "    mailtolist=[]\n",
    "    for mail in l:\n",
    "        if mail!=None:\n",
    "            if \",\" in mail:        \n",
    "                for m in mail.split(\",\"):\n",
    "                    m=m.replace(\" \",\"\")\n",
    "                    m=m.replace(\"<\",\"\")\n",
    "                    m=m.replace(\">\",\"\")\n",
    "                    m=m.replace(\"'\",\"\")\n",
    "                    m=m.replace(\"\\n\\t\",\"\")\n",
    "                    mailtolist.append(m)\n",
    "            else:\n",
    "                mail=mail.replace(\" \",\"\")\n",
    "                mail=mail.replace(\"'\",\"\")\n",
    "                mail=mail.replace(\"<\",\"\")\n",
    "                mail=mail.replace(\">\",\"\")\n",
    "                mail=mail.replace(\"\\n\\t\",\"\")\n",
    "                mailtolist.append(mail)\n",
    "    return mailtolist\n",
    "            \n",
    "                \n",
    "                "
   ]
  },
  {
   "cell_type": "code",
   "execution_count": 62,
   "metadata": {
    "collapsed": false
   },
   "outputs": [],
   "source": [
    "uniquereceiver=set(cleanmail(mailto))\n",
    "\n",
    "receiver=cleanmail(mailto)"
   ]
  },
  {
   "cell_type": "code",
   "execution_count": 51,
   "metadata": {
    "collapsed": false
   },
   "outputs": [
    {
     "data": {
      "text/plain": [
       "69721"
      ]
     },
     "execution_count": 51,
     "metadata": {},
     "output_type": "execute_result"
    }
   ],
   "source": [
    "\n",
    "len(uniquereceiver)      #69721 receiver\n"
   ]
  },
  {
   "cell_type": "code",
   "execution_count": 71,
   "metadata": {
    "collapsed": false
   },
   "outputs": [],
   "source": [
    "receiverList=sorted(FreqDist(receiver).items(),key=lambda x:x[1],reverse=True)\n",
    "\n"
   ]
  },
  {
   "cell_type": "code",
   "execution_count": 70,
   "metadata": {
    "collapsed": false
   },
   "outputs": [],
   "source": [
    "import csv\n",
    "# if os.path.exists(\"/receiver.csv\"):\n",
    "#     os.remove(\"/receiver.csv\")    \n",
    "with open(os.getcwd()+\"/receiver.csv\", 'a',encoding='utf-8') as outcsv:\n",
    "    writer=csv.writer(outcsv,delimiter=',', quotechar='|',quoting=csv.QUOTE_MINIMAL, lineterminator='\\n')\n",
    "    writer.writerow([\"Receiver\",\"Times\"])\n",
    "    for item in receiverList:\n",
    "        writer.writerow([item[0], item[1]])        #output receiver csv"
   ]
  },
  {
   "cell_type": "code",
   "execution_count": null,
   "metadata": {
    "collapsed": false
   },
   "outputs": [],
   "source": []
  },
  {
   "cell_type": "code",
   "execution_count": null,
   "metadata": {
    "collapsed": false
   },
   "outputs": [],
   "source": []
  },
  {
   "cell_type": "code",
   "execution_count": null,
   "metadata": {
    "collapsed": true
   },
   "outputs": [],
   "source": []
  }
 ],
 "metadata": {
  "anaconda-cloud": {},
  "kernelspec": {
   "display_name": "Python [conda root]",
   "language": "python",
   "name": "conda-root-py"
  },
  "language_info": {
   "codemirror_mode": {
    "name": "ipython",
    "version": 3
   },
   "file_extension": ".py",
   "mimetype": "text/x-python",
   "name": "python",
   "nbconvert_exporter": "python",
   "pygments_lexer": "ipython3",
   "version": "3.5.2"
  }
 },
 "nbformat": 4,
 "nbformat_minor": 1
}
