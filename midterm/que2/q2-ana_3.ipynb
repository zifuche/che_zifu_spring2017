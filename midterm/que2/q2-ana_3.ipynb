{
 "cells": [
  {
   "cell_type": "code",
   "execution_count": 2,
   "metadata": {
    "collapsed": false
   },
   "outputs": [],
   "source": [
    "import requests\n",
    "import os\n",
    "import json\n",
    "import datetime\n",
    "import dateutil.rrule\n",
    "import glob\n",
    "from nltk.probability import FreqDist"
   ]
  },
  {
   "cell_type": "code",
   "execution_count": 3,
   "metadata": {
    "collapsed": false
   },
   "outputs": [],
   "source": [
    "from datetime import timedelta, date\n",
    "\n",
    "from dateutil.rrule import rrule, MONTHLY"
   ]
  },
  {
   "cell_type": "code",
   "execution_count": 4,
   "metadata": {
    "collapsed": false
   },
   "outputs": [],
   "source": [
    "import calendar\n",
    "import datetime\n",
    "def months_iter(start_month, start_year, end_month, end_year):\n",
    "    start_date = datetime.date(start_year, start_month, 1)\n",
    "    end_date = datetime.date(end_year, end_month, 1)\n",
    "    date = start_date\n",
    "    while date <= end_date:\n",
    "        yield (date.month, date.year)\n",
    "        days_in_month = calendar.monthrange(date.year, date.month)[1]\n",
    "        date += datetime.timedelta(days_in_month)\n",
    "\n",
    "def months(start_month, start_year, end_month, end_year):\n",
    "    return tuple(d for d in months_iter(start_month, start_year, end_month, end_year))"
   ]
  },
  {
   "cell_type": "code",
   "execution_count": 5,
   "metadata": {
    "collapsed": true
   },
   "outputs": [],
   "source": [
    "def ensure_dir(path):                                   # create folder if not exist\n",
    "    directory = os.path.dirname(path)\n",
    "    if not os.path.exists(directory):\n",
    "        os.makedirs(directory)"
   ]
  },
  {
   "cell_type": "code",
   "execution_count": 5,
   "metadata": {
    "collapsed": false
   },
   "outputs": [
    {
     "name": "stdout",
     "output_type": "stream",
     "text": [
      "((8, 2010), (9, 2010), (10, 2010), (11, 2010), (12, 2010), (1, 2011), (2, 2011), (3, 2011))\n",
      "2010\n"
     ]
    }
   ],
   "source": [
    "print (months(8, 2010, 3, 2011))\n",
    "l=months(8, 2010, 3, 2011)\n",
    "print(l[1][1])"
   ]
  },
  {
   "cell_type": "code",
   "execution_count": 6,
   "metadata": {
    "collapsed": false
   },
   "outputs": [],
   "source": [
    "def writejson(year,month,r):    \n",
    "    with open(os.path.dirname(os.getcwd())+\"/raw data/archive/\"+str(year)+'-'+str(month)+'.json', 'w',encoding='utf-8',errors='ignore') as outfile:\n",
    "        json.dump(r, outfile)\n",
    "\n",
    "\n"
   ]
  },
  {
   "cell_type": "code",
   "execution_count": 45,
   "metadata": {
    "collapsed": false
   },
   "outputs": [],
   "source": [
    "# print(len(data['response']['docs']))\n"
   ]
  },
  {
   "cell_type": "code",
   "execution_count": 7,
   "metadata": {
    "collapsed": false
   },
   "outputs": [],
   "source": [
    "def getjson(startmonth,startyear,endmonth,endyear):\n",
    "    for date in months(startmonth,startyear,endmonth,endyear):\n",
    "        r = requests.get(\"https://api.nytimes.com/svc/archive/v1/\"+str(date[1])+\"/\"+str(date[0])+\".json?&api-key=\"+os.getenv('auth_key'))\n",
    "        writejson(date[1],date[0],r.json())  \n",
    "    \n",
    "    "
   ]
  },
  {
   "cell_type": "code",
   "execution_count": 8,
   "metadata": {
    "collapsed": false
   },
   "outputs": [
    {
     "name": "stdout",
     "output_type": "stream",
     "text": [
      "None\n"
     ]
    }
   ],
   "source": [
    "print(os.getenv('auth_key')) #export auth_key=8220f32e060a428bb41d0f881f18dc39\n",
    "\n",
    "\n"
   ]
  },
  {
   "cell_type": "code",
   "execution_count": 13,
   "metadata": {
    "collapsed": false
   },
   "outputs": [],
   "source": [
    "getjson(12,2007,1,2017)\n",
    "\n",
    "\n"
   ]
  },
  {
   "cell_type": "code",
   "execution_count": 10,
   "metadata": {
    "collapsed": false
   },
   "outputs": [],
   "source": [
    "def readjson(path):                                               #read json\n",
    "    with open(path,'r',encoding='utf-8',errors='ignore') as df:\n",
    "        data=json.load(df)\n",
    "        return data  "
   ]
  },
  {
   "cell_type": "code",
   "execution_count": null,
   "metadata": {
    "collapsed": false
   },
   "outputs": [],
   "source": []
  },
  {
   "cell_type": "code",
   "execution_count": 11,
   "metadata": {
    "collapsed": false
   },
   "outputs": [],
   "source": [
    "typelist=[]\n",
    "for file in glob.glob(os.path.dirname(os.getcwd())+\"/raw data/archive/*.json\"):\n",
    "    data=readjson(file)\n",
    "    for archive in data[\"response\"][\"docs\"]:\n",
    "        typelist.append(archive['type_of_material'])"
   ]
  },
  {
   "cell_type": "code",
   "execution_count": 12,
   "metadata": {
    "collapsed": false
   },
   "outputs": [],
   "source": [
    "TypeList=FreqDist(typelist)"
   ]
  },
  {
   "cell_type": "code",
   "execution_count": 17,
   "metadata": {
    "collapsed": false
   },
   "outputs": [
    {
     "data": {
      "text/plain": [
       "253825"
      ]
     },
     "execution_count": 17,
     "metadata": {},
     "output_type": "execute_result"
    }
   ],
   "source": [
    "len(typelist)"
   ]
  },
  {
   "cell_type": "code",
   "execution_count": 13,
   "metadata": {
    "collapsed": false
   },
   "outputs": [
    {
     "data": {
      "text/plain": [
       "FreqDist({'News': 123884,\n",
       "          'Biography': 128,\n",
       "          'Caption': 26,\n",
       "          'Op-Ed; Review': 1,\n",
       "          'First Chapter': 2,\n",
       "          'Op-Ed; Correction': 1,\n",
       "          'Correction': 139,\n",
       "          'An Appraisal': 48,\n",
       "          'List': 1161,\n",
       "          'An Analysis; Economic Analysis': 12,\n",
       "          'Obituary (Obit)': 643,\n",
       "          'Op-Ed; Editorial': 15,\n",
       "          'briefing': 945,\n",
       "          'Text': 92,\n",
       "          'Interview': 232,\n",
       "          'An Analysis; News Analysis': 575,\n",
       "          'News Analysis': 69,\n",
       "          'Blog': 44825,\n",
       "          'Interactive Feature': 6299,\n",
       "          'Quote': 993,\n",
       "          'Special Report': 612,\n",
       "          'Op-Ed': 9166,\n",
       "          'Summary': 10,\n",
       "          'Series': 5,\n",
       "          'An Analysis; Military Analysis': 3,\n",
       "          'Video': 8987,\n",
       "          \"Editors' Note\": 1,\n",
       "          'Addendum': 2,\n",
       "          'Obituary': 2754,\n",
       "          'Recipe': 8,\n",
       "          'Web Log': 61,\n",
       "          'Letter; Editorial': 44,\n",
       "          'Newsletter': 2,\n",
       "          'Review': 14045,\n",
       "          'Brief': 10738,\n",
       "          'recipe': 95,\n",
       "          'Op-Ed; Biography': 1,\n",
       "          'Slideshow': 8176,\n",
       "          'Question': 1886,\n",
       "          'Letter': 5346,\n",
       "          'Paid Death Notice': 4777,\n",
       "          'An Analysis; Review': 1,\n",
       "          'Editorial': 3799,\n",
       "          'Schedule': 3158,\n",
       "          None: 50,\n",
       "          'An Analysis': 7,\n",
       "          'Letter; Biography': 1})"
      ]
     },
     "execution_count": 13,
     "metadata": {},
     "output_type": "execute_result"
    }
   ],
   "source": [
    "TypeList"
   ]
  },
  {
   "cell_type": "code",
   "execution_count": 14,
   "metadata": {
    "collapsed": true
   },
   "outputs": [],
   "source": [
    "articletype=sorted(TypeList.items(),key=lambda x:x[1],reverse=True)"
   ]
  },
  {
   "cell_type": "code",
   "execution_count": 15,
   "metadata": {
    "collapsed": false,
    "scrolled": true
   },
   "outputs": [
    {
     "data": {
      "text/plain": [
       "[('News', 123884),\n",
       " ('Blog', 44825),\n",
       " ('Review', 14045),\n",
       " ('Brief', 10738),\n",
       " ('Op-Ed', 9166),\n",
       " ('Video', 8987),\n",
       " ('Slideshow', 8176),\n",
       " ('Interactive Feature', 6299),\n",
       " ('Letter', 5346),\n",
       " ('Paid Death Notice', 4777),\n",
       " ('Editorial', 3799),\n",
       " ('Schedule', 3158),\n",
       " ('Obituary', 2754),\n",
       " ('Question', 1886),\n",
       " ('List', 1161),\n",
       " ('Quote', 993),\n",
       " ('briefing', 945),\n",
       " ('Obituary (Obit)', 643),\n",
       " ('Special Report', 612),\n",
       " ('An Analysis; News Analysis', 575),\n",
       " ('Interview', 232),\n",
       " ('Correction', 139),\n",
       " ('Biography', 128),\n",
       " ('recipe', 95),\n",
       " ('Text', 92),\n",
       " ('News Analysis', 69),\n",
       " ('Web Log', 61),\n",
       " (None, 50),\n",
       " ('An Appraisal', 48),\n",
       " ('Letter; Editorial', 44),\n",
       " ('Caption', 26),\n",
       " ('Op-Ed; Editorial', 15),\n",
       " ('An Analysis; Economic Analysis', 12),\n",
       " ('Summary', 10),\n",
       " ('Recipe', 8),\n",
       " ('An Analysis', 7),\n",
       " ('Series', 5),\n",
       " ('An Analysis; Military Analysis', 3),\n",
       " ('First Chapter', 2),\n",
       " ('Addendum', 2),\n",
       " ('Newsletter', 2),\n",
       " ('Op-Ed; Correction', 1),\n",
       " ('Op-Ed; Biography', 1),\n",
       " (\"Editors' Note\", 1),\n",
       " ('An Analysis; Review', 1),\n",
       " ('Op-Ed; Review', 1),\n",
       " ('Letter; Biography', 1)]"
      ]
     },
     "execution_count": 15,
     "metadata": {},
     "output_type": "execute_result"
    }
   ],
   "source": [
    "articletype"
   ]
  },
  {
   "cell_type": "code",
   "execution_count": 19,
   "metadata": {
    "collapsed": false
   },
   "outputs": [
    {
     "data": {
      "text/plain": [
       "[('News', 0.4880685511671427),\n",
       " ('Blog', 0.17659804983748645),\n",
       " ('Review', 0.055333398995370826),\n",
       " ('Brief', 0.04230473751600512),\n",
       " ('Op-Ed', 0.03611149413966316),\n",
       " ('Video', 0.03540628385698808),\n",
       " ('Slideshow', 0.03221116911257756),\n",
       " ('Interactive Feature', 0.024816310450113267),\n",
       " ('Letter', 0.021061755146262188),\n",
       " ('Paid Death Notice', 0.01882005318625037),\n",
       " ('Editorial', 0.014967004826159756),\n",
       " ('Schedule', 0.012441642864178076),\n",
       " ('Obituary', 0.010849995075347188),\n",
       " ('Question', 0.007430316162710529),\n",
       " ('List', 0.004574017531764011),\n",
       " ('Quote', 0.003912144193834335),\n",
       " ('briefing', 0.003723037525854427),\n",
       " ('Obituary (Obit)', 0.0025332414064808432),\n",
       " ('Special Report', 0.0024111100167438196),\n",
       " ('An Analysis; News Analysis', 0.002265340293509308),\n",
       " ('Interview', 0.0009140155619028859),\n",
       " ('Correction', 0.0005476213926918152),\n",
       " ('Biography', 0.0005042844479464198),\n",
       " ('recipe', 0.0003742736137102334),\n",
       " ('Text', 0.0003624544469614892),\n",
       " ('News Analysis', 0.0002718408352211169),\n",
       " ('Web Log', 0.00024032305722446567),\n",
       " (None, 0.00019698611247907023),\n",
       " ('An Appraisal', 0.00018910666797990742),\n",
       " ('Letter; Editorial', 0.0001733477789815818),\n",
       " ('Caption', 0.00010243277848911651),\n",
       " ('Op-Ed; Editorial', 5.9095833743721065e-05),\n",
       " ('An Analysis; Economic Analysis', 4.7276666994976855e-05),\n",
       " ('Summary', 3.9397222495814046e-05),\n",
       " ('Recipe', 3.1517777996651236e-05),\n",
       " ('An Analysis', 2.7578055747069832e-05),\n",
       " ('Series', 1.9698611247907023e-05),\n",
       " ('An Analysis; Military Analysis', 1.1819166748744214e-05),\n",
       " ('First Chapter', 7.879444499162809e-06),\n",
       " ('Addendum', 7.879444499162809e-06),\n",
       " ('Newsletter', 7.879444499162809e-06),\n",
       " ('Op-Ed; Correction', 3.9397222495814046e-06),\n",
       " ('Op-Ed; Biography', 3.9397222495814046e-06),\n",
       " (\"Editors' Note\", 3.9397222495814046e-06),\n",
       " ('An Analysis; Review', 3.9397222495814046e-06),\n",
       " ('Op-Ed; Review', 3.9397222495814046e-06),\n",
       " ('Letter; Biography', 3.9397222495814046e-06)]"
      ]
     },
     "execution_count": 19,
     "metadata": {},
     "output_type": "execute_result"
    }
   ],
   "source": [
    "typedistrbution=[]\n",
    "for eachtype in articletype:\n",
    "    typedistrbution.append((eachtype[0],eachtype[1]/len(typelist)))\n",
    "    \n",
    "    \n",
    "typedistrbution    "
   ]
  },
  {
   "cell_type": "code",
   "execution_count": 22,
   "metadata": {
    "collapsed": false
   },
   "outputs": [],
   "source": [
    "import csv\n",
    "if os.path.exists(\"/ana3-TypeDistribution.csv\"):\n",
    "    os.remove(\"/ana3-TypeDistribution.csv\")    \n",
    "with open(os.getcwd()+\"/ana3-TypeDistribution.csv\", 'a',encoding='utf-8') as outcsv:\n",
    "    writer=csv.writer(outcsv)\n",
    "    writer.writerow([\"Type\",\"Prop\"])\n",
    "    for item in typedistrbution:\n",
    "        writer.writerow([item[0], item[1]])"
   ]
  },
  {
   "cell_type": "code",
   "execution_count": null,
   "metadata": {
    "collapsed": true
   },
   "outputs": [],
   "source": []
  }
 ],
 "metadata": {
  "anaconda-cloud": {},
  "kernelspec": {
   "display_name": "Python [conda root]",
   "language": "python",
   "name": "conda-root-py"
  },
  "language_info": {
   "codemirror_mode": {
    "name": "ipython",
    "version": 3
   },
   "file_extension": ".py",
   "mimetype": "text/x-python",
   "name": "python",
   "nbconvert_exporter": "python",
   "pygments_lexer": "ipython3",
   "version": "3.5.2"
  }
 },
 "nbformat": 4,
 "nbformat_minor": 1
}
