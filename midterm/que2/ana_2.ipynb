{
 "cells": [
  {
   "cell_type": "code",
   "execution_count": 1,
   "metadata": {
    "collapsed": false
   },
   "outputs": [],
   "source": [
    "import requests\n",
    "import os\n",
    "import json\n",
    "import datetime\n",
    "import dateutil.rrule"
   ]
  },
  {
   "cell_type": "code",
   "execution_count": 14,
   "metadata": {
    "collapsed": false
   },
   "outputs": [],
   "source": [
    "from datetime import timedelta, date\n",
    "\n",
    "from dateutil.rrule import rrule, MONTHLY\n",
    "\n",
    "\n",
    "\n",
    "\n"
   ]
  },
  {
   "cell_type": "code",
   "execution_count": 3,
   "metadata": {
    "collapsed": false
   },
   "outputs": [],
   "source": [
    "import calendar\n",
    "import datetime\n",
    "\n",
    "def months_iter(start_month, start_year, end_month, end_year):\n",
    "    start_date = datetime.date(start_year, start_month, 1)\n",
    "    end_date = datetime.date(end_year, end_month, 1)\n",
    "    date = start_date\n",
    "    while date <= end_date:\n",
    "        yield (date.month, date.year)\n",
    "        days_in_month = calendar.monthrange(date.year, date.month)[1]\n",
    "        date += datetime.timedelta(days_in_month)\n",
    "\n",
    "def months(start_month, start_year, end_month, end_year):\n",
    "    return tuple(d for d in months_iter(start_month, start_year, end_month, end_year))"
   ]
  },
  {
   "cell_type": "code",
   "execution_count": 4,
   "metadata": {
    "collapsed": true
   },
   "outputs": [],
   "source": [
    "def ensure_dir(path):                                   # create folder if not exist\n",
    "    directory = os.path.dirname(path)\n",
    "    if not os.path.exists(directory):\n",
    "        os.makedirs(directory)"
   ]
  },
  {
   "cell_type": "code",
   "execution_count": 5,
   "metadata": {
    "collapsed": false
   },
   "outputs": [
    {
     "name": "stdout",
     "output_type": "stream",
     "text": [
      "((8, 2010), (9, 2010), (10, 2010), (11, 2010), (12, 2010), (1, 2011), (2, 2011), (3, 2011))\n",
      "2010\n"
     ]
    }
   ],
   "source": [
    "print (months(8, 2010, 3, 2011))\n",
    "l=months(8, 2010, 3, 2011)\n",
    "print(l[1][1])"
   ]
  },
  {
   "cell_type": "code",
   "execution_count": null,
   "metadata": {
    "collapsed": false
   },
   "outputs": [],
   "source": [
    "\n"
   ]
  },
  {
   "cell_type": "code",
   "execution_count": null,
   "metadata": {
    "collapsed": false
   },
   "outputs": [],
   "source": []
  },
  {
   "cell_type": "code",
   "execution_count": null,
   "metadata": {
    "collapsed": false
   },
   "outputs": [],
   "source": [
    "\n",
    "\n",
    "\n"
   ]
  },
  {
   "cell_type": "code",
   "execution_count": 6,
   "metadata": {
    "collapsed": false
   },
   "outputs": [],
   "source": [
    "def writejson(year,month,r):    \n",
    "    with open('/archive/'+str(year)+'-'+str(month)+'.json', 'w',encoding='utf-8',errors='ignore') as outfile:\n",
    "        json.dump(r, outfile)\n",
    "\n",
    "\n"
   ]
  },
  {
   "cell_type": "code",
   "execution_count": 45,
   "metadata": {
    "collapsed": false
   },
   "outputs": [],
   "source": [
    "# print(len(data['response']['docs']))\n"
   ]
  },
  {
   "cell_type": "code",
   "execution_count": 7,
   "metadata": {
    "collapsed": false
   },
   "outputs": [],
   "source": [
    "def getjson(startmonth,startyear,endmonth,endyear):\n",
    "    for date in months(startmonth,startyear,endmonth,endyear):\n",
    "        r = requests.get(\"https://api.nytimes.com/svc/archive/v1/\"+str(date[1])+\"/\"+str(date[0])+\".json?&api-key=\"+os.getenv('auth_key'))\n",
    "        writejson(date[1],date[0],r.json())  \n",
    "    \n",
    "    "
   ]
  },
  {
   "cell_type": "code",
   "execution_count": 8,
   "metadata": {
    "collapsed": false
   },
   "outputs": [
    {
     "name": "stdout",
     "output_type": "stream",
     "text": [
      "8220f32e060a428bb41d0f881f18dc39\n"
     ]
    }
   ],
   "source": [
    "print(os.getenv('auth_key')) #export auth_key=8220f32e060a428bb41d0f881f18dc39\n",
    "\n",
    "\n"
   ]
  },
  {
   "cell_type": "code",
   "execution_count": 13,
   "metadata": {
    "collapsed": false
   },
   "outputs": [],
   "source": [
    "getjson(12,1951,12,1958)\n",
    "\n",
    "\n"
   ]
  },
  {
   "cell_type": "code",
   "execution_count": null,
   "metadata": {
    "collapsed": false
   },
   "outputs": [],
   "source": [
    "  "
   ]
  },
  {
   "cell_type": "code",
   "execution_count": null,
   "metadata": {
    "collapsed": true
   },
   "outputs": [],
   "source": []
  }
 ],
 "metadata": {
  "anaconda-cloud": {},
  "kernelspec": {
   "display_name": "Python [conda root]",
   "language": "python",
   "name": "conda-root-py"
  },
  "language_info": {
   "codemirror_mode": {
    "name": "ipython",
    "version": 3
   },
   "file_extension": ".py",
   "mimetype": "text/x-python",
   "name": "python",
   "nbconvert_exporter": "python",
   "pygments_lexer": "ipython3",
   "version": "3.5.2"
  }
 },
 "nbformat": 4,
 "nbformat_minor": 1
}
