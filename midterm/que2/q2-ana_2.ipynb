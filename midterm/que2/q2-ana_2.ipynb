{
 "cells": [
  {
   "cell_type": "code",
   "execution_count": 2,
   "metadata": {
    "collapsed": true
   },
   "outputs": [],
   "source": [
    "import requests\n",
    "import os\n",
    "import json\n",
    "import datetime\n",
    "import dateutil.rrule\n",
    "from datetime import date, timedelta\n",
    "import dateutil.relativedelta as relativedelta\n",
    "import dateutil.rrule as rrule\n",
    "import calendar\n",
    "import glob\n",
    "from nltk.probability import FreqDist"
   ]
  },
  {
   "cell_type": "code",
   "execution_count": null,
   "metadata": {
    "collapsed": true
   },
   "outputs": [],
   "source": [
    "def getbooklist(datelist,booktype):\n",
    "    for pubdate in datelist:\n",
    "        r = requests.get(\"https://api.nytimes.com/svc/books/v3/lists/\"+pubdate+\"/\"+booktype+\".json?&api-key=\"+os.getenv('auth_key'))\n",
    "        writejson(pubdate,booktype,r.json()) "
   ]
  },
  {
   "cell_type": "code",
   "execution_count": 3,
   "metadata": {
    "collapsed": true
   },
   "outputs": [],
   "source": [
    "def readjson(path):                                               #read json\n",
    "    with open(path,'r',encoding='utf-8',errors='ignore') as df:\n",
    "        data=json.load(df)\n",
    "        return data"
   ]
  },
  {
   "cell_type": "code",
   "execution_count": 4,
   "metadata": {
    "collapsed": true
   },
   "outputs": [],
   "source": [
    "allfiction=[]\n",
    "for files in glob.glob(os.path.dirname(os.getcwd())+\"/raw data/unfiction-booklist/*.json\"):\n",
    "    booklist=readjson(files)\n",
    "    for book in booklist[\"results\"][\"books\"]:\n",
    "        a=book\n",
    "        info=book[\"title\"]+\"--\"+book[\"author\"]\n",
    "        allfiction.append(info)"
   ]
  },
  {
   "cell_type": "code",
   "execution_count": 25,
   "metadata": {
    "collapsed": true
   },
   "outputs": [],
   "source": [
    "dic=FreqDist(allfiction)\n",
    "\n",
    "timeonlist=sorted(dic.items(),key=lambda x:x[1],reverse=True)\n",
    "timeonlist\n",
    "bestsellerlist=[]\n",
    "for auth in timeonlist:\n",
    "    a1=auth[0].split(\"--\")[0]\n",
    "    a2=auth[0].split(\"--\")[1] \n",
    "    bestsellerlist.append((a1,a2))\n",
    "    \n"
   ]
  },
  {
   "cell_type": "code",
   "execution_count": 43,
   "metadata": {
    "collapsed": false
   },
   "outputs": [
    {
     "data": {
      "text/plain": [
       "[('A HIGHER CALL', 'Adam Makos with Larry Alexander'),\n",
       " ('ORIGINALS', 'Adam Grant'),\n",
       " ('THE GENE', 'Siddhartha Mukherjee'),\n",
       " ('THE UNWINDING', 'George Packer'),\n",
       " ('TRIBE', 'Sebastian Junger'),\n",
       " ('KEEP IT PITHY', \"Bill O'Reilly\"),\n",
       " ('THOSE GUYS HAVE ALL THE FUN', 'James Andrew Miller and Tom Shales'),\n",
       " ('RED', 'Sammy Hagar with Joel Selvin'),\n",
       " ('CLINTON CASH', 'Peter Schweizer'),\n",
       " ('BACK TO WORK', 'Bill Clinton'),\n",
       " (\"STILL FOOLIN' 'EM\", 'Billy Crystal'),\n",
       " ('IN THE HEART OF THE SEA', 'Nathaniel Philbrick'),\n",
       " ('OUR REVOLUTION', 'Bernie Sanders'),\n",
       " ('THE LOST CITY OF THE MONKEY GOD', 'Douglas Preston'),\n",
       " ('THE DAILY SHOW (THE BOOK)', 'Chris Smith'),\n",
       " ('THE IMMORTAL IRISHMAN', 'Timothy Egan'),\n",
       " ('TALKING AS FAST AS I CAN', 'Lauren Graham'),\n",
       " ('DREAMERS AND DECEIVERS', 'Glenn Beck with Kevin Balfe'),\n",
       " (\"OBAMA'S AMERICA\", \"Dinesh D'Souza\"),\n",
       " ('DOUBLE CROSS', 'Ben Macintyre'),\n",
       " ('BUTLER', 'Wil Haygood'),\n",
       " ('SULLY', 'Chesley B Sullenberger III with Jeffrey Zaslow'),\n",
       " ('LIGHTS OUT', 'Ted Koppel'),\n",
       " ('VALIANT AMBITION', 'Nathaniel Philbrick'),\n",
       " ('A SPY AMONG FRIENDS', 'Ben Macintyre'),\n",
       " ('HOW TO BE A WOMAN', 'Caitlin Moran'),\n",
       " ('MRS. KENNEDY AND ME', 'Clint Hill'),\n",
       " ('COWARDS', 'Glenn Beck and Kevin Balfe'),\n",
       " ('IT IS ABOUT ISLAM', 'Glenn Beck'),\n",
       " ('THE PRICE OF POLITICS', 'Bob Woodward'),\n",
       " ('THE BILLION DOLLAR SPY', 'David E Hoffman'),\n",
       " ('A MORE PERFECT UNION', 'Ben Carson with Candy Carson'),\n",
       " ('BINGE', 'Tyler Oakley'),\n",
       " ('PHYSICS OF THE FUTURE', 'Michio Kaku'),\n",
       " ('SPQR', 'Mary Beard'),\n",
       " ('LET ME OFF AT THE TOP!', 'Ron Burgundy'),\n",
       " ('BOYS IN THE TREES', 'Carly Simon'),\n",
       " (\"YOU CAN'T MAKE THIS UP\", 'Al Michaels with L Jon Wertheim'),\n",
       " ('HERO OF THE EMPIRE', 'Candice Millard'),\n",
       " ('THEN AGAIN', 'Diane Keaton'),\n",
       " ('THE NEW JIM CROW', 'Michelle Alexander'),\n",
       " ('1493', 'Charles C Mann'),\n",
       " ('THE DRESSMAKER OF KHAIR KHANA', 'Gayle Tzemach Lemmon'),\n",
       " ('INTO THE FIRE', 'Dakota Meyer and Bing West'),\n",
       " ('FILTHY RICH', 'James Patterson and John Connolly with Tim Malloy'),\n",
       " ('AFTER AMERICA', 'Mark Steyn'),\n",
       " ('IN MY TIME', 'Dick Cheney'),\n",
       " ('PRIMATES OF PARK AVENUE', 'Wednesday Martin'),\n",
       " ('UNSINKABLE', 'Debbie Reynolds and Dorian Hannaway'),\n",
       " ('DEEP DOWN DARK', 'Héctor Tobar')]"
      ]
     },
     "execution_count": 43,
     "metadata": {},
     "output_type": "execute_result"
    }
   ],
   "source": [
    "requiredlist=bestsellerlist[:251]\n",
    "requiredlist"
   ]
  },
  {
   "cell_type": "code",
   "execution_count": 34,
   "metadata": {
    "collapsed": true
   },
   "outputs": [],
   "source": [
    "def writejson(title,author,r):    \n",
    "    with open(os.path.dirname(os.getcwd())+\"/raw data/publisher/\"+title+'-'+author+'.json', 'w',encoding='utf-8',errors='ignore') as outfile:\n",
    "        json.dump(r, outfile)"
   ]
  },
  {
   "cell_type": "code",
   "execution_count": 33,
   "metadata": {
    "collapsed": false
   },
   "outputs": [],
   "source": [
    "def getbookinfo(title,author):\n",
    "    params={'api-key':os.getenv('auth_key'),'author':author,'title':title}\n",
    "    r = requests.get(\"https://api.nytimes.com/svc/books/v3/lists/best-sellers/\"+title+\"-\"+author+\".json\",params=params)\n",
    "    writejson(title,author,r.json())"
   ]
  },
  {
   "cell_type": "code",
   "execution_count": 37,
   "metadata": {
    "collapsed": true
   },
   "outputs": [],
   "source": [
    "def getpubfile(titlelist):\n",
    "    for t in titlelist:\n",
    "        getbookinfo(t[0],t[1])\n",
    "        \n",
    "    "
   ]
  },
  {
   "cell_type": "code",
   "execution_count": 44,
   "metadata": {
    "collapsed": false
   },
   "outputs": [],
   "source": [
    "# getpubfile(requiredlist)        collect data"
   ]
  },
  {
   "cell_type": "code",
   "execution_count": 84,
   "metadata": {
    "collapsed": false
   },
   "outputs": [],
   "source": [
    "allpublisher=[]\n",
    "for path in glob.glob(os.path.dirname(os.getcwd())+\"/raw data/publisher/*.json\"):\n",
    "    infolist=readjson(path)\n",
    "    allpublisher.append(infolist[\"results\"][0][\"publisher\"])\n",
    "    \n"
   ]
  },
  {
   "cell_type": "code",
   "execution_count": 83,
   "metadata": {
    "collapsed": false
   },
   "outputs": [
    {
     "data": {
      "text/plain": [
       "FreqDist({'37 Ink/Atria': 1,\n",
       "          'Anchor': 6,\n",
       "          'Avery': 1,\n",
       "          'B&H Publishing': 1,\n",
       "          'Back Bay': 1,\n",
       "          'Back Bay/Little Brown': 1,\n",
       "          'Back Bay/Little, Brown': 6,\n",
       "          'Baker': 1,\n",
       "          'Ballantine': 2,\n",
       "          'Bantam': 2,\n",
       "          'Belknap/Harvard University': 1,\n",
       "          'Berkley Caliber': 1,\n",
       "          'Berkley/Penguin': 1,\n",
       "          'Bloomsbury': 1,\n",
       "          'Blue Rider': 2,\n",
       "          'Broadway': 7,\n",
       "          'Center Street': 1,\n",
       "          'Crown': 2,\n",
       "          'Crown Archetype': 3,\n",
       "          'Crown Forum': 2,\n",
       "          'Dey Street': 1,\n",
       "          'Dey Street/Morrow': 1,\n",
       "          'Doubleday': 4,\n",
       "          'Farrar, Straus & Giroux': 4,\n",
       "          'Flatiron': 2,\n",
       "          'Flatiron Books': 1,\n",
       "          'Gallery Books': 4,\n",
       "          'Grand Central': 6,\n",
       "          'Greystone': 1,\n",
       "          'Grove/Atlantic': 1,\n",
       "          'Harmony': 1,\n",
       "          'Harper': 1,\n",
       "          'Harper Perennial': 2,\n",
       "          'Harper/HarperCollins': 2,\n",
       "          'HarperCollins': 4,\n",
       "          'HarperCollins Publishers': 1,\n",
       "          'Holt': 10,\n",
       "          'Houghton Mifflin Harcourt': 3,\n",
       "          'Howard Books': 2,\n",
       "          'Humanix': 1,\n",
       "          'Hyperion': 1,\n",
       "          'It Books': 1,\n",
       "          'Knopf': 4,\n",
       "          'Little, Brown': 8,\n",
       "          'Liveright': 1,\n",
       "          'Mariner/Houghton Mifflin Harcourt': 1,\n",
       "          'Metropolitan/Holt': 1,\n",
       "          'Morrow': 2,\n",
       "          'Morrow/HarperCollins': 6,\n",
       "          'Nelson Books': 1,\n",
       "          'New American Library': 1,\n",
       "          'New Press': 1,\n",
       "          'Norton': 5,\n",
       "          'Open Road': 1,\n",
       "          'Penguin': 6,\n",
       "          'Penguin Press': 2,\n",
       "          'Perseus': 1,\n",
       "          'Picador': 1,\n",
       "          'Plume': 1,\n",
       "          'Puffin': 1,\n",
       "          'Random House': 19,\n",
       "          'Random House Publishing': 1,\n",
       "          'Regnery': 6,\n",
       "          'Riverhead': 1,\n",
       "          'Scribner': 6,\n",
       "          'Sentinel': 3,\n",
       "          'Simon & Schuster': 14,\n",
       "          'Skyhorse': 1,\n",
       "          'Spiegel & Grau': 4,\n",
       "          \"St. Martin's\": 4,\n",
       "          \"St. Martin's Griffin\": 1,\n",
       "          'Thomas Dunne/St. Martin’s': 1,\n",
       "          'Thomas Nelson': 1,\n",
       "          'Threshold': 1,\n",
       "          'Threshold Editions': 4,\n",
       "          'Threshold Editions/Mercury Radio Arts': 6,\n",
       "          'Touchstone': 1,\n",
       "          'Touchstone/Simon & Schuster': 1,\n",
       "          'Twelve': 3,\n",
       "          'Various publishers': 1,\n",
       "          'Viking': 3,\n",
       "          'Vintage': 6,\n",
       "          'W Publishing/Thomas Nelson': 1,\n",
       "          'Waterbrook': 1,\n",
       "          'Workman': 1,\n",
       "          'Zondervan': 1})"
      ]
     },
     "execution_count": 83,
     "metadata": {},
     "output_type": "execute_result"
    }
   ],
   "source": [
    "FreqDist(allpublisher)"
   ]
  },
  {
   "cell_type": "code",
   "execution_count": 91,
   "metadata": {
    "collapsed": false
   },
   "outputs": [],
   "source": [
    "cleandata=[]\n",
    "for pub in allpublisher:\n",
    "    pub=pub.replace(\"Random House Publishing\",\"Random House\")\n",
    "    pub=pub.replace(\"Publishers\",\"\")\n",
    "    pub=pub.replace(\"House \",\"House\")\n",
    "    pub=pub.replace(\"St. Martin’s\",\"St. Martin's\")\n",
    "    pub=pub.replace(\",\",\" \")\n",
    "    pub=pub.replace(\"Editions\",\"\")\n",
    "    pub=pub.replace(\"Threshold \",\"Threshold\")\n",
    "    pub=pub.replace(\"Little, Brown\",\"Little Brown\")\n",
    "    pub=pub.replace(\"HarperCollins\",\"HarperCollins \")\n",
    "    pub=pub.replace(\"HarperCollins\",\"HarperCollins \")\n",
    "    #Threshold Editions/Mercury Radio Arts------>Threshold Editions and Mercury Radio Arts\n",
    "    if \"/\" in pub:\n",
    "        for i in pub.split(\"/\"):\n",
    "            cleandata.append(i)\n",
    "    else:\n",
    "        cleandata.append(pub)\n",
    "        \n",
    "        \n",
    "       \n",
    "    #clean data"
   ]
  },
  {
   "cell_type": "code",
   "execution_count": 93,
   "metadata": {
    "collapsed": false
   },
   "outputs": [],
   "source": [
    "PopularPublisherlist=sorted(FreqDist(cleandata).items(),key=lambda x:x[1],reverse=True)"
   ]
  },
  {
   "cell_type": "code",
   "execution_count": 98,
   "metadata": {
    "collapsed": false
   },
   "outputs": [
    {
     "data": {
      "text/plain": [
       "[('Random House', 20),\n",
       " ('Simon & Schuster', 15),\n",
       " ('Little  Brown', 14),\n",
       " ('HarperCollins ', 12),\n",
       " ('Holt', 11),\n",
       " ('Threshold', 11),\n",
       " ('Morrow', 9),\n",
       " ('Back Bay', 8),\n",
       " ('Penguin', 7),\n",
       " ('Broadway', 7),\n",
       " ('Grand Central', 6),\n",
       " ('Scribner', 6),\n",
       " ('Mercury Radio Arts', 6),\n",
       " ('Anchor', 6),\n",
       " ('Regnery', 6),\n",
       " ('Vintage', 6),\n",
       " (\"St. Martin's\", 5),\n",
       " ('Norton', 5),\n",
       " ('Houghton Mifflin Harcourt', 4),\n",
       " ('Farrar  Straus & Giroux', 4),\n",
       " ('Knopf', 4),\n",
       " ('Doubleday', 4),\n",
       " ('Gallery Books', 4),\n",
       " ('Spiegel & Grau', 4),\n",
       " ('Twelve', 3),\n",
       " ('Sentinel', 3),\n",
       " ('Viking', 3),\n",
       " ('Harper', 3),\n",
       " ('Crown Archetype', 3),\n",
       " ('Dey Street', 2),\n",
       " ('Flatiron', 2),\n",
       " ('Blue Rider', 2),\n",
       " ('Ballantine', 2),\n",
       " ('Howard Books', 2),\n",
       " ('Crown', 2),\n",
       " ('Crown Forum', 2),\n",
       " ('Harper Perennial', 2),\n",
       " ('Bantam', 2),\n",
       " ('Penguin Press', 2),\n",
       " ('Thomas Nelson', 2),\n",
       " ('Touchstone', 2),\n",
       " ('Mariner', 1),\n",
       " ('Waterbrook', 1),\n",
       " ('Grove', 1),\n",
       " ('Berkley', 1),\n",
       " ('Harmony', 1),\n",
       " ('Picador', 1),\n",
       " ('HarperCollins  ', 1),\n",
       " ('Hyperion', 1),\n",
       " ('Thomas Dunne', 1),\n",
       " ('It Books', 1),\n",
       " ('Metropolitan', 1),\n",
       " ('Bloomsbury', 1),\n",
       " ('Belknap', 1),\n",
       " ('Puffin', 1),\n",
       " ('New American Library', 1),\n",
       " ('Perseus', 1),\n",
       " (\"St. Martin's Griffin\", 1),\n",
       " ('Center Street', 1),\n",
       " ('37 Ink', 1),\n",
       " ('B&H Publishing', 1),\n",
       " ('Workman', 1),\n",
       " ('Various publishers', 1),\n",
       " ('New Press', 1),\n",
       " ('Atria', 1),\n",
       " ('Flatiron Books', 1),\n",
       " ('Avery', 1),\n",
       " ('Open Road', 1),\n",
       " ('Liveright', 1),\n",
       " ('W Publishing', 1),\n",
       " ('Baker', 1),\n",
       " ('Berkley Caliber', 1),\n",
       " ('Riverhead', 1),\n",
       " ('Plume', 1),\n",
       " ('Humanix', 1),\n",
       " ('Skyhorse', 1),\n",
       " ('Nelson Books', 1),\n",
       " ('Little Brown', 1),\n",
       " ('Greystone', 1),\n",
       " ('Harvard University', 1),\n",
       " ('Atlantic', 1),\n",
       " ('Zondervan', 1)]"
      ]
     },
     "execution_count": 98,
     "metadata": {},
     "output_type": "execute_result"
    }
   ],
   "source": [
    "PopularPublisherlist"
   ]
  },
  {
   "cell_type": "code",
   "execution_count": 99,
   "metadata": {
    "collapsed": true
   },
   "outputs": [],
   "source": [
    "import csv\n",
    "if os.path.exists(\"/PopularPublisher.csv\"):\n",
    "    os.remove(\"/PopularPublisher.csv\")    \n",
    "with open(os.getcwd()+\"/PopularPublisher.csv\", 'a',encoding='utf-8') as outcsv:\n",
    "    writer=csv.writer(outcsv)\n",
    "    writer.writerow([\"Publishers\",\"Occupy in BestSeller\"])\n",
    "    for item in PopularPublisherlist:\n",
    "        writer.writerow([item[0], item[1]])"
   ]
  },
  {
   "cell_type": "code",
   "execution_count": null,
   "metadata": {
    "collapsed": true
   },
   "outputs": [],
   "source": []
  }
 ],
 "metadata": {
  "anaconda-cloud": {},
  "kernelspec": {
   "display_name": "Python [conda root]",
   "language": "python",
   "name": "conda-root-py"
  },
  "language_info": {
   "codemirror_mode": {
    "name": "ipython",
    "version": 3
   },
   "file_extension": ".py",
   "mimetype": "text/x-python",
   "name": "python",
   "nbconvert_exporter": "python",
   "pygments_lexer": "ipython3",
   "version": "3.5.2"
  }
 },
 "nbformat": 4,
 "nbformat_minor": 1
}
