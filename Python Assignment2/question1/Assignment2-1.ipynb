{
 "cells": [
  {
   "cell_type": "code",
   "execution_count": 1,
   "metadata": {
    "collapsed": false
   },
   "outputs": [],
   "source": [
    "\n",
    "import nltk.corpus\n",
    "from nltk.corpus import inaugural\n",
    "from nltk.probability import FreqDist\n"
   ]
  },
  {
   "cell_type": "code",
   "execution_count": 2,
   "metadata": {
    "collapsed": false
   },
   "outputs": [],
   "source": [
    "import glob\n",
    "allpath=[]                     #save  all path\n",
    "for name in glob.glob('/Users/zifuche/nltk_data/corpora/inaugural/*.txt'):\n",
    "    allpath.append(name)\n",
    "    \n",
    "needpath=allpath[-25:-2]      #  12 txt\n",
    "    \n",
    "    "
   ]
  },
  {
   "cell_type": "code",
   "execution_count": 3,
   "metadata": {
    "collapsed": false
   },
   "outputs": [],
   "source": [
    "import string\n",
    "from string import punctuation\n",
    "def readtxt(path):                                               #read file\n",
    "    wordlist=[]\n",
    "    f=open(path,'r',encoding='utf-8',errors='ignore')\n",
    "    for line in f:\n",
    "        for word in line.split():\n",
    "            word=word.translate(str.maketrans('','',string.punctuation))         # remove punctuation\n",
    "            word=word.lower()\n",
    "            wordlist.append(word)                \n",
    "    return wordlist   \n",
    "        \n",
    "\n"
   ]
  },
  {
   "cell_type": "code",
   "execution_count": 4,
   "metadata": {
    "collapsed": true
   },
   "outputs": [],
   "source": [
    "#  from string import punctuation\n",
    "# def readtxt(path):\n",
    "#     wordlist=[]\n",
    "#     f=open(path,'r')\n",
    "#     for line in f.readlines():\n",
    "#         for word in line.split(\" \"):\n",
    "#             word=''.join(c for c in word if c not in punctuation)\n",
    "#             word=word.lower()\n",
    "#             if word.endswith(\"\\n\"):\n",
    "#                 word=word[:-2]                \n",
    "#             if word!=\"\\n\" and word!=None and word!=\"\":\n",
    "#                 wordlist.append(word)                \n",
    "#     return wordlist "
   ]
  },
  {
   "cell_type": "code",
   "execution_count": 5,
   "metadata": {
    "collapsed": false
   },
   "outputs": [],
   "source": [
    "totalwordlist=[]\n",
    "for path in needpath:\n",
    "    l=readtxt(path)\n",
    "    totalwordlist.extend(l)\n",
    "    \n",
    "    \n",
    "    \n",
    "    \n",
    "\n",
    "\n",
    "\n",
    "\n",
    "\n"
   ]
  },
  {
   "cell_type": "code",
   "execution_count": 6,
   "metadata": {
    "collapsed": false
   },
   "outputs": [],
   "source": [
    "def rank(w):                          # rank\n",
    "    ra=[]\n",
    "    count=1\n",
    "    for t in w:\n",
    "        r=(count,t[0],t[1])     \n",
    "        count=count+1\n",
    "        ra.append(r)\n",
    "    return ra\n",
    "          \n",
    "        \n",
    "           \n",
    "    "
   ]
  },
  {
   "cell_type": "code",
   "execution_count": 7,
   "metadata": {
    "collapsed": false
   },
   "outputs": [],
   "source": [
    "freq=FreqDist(totalwordlist)        #freq\n",
    "\n",
    "w=sorted(freq.items(),key=lambda x:x[1],reverse=True)  #sort\n",
    "\n",
    "csvlist=rank(w)      \n",
    "\n"
   ]
  },
  {
   "cell_type": "code",
   "execution_count": 8,
   "metadata": {
    "collapsed": false
   },
   "outputs": [],
   "source": [
    "import csv\n",
    "with open(\"/Users/zifuche/Desktop/pythoncsv/assign2-1.csv\", 'a') as outcsv:\n",
    "    writer=csv.writer(outcsv,delimiter=',', quotechar='|',quoting=csv.QUOTE_MINIMAL, lineterminator='\\n')\n",
    "    for item in csvlist:\n",
    "        writer.writerow([item[0], item[1], item[2]])"
   ]
  },
  {
   "cell_type": "code",
   "execution_count": 15,
   "metadata": {
    "collapsed": false
   },
   "outputs": [],
   "source": [
    "import matplotlib.pyplot as pltl\n",
    "%matplotlib inline\n",
    "\n",
    "\n",
    "ranks=[i[0] for i in csvlist]\n",
    "fre=[i[2] for i in csvlist]\n",
    "\n"
   ]
  },
  {
   "cell_type": "code",
   "execution_count": 17,
   "metadata": {
    "collapsed": false
   },
   "outputs": [
    {
     "data": {
      "image/png": "[encoded data removed]",
      "text/plain": [
       "<matplotlib.figure.Figure at 0x114c907f0>"
      ]
     },
     "metadata": {},
     "output_type": "display_data"
    }
   ],
   "source": [
    "pltl.loglog(ranks,fre)\n",
    "pltl.title(\"Zipf\\'s Law\",fontsize=16,fontweight=\"bold\")\n",
    "pltl.xlabel(\"Frequency\",fontsize=12,fontweight=\"bold\")\n",
    "pltl.ylabel(\"Rank\",fontsize=12,fontweight=\"bold\")\n",
    "pltl.grid(True)\n",
    "pltl.show()"
   ]
  },
  {
   "cell_type": "markdown",
   "metadata": {},
   "source": [
    "Conclusion:\n",
    "Zipf's law states that given some corpus of natural language utterances, the frequency of any word is inversely proportional to its rank in the frequency table.Zipf's law states that given some corpus of natural language utterances, the frequency of any word is inversely proportional to its rank in the frequency table. "
   ]
  }
 ],
 "metadata": {
  "anaconda-cloud": {},
  "kernelspec": {
   "display_name": "Python [conda root]",
   "language": "python",
   "name": "conda-root-py"
  },
  "language_info": {
   "codemirror_mode": {
    "name": "ipython",
    "version": 3
   },
   "file_extension": ".py",
   "mimetype": "text/x-python",
   "name": "python",
   "nbconvert_exporter": "python",
   "pygments_lexer": "ipython3",
   "version": "3.5.2"
  }
 },
 "nbformat": 4,
 "nbformat_minor": 1
}
