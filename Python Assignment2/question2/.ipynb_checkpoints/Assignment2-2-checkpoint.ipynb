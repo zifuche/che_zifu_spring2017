{
 "cells": [
  {
   "cell_type": "code",
   "execution_count": 1,
   "metadata": {
    "collapsed": true
   },
   "outputs": [],
   "source": [
    "import json\n",
    "from pprint import pprint\n",
    "import glob\n",
    "import os"
   ]
  },
  {
   "cell_type": "code",
   "execution_count": 82,
   "metadata": {
    "collapsed": false
   },
   "outputs": [],
   "source": [
    "alljsonPath=[]                                        #get all rare jsonfile path\n",
    "for name in glob.glob('/Users/zifuche/Desktop/Data/*.json'):\n",
    "    alljsonPath.append(name)\n",
    "    \n",
    "\n"
   ]
  },
  {
   "cell_type": "code",
   "execution_count": 44,
   "metadata": {
    "collapsed": true
   },
   "outputs": [],
   "source": [
    "def readjson(path):                                               #read json\n",
    "    with open(path,'r',encoding='utf-8',errors='ignore') as df:\n",
    "        data=json.load(df)\n",
    "        return data\n",
    "    "
   ]
  },
  {
   "cell_type": "code",
   "execution_count": 45,
   "metadata": {
    "collapsed": true
   },
   "outputs": [],
   "source": [
    "def ensure_dir(path):                                   # create folder if not exist\n",
    "    directory = os.path.dirname(path)\n",
    "    if not os.path.exists(directory):\n",
    "        os.makedirs(directory)\n",
    "frontpath=\"/Users/zifuche/Desktop/Data Processed/\"   \n",
    "\n"
   ]
  },
  {
   "cell_type": "code",
   "execution_count": 58,
   "metadata": {
    "collapsed": false
   },
   "outputs": [],
   "source": [
    "import shutil                                   #copy json according to country/city/category/*.json\n",
    "for path in alljsonPath:\n",
    "    j=readjson(path)\n",
    "    country=j[\"location\"][\"country\"]\n",
    "    ensure_dir(frontpath+country+\"/\")\n",
    "    city=j[\"location\"][\"city\"]\n",
    "    ensure_dir(frontpath+country+\"/\"+city+\"/\")\n",
    "    category=j[\"term\"]\n",
    "    ensure_dir(frontpath+country+\"/\"+city+\"/\"+category+\"/\")\n",
    "    shutil.copy(path,frontpath+country+\"/\"+city+\"/\"+category+\"/\"+os.path.basename(path))\n",
    "    \n",
    "    "
   ]
  },
  {
   "cell_type": "code",
   "execution_count": null,
   "metadata": {
    "collapsed": false
   },
   "outputs": [],
   "source": [
    "# print(data[\"location\"][\"country\"])\n",
    "# print(data[\"location\"][\"city\"])\n",
    "# print(data[\"term\"])\n",
    "# print(data[\"location\"])\n",
    "# print(data[\"name\"])\n",
    "  "
   ]
  },
  {
   "cell_type": "code",
   "execution_count": 110,
   "metadata": {
    "collapsed": false
   },
   "outputs": [
    {
     "name": "stdout",
     "output_type": "stream",
     "text": [
      "6372\n"
     ]
    }
   ],
   "source": [
    "allrestaurant=[]\n",
    "for name in glob.glob('/Users/zifuche/Desktop/Data Processed/*/*/restaurants/*.json'):  #read json in restaurants folders\n",
    "    allrestaurant.append(name)\n",
    "    \n",
    "    \n",
    "# print(len(allrestaurant))    "
   ]
  },
  {
   "cell_type": "code",
   "execution_count": 131,
   "metadata": {
    "collapsed": false
   },
   "outputs": [],
   "source": [
    "reslist=[]                                                              \n",
    "for path in allrestaurant:\n",
    "    data=readjson(path)\n",
    "    try:\n",
    "        hours=data[\"hours\"][0][\"open\"]\n",
    "    except:\n",
    "        hours=[{'day': 0, 'start': '0000', 'end': '0000'}]              #     some restaurant didnt provide timings\n",
    "    name=data[\"name\"].replace(\",\",\" \")\n",
    "    country=data[\"location\"][\"country\"]\n",
    "    city=data[\"location\"][\"city\"]\n",
    "    for item in hours:\n",
    "        day=item[\"day\"]\n",
    "        starthour=item[\"start\"][:2]\n",
    "        startmin=item[\"start\"][-2:]\n",
    "        endhour=item[\"end\"][:2]\n",
    "        endmin=item[\"end\"][-2:]        \n",
    "        r=(name,city,country,day,starthour,startmin,endhour,endmin)\n",
    "        reslist.append(r)\n",
    "        \n",
    "    \n",
    "    "
   ]
  },
  {
   "cell_type": "code",
   "execution_count": 139,
   "metadata": {
    "collapsed": false,
    "scrolled": true
   },
   "outputs": [],
   "source": [
    "# print(data[\"hours\"][0][\"open\"])\n",
    "# l1=data[\"hours\"][0][\"open\"]\n",
    "\n",
    "# print(l1[0][\"start\"][:2])\n",
    "# print(l1[0][\"start\"][-2:])\n",
    "\n",
    "\n"
   ]
  },
  {
   "cell_type": "code",
   "execution_count": 140,
   "metadata": {
    "collapsed": false
   },
   "outputs": [],
   "source": [
    "import csv\n",
    "with open(\"/Users/zifuche/Desktop/pythoncsv/restaurant.csv\", 'a') as outcsv:\n",
    "    writer=csv.writer(outcsv,delimiter=',', quotechar='|',quoting=csv.QUOTE_MINIMAL, lineterminator='\\n')\n",
    "    writer.writerow([\"Name of restaurant\",\"City\",\"Country Code\",\"Day of week\",\"Start Time Hour\",\"Start time Minute\",\"End time Hour\",\"End Time Minute\"])\n",
    "    for item in reslist:\n",
    "        writer.writerow([item[0], item[1], item[2],item[3],item[4],item[5],item[6],item[7]])"
   ]
  },
  {
   "cell_type": "code",
   "execution_count": null,
   "metadata": {
    "collapsed": true
   },
   "outputs": [],
   "source": []
  }
 ],
 "metadata": {
  "anaconda-cloud": {},
  "kernelspec": {
   "display_name": "Python [conda root]",
   "language": "python",
   "name": "conda-root-py"
  },
  "language_info": {
   "codemirror_mode": {
    "name": "ipython",
    "version": 3
   },
   "file_extension": ".py",
   "mimetype": "text/x-python",
   "name": "python",
   "nbconvert_exporter": "python",
   "pygments_lexer": "ipython3",
   "version": "3.5.2"
  }
 },
 "nbformat": 4,
 "nbformat_minor": 1
}
