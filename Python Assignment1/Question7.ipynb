{
 "cells": [
  {
   "cell_type": "markdown",
   "metadata": {},
   "source": [
    "# Question 7\n",
    "Use Name corpus, calculate the probability of a name being of a male or female base on the last character(s) of name.\n",
    "Sample steps:\n",
    "For char ‘a’:\n",
    "\ttotal_names = sum(names ending with ‘a’)\n",
    "\tmale_names = sum(male names ending with ‘a’)\n",
    "\tfemale_names = sum(female names ending with ‘a’)\n",
    "\tProbability of name being male = 100 * male_names / total_names\n",
    "2. Do this for all characters. \n",
    "Output must come with proper title (e.g. [a] male: 25%, female: 60%)\n"
   ]
  },
  {
   "cell_type": "code",
   "execution_count": 2,
   "metadata": {
    "collapsed": true
   },
   "outputs": [],
   "source": [
    "import nltk\n"
   ]
  },
  {
   "cell_type": "code",
   "execution_count": 3,
   "metadata": {
    "collapsed": false
   },
   "outputs": [
    {
     "name": "stdout",
     "output_type": "stream",
     "text": [
      "['female.txt', 'male.txt']\n"
     ]
    }
   ],
   "source": [
    "c=nltk.corpus.names.fileids()\n",
    "\n",
    "print(c)"
   ]
  },
  {
   "cell_type": "code",
   "execution_count": null,
   "metadata": {
    "collapsed": false
   },
   "outputs": [],
   "source": []
  },
  {
   "cell_type": "code",
   "execution_count": 7,
   "metadata": {
    "collapsed": false
   },
   "outputs": [],
   "source": [
    "malelist=nltk.corpus.names.words('male.txt')\n",
    "femalelist=nltk.corpus.names.words('female.txt')\n",
    "def inputchara(a):\n",
    "    male_names=len([name for name in malelist if name.endswith(a)])\n",
    "    female_names=len([name for name in femalelist if name.endswith(a)])\n",
    "    total_names=male_names+female_names\n",
    "    if total_names==0: \n",
    "        male=0\n",
    "        female=0\n",
    "    else:\n",
    "        male=male_names/total_names\n",
    "        female=female_names/total_names\n",
    "    print ('End with[%s]:Female:%.2f%%,Male:%.2f%%.'%(a,female*100,male*100))\n",
    "    "
   ]
  },
  {
   "cell_type": "code",
   "execution_count": 8,
   "metadata": {
    "collapsed": false
   },
   "outputs": [
    {
     "name": "stdout",
     "output_type": "stream",
     "text": [
      "End with[q]:Female:0.00%,Male:0.00%.\n"
     ]
    }
   ],
   "source": [
    "inputchara('q')"
   ]
  },
  {
   "cell_type": "code",
   "execution_count": 9,
   "metadata": {
    "collapsed": false
   },
   "outputs": [
    {
     "name": "stdout",
     "output_type": "stream",
     "text": [
      "End with[a]:Female:98.39%,Male:1.61%.\n",
      "End with[b]:Female:30.00%,Male:70.00%.\n",
      "End with[c]:Female:0.00%,Male:100.00%.\n",
      "End with[d]:Female:14.61%,Male:85.39%.\n",
      "End with[e]:Female:75.37%,Male:24.63%.\n",
      "End with[f]:Female:7.41%,Male:92.59%.\n",
      "End with[g]:Female:23.81%,Male:76.19%.\n",
      "End with[h]:Female:53.03%,Male:46.97%.\n",
      "End with[i]:Female:86.38%,Male:13.62%.\n",
      "End with[j]:Female:25.00%,Male:75.00%.\n",
      "End with[k]:Female:4.17%,Male:95.83%.\n",
      "End with[l]:Female:48.91%,Male:51.09%.\n",
      "End with[m]:Female:15.66%,Male:84.34%.\n",
      "End with[n]:Female:44.68%,Male:55.32%.\n",
      "End with[o]:Female:16.67%,Male:83.33%.\n",
      "End with[p]:Female:10.00%,Male:90.00%.\n",
      "End with[q]:Female:0.00%,Male:0.00%.\n",
      "End with[r]:Female:19.83%,Male:80.17%.\n",
      "End with[s]:Female:28.79%,Male:71.21%.\n",
      "End with[t]:Female:29.31%,Male:70.69%.\n",
      "End with[u]:Female:33.33%,Male:66.67%.\n",
      "End with[v]:Female:11.11%,Male:88.89%.\n",
      "End with[w]:Female:22.73%,Male:77.27%.\n",
      "End with[x]:Female:50.00%,Male:50.00%.\n",
      "End with[y]:Female:58.13%,Male:41.87%.\n",
      "End with[z]:Female:26.67%,Male:73.33%.\n"
     ]
    }
   ],
   "source": [
    "import string\n",
    "for x in string.ascii_lowercase:\n",
    "    inputchara(x)\n",
    "    "
   ]
  },
  {
   "cell_type": "code",
   "execution_count": null,
   "metadata": {
    "collapsed": true
   },
   "outputs": [],
   "source": []
  }
 ],
 "metadata": {
  "anaconda-cloud": {},
  "kernelspec": {
   "display_name": "Python [conda root]",
   "language": "python",
   "name": "conda-root-py"
  },
  "language_info": {
   "codemirror_mode": {
    "name": "ipython",
    "version": 3
   },
   "file_extension": ".py",
   "mimetype": "text/x-python",
   "name": "python",
   "nbconvert_exporter": "python",
   "pygments_lexer": "ipython3",
   "version": "3.5.2"
  }
 },
 "nbformat": 4,
 "nbformat_minor": 1
}
