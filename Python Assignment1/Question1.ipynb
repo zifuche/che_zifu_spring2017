{
 "cells": [
  {
   "cell_type": "markdown",
   "metadata": {},
   "source": [
    "# Question1\n",
    "\n",
    "-Under package Gutenberg, see what files are in it.\n",
    "Find out how many words and how many unique words in file 'austen-persuasion.txt'.\n",
    "-Calculate the frequency for each words and show the top 10 most frequent words and their frequency.\n",
    "Try NOT to use FreqDist module.\n"
   ]
  },
  {
   "cell_type": "code",
   "execution_count": 26,
   "metadata": {
    "collapsed": false
   },
   "outputs": [
    {
     "name": "stdout",
     "output_type": "stream",
     "text": [
      "words: 98171\n",
      "unique words: 6132\n"
     ]
    }
   ],
   "source": [
    "from nltk.corpus import gutenberg\n",
    "\n",
    "len('austen-persuasion.txt')\n",
    "words=gutenberg.words('austen-persuasion.txt')\n",
    "print('words:',len(words))\n",
    "\n",
    "print('unique words:',len(set(words)))"
   ]
  },
  {
   "cell_type": "code",
   "execution_count": 1,
   "metadata": {
    "collapsed": false
   },
   "outputs": [],
   "source": [
    "import nltk\n",
    "list1 = nltk.corpus.gutenberg.words('austen-persuasion.txt')\n",
    "\n",
    "word_count = {}\n",
    "\n",
    "for word in list1:\n",
    "    if not word in word_count:\n",
    "        word_count[word]=1\n",
    "    else:\n",
    "        word_count[word]=word_count[word]+1\n",
    "                      \n",
    "\n",
    "w=sorted(word_count.items(),key=lambda x:x[1],reverse=True)          \n",
    "answer=w[:10]\n",
    "\n",
    "\n",
    "\n",
    "\n",
    "\n",
    "    "
   ]
  },
  {
   "cell_type": "code",
   "execution_count": 4,
   "metadata": {
    "collapsed": false
   },
   "outputs": [
    {
     "name": "stdout",
     "output_type": "stream",
     "text": [
      "Top10:\n",
      "[(',', 6750), ('the', 3120), ('to', 2775), ('.', 2741), ('and', 2739), ('of', 2564), ('a', 1529), ('in', 1346), ('was', 1330), (';', 1290)]\n"
     ]
    }
   ],
   "source": [
    "print('Top10:')\n",
    "print(answer)"
   ]
  },
  {
   "cell_type": "code",
   "execution_count": null,
   "metadata": {
    "collapsed": true
   },
   "outputs": [],
   "source": []
  },
  {
   "cell_type": "code",
   "execution_count": null,
   "metadata": {
    "collapsed": true
   },
   "outputs": [],
   "source": []
  }
 ],
 "metadata": {
  "anaconda-cloud": {},
  "kernelspec": {
   "display_name": "Python [conda root]",
   "language": "python",
   "name": "conda-root-py"
  },
  "language_info": {
   "codemirror_mode": {
    "name": "ipython",
    "version": 3
   },
   "file_extension": ".py",
   "mimetype": "text/x-python",
   "name": "python",
   "nbconvert_exporter": "python",
   "pygments_lexer": "ipython3",
   "version": "3.5.2"
  }
 },
 "nbformat": 4,
 "nbformat_minor": 1
}
