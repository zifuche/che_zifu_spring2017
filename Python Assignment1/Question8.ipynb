{
 "cells": [
  {
   "cell_type": "markdown",
   "metadata": {},
   "source": [
    "# Question8\n",
    "Use nps_chat and wordlist corpus.\n",
    "If you find a word in nps_chat but not in wordlist, it is considered an unusual word. (e.g. Heyyyy, gr8, 4ever can be considered unusual words for this analysis)\n",
    "Find out how many unusual words people speak in chat (notice: usernames should not be counted)\n",
    "Bonus: What if I want to  count : ) , : ( all these emoticons in. (optional)\n"
   ]
  },
  {
   "cell_type": "code",
   "execution_count": 4,
   "metadata": {
    "collapsed": false
   },
   "outputs": [],
   "source": [
    "import nltk\n",
    "\n"
   ]
  },
  {
   "cell_type": "code",
   "execution_count": 7,
   "metadata": {
    "collapsed": false
   },
   "outputs": [],
   "source": [
    "import re\n",
    "s1=list(nltk.corpus.nps_chat.words())\n",
    "s3=[word.lower() for word in s1]\n",
    "    \n",
    "for word in s3:\n",
    "    if word.startswith('u') and word[-1].isdigit():\n",
    "        s3.remove(word)                   #remove username\n",
    "    if word.isdigit():\n",
    "        s3.remove(word)\n",
    "s31=[word for word in s3 if re.search(r'[a-z]+$',word)]     \n",
    "                               #remian anything that contain one or more than one letters          \n",
    "        \n",
    "        \n",
    "            \n",
    "s4=set(s31)       \n",
    "s2=nltk.corpus.words.words() \n",
    "\n",
    "answer=len([word for word in s4 if word not in s2])\n",
    "\n"
   ]
  },
  {
   "cell_type": "code",
   "execution_count": 8,
   "metadata": {
    "collapsed": false
   },
   "outputs": [
    {
     "name": "stdout",
     "output_type": "stream",
     "text": [
      "2369\n"
     ]
    }
   ],
   "source": [
    "print(answer)"
   ]
  },
  {
   "cell_type": "code",
   "execution_count": null,
   "metadata": {
    "collapsed": true
   },
   "outputs": [],
   "source": []
  }
 ],
 "metadata": {
  "anaconda-cloud": {},
  "kernelspec": {
   "display_name": "Python [conda root]",
   "language": "python",
   "name": "conda-root-py"
  },
  "language_info": {
   "codemirror_mode": {
    "name": "ipython",
    "version": 3
   },
   "file_extension": ".py",
   "mimetype": "text/x-python",
   "name": "python",
   "nbconvert_exporter": "python",
   "pygments_lexer": "ipython3",
   "version": "3.5.2"
  }
 },
 "nbformat": 4,
 "nbformat_minor": 1
}
