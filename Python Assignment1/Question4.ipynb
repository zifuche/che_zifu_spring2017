{
 "cells": [
  {
   "cell_type": "markdown",
   "metadata": {},
   "source": [
    "# Question4\n",
    "Under package nps_chat, see what files are in it.\n",
    "Find 'user121' and see how many posts he posted in all.\n",
    "Find out how many unique user in each age range group. (20s, 30s,...)(Hint: files' name)\n"
   ]
  },
  {
   "cell_type": "code",
   "execution_count": 2,
   "metadata": {
    "collapsed": true
   },
   "outputs": [],
   "source": [
    "import nltk\n",
    "from nltk.text import Text \n",
    "from nltk.corpus import nps_chat"
   ]
  },
  {
   "cell_type": "code",
   "execution_count": 3,
   "metadata": {
    "collapsed": false
   },
   "outputs": [
    {
     "name": "stdout",
     "output_type": "stream",
     "text": [
      "['10-19-20s_706posts.xml', '10-19-30s_705posts.xml', '10-19-40s_686posts.xml', '10-19-adults_706posts.xml', '10-24-40s_706posts.xml', '10-26-teens_706posts.xml', '11-06-adults_706posts.xml', '11-08-20s_705posts.xml', '11-08-40s_706posts.xml', '11-08-adults_705posts.xml', '11-08-teens_706posts.xml', '11-09-20s_706posts.xml', '11-09-40s_706posts.xml', '11-09-adults_706posts.xml', '11-09-teens_706posts.xml']\n"
     ]
    }
   ],
   "source": [
    "c=nltk.corpus.nps_chat.fileids()\n",
    "print(c)\n",
    "wor=nps_chat.raw('10-19-20s_706posts.xml')\n",
    "\n",
    "ss=nps_chat.words('10-19-20s_706posts.xml')\n"
   ]
  },
  {
   "cell_type": "code",
   "execution_count": 4,
   "metadata": {
    "collapsed": false
   },
   "outputs": [
    {
     "name": "stdout",
     "output_type": "stream",
     "text": [
      "['now', 'im', 'left', 'with', 'this', 'gay', 'name', ':P', 'PART', 'hey', 'everyone', 'ah', 'well', 'NICK', ':', 'U7', 'U7', 'is', 'a', 'gay', 'name', '.', '.', 'ACTION', 'gives', 'U121', 'a', 'golf', 'clap', '.']\n",
      "0\n"
     ]
    }
   ],
   "source": [
    "ss=nps_chat.words('10-19-20s_706posts.xml')\n",
    "z=ss[:30]\n",
    "print(z)  \n",
    "d=ss.count('<')\n",
    "print(d)"
   ]
  },
  {
   "cell_type": "code",
   "execution_count": 69,
   "metadata": {
    "collapsed": false
   },
   "outputs": [
    {
     "name": "stdout",
     "output_type": "stream",
     "text": [
      "post times:\n",
      "132\n"
     ]
    }
   ],
   "source": [
    "count=0;\n",
    "for f in c:\n",
    "    y=nps_chat.raw(f)\n",
    "    r=y.count('User121\">')\n",
    "    count+=r\n",
    "\n",
    "print ('post times:')             #user121 post\n",
    "print(count)"
   ]
  },
  {
   "cell_type": "code",
   "execution_count": 94,
   "metadata": {
    "collapsed": false
   },
   "outputs": [],
   "source": [
    "import re\n",
    "def caculate(f):\n",
    "    ss=nps_chat.raw(f)\n",
    "    res=re.findall(r'user=\"([^\"]+)\"',ss)\n",
    "    return res\n",
    "                             # regular expression \n",
    "    \n",
    "    \n"
   ]
  },
  {
   "cell_type": "code",
   "execution_count": 95,
   "metadata": {
    "collapsed": false
   },
   "outputs": [
    {
     "name": "stdout",
     "output_type": "stream",
     "text": [
      "['10-19-20sUser7', '10-19-20sUser7', '10-19-20sUser76', '10-19-20sUser59', '10-19-20sUser115', '10-19-20sUser7', '10-19-20sUser121', '10-19-20sUser84', '10-19-20sUser7', '10-19-20sUser123', '10-19-20sUser115', '10-19-20sUser21', '10-19-20sUser124', '10-19-20sUser77', '10-19-20sUser115', '10-19-20sUser121', '10-19-20sUser7', '10-19-20sUser59', '10-19-20sUser122', '10-19-20sUser117', '10-19-20sUser121', '10-19-20sUser91', '10-19-20sUser121', '10-19-20sUser84', '10-19-20sUser49', '10-19-20sUser21', '10-19-20sUser125', '10-19-20sUser115', '10-19-20sUser114', '10-19-20sUser23', '10-19-20sUser121', '10-19-20sUser21', '10-19-20sUser7', '10-19-20sUser121', '10-19-20sUser126', '10-19-20sUser19', '10-19-20sUser115', '10-19-20sUser121', '10-19-20sUser7', '10-19-20sUser67', '10-19-20sUser7', '10-19-20sUser115', '10-19-20sUser127', '10-19-20sUser128', '10-19-20sUser121', '10-19-20sUser7', '10-19-20sUser129', '10-19-20sUser65', '10-19-20sUser121', '10-19-20sUser115', '10-19-20sUser115', '10-19-20sUser116', '10-19-20sUser129', '10-19-20sUser121', '10-19-20sUser21', '10-19-20sUser129', '10-19-20sUser115', '10-19-20sUser115', '10-19-20sUser129', '10-19-20sUser23', '10-19-20sUser21', '10-19-20sUser80', '10-19-20sUser130', '10-19-20sUser131', '10-19-20sUser30', '10-19-20sUser40', '10-19-20sUser132', '10-19-20sUser129', '10-19-20sUser121', '10-19-20sUser131', '10-19-20sUser132', '10-19-20sUser115', '10-19-20sUser30', '10-19-20sUser55', '10-19-20sUser128', '10-19-20sUser108', '10-19-20sUser77', '10-19-20sUser68', '10-19-20sUser121', '10-19-20sUser21', '10-19-20sUser68', '10-19-20sUser21', '10-19-20sUser131', '10-19-20sUser133', '10-19-20sUser124', '10-19-20sUser7', '10-19-20sUser124', '10-19-20sUser121', '10-19-20sUser7', '10-19-20sUser121', '10-19-20sUser134', '10-19-20sUser135', '10-19-20sUser40', '10-19-20sUser121', '10-19-20sUser124', '10-19-20sUser7', '10-19-20sUser7', '10-19-20sUser115', '10-19-20sUser40', '10-19-20sUser136', '10-19-20sUser134', '10-19-20sUser40', '10-19-20sUser7', '10-19-20sUser133', '10-19-20sUser30', '10-19-20sUser137', '10-19-20sUser138', '10-19-20sUser126', '10-19-20sUser138', '10-19-20sUser121', '10-19-20sUser64', '10-19-20sUser129', '10-19-20sUser40', '10-19-20sUser113', '10-19-20sUser126', '10-19-20sUser7', '10-19-20sUser138', '10-19-20sUser139', '10-19-20sUser30', '10-19-20sUser7', '10-19-20sUser68', '10-19-20sUser44', '10-19-20sUser140', '10-19-20sUser121', '10-19-20sUser126', '10-19-20sUser68', '10-19-20sUser7', '10-19-20sUser125', '10-19-20sUser60', '10-19-20sUser60', '10-19-20sUser64', '10-19-20sUser141', '10-19-20sUser139', '10-19-20sUser60', '10-19-20sUser60', '10-19-20sUser101', '10-19-20sUser60', '10-19-20sUser60', '10-19-20sUser126', '10-19-20sUser44', '10-19-20sUser68', '10-19-20sUser105', '10-19-20sUser115', '10-19-20sUser121', '10-19-20sUser121', '10-19-20sUser44', '10-19-20sUser138', '10-19-20sUser105', '10-19-20sUser7', '10-19-20sUser40', '10-19-20sUser139', '10-19-20sUser138', '10-19-20sUser83', '10-19-20sUser20', '10-19-20sUser21', '10-19-20sUser138', '10-19-20sUser65', '10-19-20sUser115', '10-19-20sUser7', '10-19-20sUser30', '10-19-20sUser126', '10-19-20sUser7', '10-19-20sUser6', '10-19-20sUser101', '10-19-20sUser121', '10-19-20sUser44', '10-19-20sUser7', '10-19-20sUser6', '10-19-20sUser14', '10-19-20sUser14', '10-19-20sUser83', '10-19-20sUser68', '10-19-20sUser7', '10-19-20sUser6', '10-19-20sUser139', '10-19-20sUser83', '10-19-20sUser121', '10-19-20sUser30', '10-19-20sUser6', '10-19-20sUser7', '10-19-20sUser115', '10-19-20sUser6', '10-19-20sUser105', '10-19-20sUser105', '10-19-20sUser30', '10-19-20sUser21', '10-19-20sUser121', '10-19-20sUser121', '10-19-20sUser139', '10-19-20sUser44', '10-19-20sUser121', '10-19-20sUser49', '10-19-20sUser63', '10-19-20sUser105', '10-19-20sUser115', '10-19-20sUser105', '10-19-20sUser116', '10-19-20sUser105', '10-19-20sUser68', '10-19-20sUser121', '10-19-20sUser44', '10-19-20sUser128', '10-19-20sUser121', '10-19-20sUser68', '10-19-20sUser6', '10-19-20sUser131', '10-19-20sUser142', '10-19-20sUser6', '10-19-20sUser115', '10-19-20sUser29', '10-19-20sUser7', '10-19-20sUser6', '10-19-20sUser121', '10-19-20sUser6', '10-19-20sUser111', '10-19-20sUser121', '10-19-20sUser115', '10-19-20sUser23', '10-19-20sUser6', '10-19-20sUser116', '10-19-20sUser115', '10-19-20sUser6', '10-19-20sUser21', '10-19-20sUser7', '10-19-20sUser68', '10-19-20sUser121', '10-19-20sUser115', '10-19-20sUser143', '10-19-20sUser121', '10-19-20sUser6', '10-19-20sUser83', '10-19-20sUser128', '10-19-20sUser53', '10-19-20sUser115', '10-19-20sUser6', '10-19-20sUser68', '10-19-20sUser92', '10-19-20sUser144', '10-19-20sUser6', '10-19-20sUser72', '10-19-20sUser121', '10-19-20sUser72', '10-19-20sUser59', '10-19-20sUser20', '10-19-20sUser44', '10-19-20sUser92', '10-19-20sUser6', '10-19-20sUser92', '10-19-20sUser135', '10-19-20sUser7', '10-19-20sUser115', '10-19-20sUser6', '10-19-20sUser44', '10-19-20sUser7', '10-19-20sUser142', '10-19-20sUser20', '10-19-20sUser92', '10-19-20sUser121', '10-19-20sUser145', '10-19-20sUser115', '10-19-20sUser44', '10-19-20sUser6', '10-19-20sUser7', '10-19-20sUser51', '10-19-20sUser6', '10-19-20sUser44', '10-19-20sUser115', '10-19-20sUser146', '10-19-20sUser7', '10-19-20sUser20', '10-19-20sUser6', '10-19-20sUser0', '10-19-20sUser115', '10-19-20sUser20', '10-19-20sUser44', '10-19-20sUser92', '10-19-20sUser6', '10-19-20sUser92', '10-19-20sUser7', '10-19-20sUser92', '10-19-20sUser6', '10-19-20sUser147', '10-19-20sUser7', '10-19-20sUser115', '10-19-20sUser121', '10-19-20sUser6', '10-19-20sUser30', '10-19-20sUser7', '10-19-20sUser135', '10-19-20sUser115', '10-19-20sUser7', '10-19-20sUser116', '10-19-20sUser148', '10-19-20sUser7', '10-19-20sUser7', '10-19-20sUser68', '10-19-20sUser95', '10-19-20sUser92', '10-19-20sUser115', '10-19-20sUser6', '10-19-20sUser92', '10-19-20sUser148', '10-19-20sUser121', '10-19-20sUser0', '10-19-20sUser7', '10-19-20sUser68', '10-19-20sUser121', '10-19-20sUser7', '10-19-20sUser116', '10-19-20sUser149', '10-19-20sUser68', '10-19-20sUser92', '10-19-20sUser6', '10-19-20sUser92', '10-19-20sUser77', '10-19-20sUser7', '10-19-20sUser77', '10-19-20sUser115', '10-19-20sUser73', '10-19-20sUser116', '10-19-20sUser5', '10-19-20sUser116', '10-19-20sUser7', '10-19-20sUser68', '10-19-20sUser150', '10-19-20sUser6', '10-19-20sUser115', '10-19-20sUser92', '10-19-20sUser144', '10-19-20sUser92', '10-19-20sUser68', '10-19-20sUser121', '10-19-20sUser105', '10-19-20sUser115', '10-19-20sUser116', '10-19-20sUser121', '10-19-20sUser121', '10-19-20sUser84', '10-19-20sUser149', '10-19-20sUser92', '10-19-20sUser151', '10-19-20sUser83', '10-19-20sUser7', '10-19-20sUser116', '10-19-20sUser44', '10-19-20sUser121', '10-19-20sUser115', '10-19-20sUser151', '10-19-20sUser92', '10-19-20sUser6', '10-19-20sUser107', '10-19-20sUser152', '10-19-20sUser6', '10-19-20sUser92', '10-19-20sUser115', '10-19-20sUser116', '10-19-20sUser83', '10-19-20sUser68', '10-19-20sUser77', '10-19-20sUser6', '10-19-20sUser6', '10-19-20sUser121', '10-19-20sUser115', '10-19-20sUser23', '10-19-20sUser153', '10-19-20sUser68', '10-19-20sUser6', '10-19-20sUser92', '10-19-20sUser115', '10-19-20sUser115', '10-19-20sUser121', '10-19-20sUser121', '10-19-20sUser44', '10-19-20sUser83', '10-19-20sUser121', '10-19-20sUser154', '10-19-20sUser6', '10-19-20sUser7', '10-19-20sUser6', '10-19-20sUser139', '10-19-20sUser139', '10-19-20sUser44', '10-19-20sUser115', '10-19-20sUser121', '10-19-20sUser6', '10-19-20sUser44', '10-19-20sUser116', '10-19-20sUser44', '10-19-20sUser115', '10-19-20sUser83', '10-19-20sUser155', '10-19-20sUser154', '10-19-20sUser7', '10-19-20sUser133', '10-19-20sUser83', '10-19-20sUser156', '10-19-20sUser6', '10-19-20sUser6', '10-19-20sUser121', '10-19-20sUser23', '10-19-20sUser121', '10-19-20sUser92', '10-19-20sUser121', '10-19-20sUser92', '10-19-20sUser30', '10-19-20sUser121', '10-19-20sUser121', '10-19-20sUser121', '10-19-20sUser83', '10-19-20sUser92', '10-19-20sUser155', '10-19-20sUser121', '10-19-20sUser27', '10-19-20sUser13', '10-19-20sUser6', '10-19-20sUser68', '10-19-20sUser92', '10-19-20sUser83', '10-19-20sUser115', '10-19-20sUser157', '10-19-20sUser109', '10-19-20sUser23', '10-19-20sUser83', '10-19-20sUser116', '10-19-20sUser158', '10-19-20sUser115', '10-19-20sUser6', '10-19-20sUser7', '10-19-20sUser155', '10-19-20sUser6', '10-19-20sUser7', '10-19-20sUser6', '10-19-20sUser140', '10-19-20sUser6', '10-19-20sUser115', '10-19-20sUser154', '10-19-20sUser140', '10-19-20sUser92', '10-19-20sUser136', '10-19-20sUser6', '10-19-20sUser121', '10-19-20sUser23', '10-19-20sUser6', '10-19-20sUser115', '10-19-20sUser121', '10-19-20sUser6', '10-19-20sUser92', '10-19-20sUser116', '10-19-20sUser30', '10-19-20sUser92', '10-19-20sUser92', '10-19-20sUser83', '10-19-20sUser23', '10-19-20sUser6', '10-19-20sUser6', '10-19-20sUser92', '10-19-20sUser116', '10-19-20sUser155', '10-19-20sUser6', '10-19-20sUser115', '10-19-20sUser155', '10-19-20sUser159', '10-19-20sUser12', '10-19-20sUser121', '10-19-20sUser30', '10-19-20sUser7', '10-19-20sUser6', '10-19-20sUser92', '10-19-20sUser92', '10-19-20sUser6', '10-19-20sUser23', '10-19-20sUser92', '10-19-20sUser6', '10-19-20sUser20', '10-19-20sUser92', '10-19-20sUser121', '10-19-20sUser92', '10-19-20sUser30', '10-19-20sUser92', '10-19-20sUser122', '10-19-20sUser115', '10-19-20sUser6', '10-19-20sUser6', '10-19-20sUser116', '10-19-20sUser92', '10-19-20sUser7', '10-19-20sUser116', '10-19-20sUser7', '10-19-20sUser116', '10-19-20sUser115', '10-19-20sUser155', '10-19-20sUser115', '10-19-20sUser92', '10-19-20sUser92', '10-19-20sUser6', '10-19-20sUser68', '10-19-20sUser7', '10-19-20sUser23', '10-19-20sUser20', '10-19-20sUser7', '10-19-20sUser115', '10-19-20sUser30', '10-19-20sUser6', '10-19-20sUser155', '10-19-20sUser7', '10-19-20sUser44', '10-19-20sUser115', '10-19-20sUser7', '10-19-20sUser116', '10-19-20sUser44', '10-19-20sUser6', '10-19-20sUser7', '10-19-20sUser92', '10-19-20sUser23', '10-19-20sUser20', '10-19-20sUser102', '10-19-20sUser6', '10-19-20sUser115', '10-19-20sUser20', '10-19-20sUser115', '10-19-20sUser6', '10-19-20sUser155', '10-19-20sUser115', '10-19-20sUser23', '10-19-20sUser65', '10-19-20sUser115', '10-19-20sUser30', '10-19-20sUser20', '10-19-20sUser6', '10-19-20sUser64', '10-19-20sUser160', '10-19-20sUser6', '10-19-20sUser68', '10-19-20sUser115', '10-19-20sUser6', '10-19-20sUser155', '10-19-20sUser115', '10-19-20sUser160', '10-19-20sUser115', '10-19-20sUser23', '10-19-20sUser46', '10-19-20sUser7', '10-19-20sUser20', '10-19-20sUser155', '10-19-20sUser121', '10-19-20sUser115', '10-19-20sUser6', '10-19-20sUser121', '10-19-20sUser20', '10-19-20sUser161', '10-19-20sUser121', '10-19-20sUser6', '10-19-20sUser23', '10-19-20sUser83', '10-19-20sUser7', '10-19-20sUser28', '10-19-20sUser30', '10-19-20sUser115', '10-19-20sUser6', '10-19-20sUser20', '10-19-20sUser115', '10-19-20sUser155', '10-19-20sUser68', '10-19-20sUser20', '10-19-20sUser6', '10-19-20sUser30', '10-19-20sUser160', '10-19-20sUser152', '10-19-20sUser162', '10-19-20sUser115', '10-19-20sUser115', '10-19-20sUser6', '10-19-20sUser111', '10-19-20sUser20', '10-19-20sUser23', '10-19-20sUser121', '10-19-20sUser115', '10-19-20sUser121', '10-19-20sUser6', '10-19-20sUser160', '10-19-20sUser121', '10-19-20sUser121', '10-19-20sUser115', '10-19-20sUser20', '10-19-20sUser6', '10-19-20sUser23', '10-19-20sUser155', '10-19-20sUser84', '10-19-20sUser68', '10-19-20sUser133', '10-19-20sUser6', '10-19-20sUser65', '10-19-20sUser30', '10-19-20sUser115', '10-19-20sUser7', '10-19-20sUser155', '10-19-20sUser6', '10-19-20sUser121', '10-19-20sUser83', '10-19-20sUser30', '10-19-20sUser159', '10-19-20sUser163', '10-19-20sUser122', '10-19-20sUser23', '10-19-20sUser7', '10-19-20sUser121', '10-19-20sUser7', '10-19-20sUser6', '10-19-20sUser30', '10-19-20sUser7', '10-19-20sUser6', '10-19-20sUser164', '10-19-20sUser7', '10-19-20sUser84', '10-19-20sUser115', '10-19-20sUser83', '10-19-20sUser6', '10-19-20sUser84', '10-19-20sUser7', '10-19-20sUser6', '10-19-20sUser121', '10-19-20sUser115', '10-19-20sUser6', '10-19-20sUser121', '10-19-20sUser30', '10-19-20sUser7', '10-19-20sUser68', '10-19-20sUser6', '10-19-20sUser23', '10-19-20sUser83', '10-19-20sUser68', '10-19-20sUser111', '10-19-20sUser7', '10-19-20sUser30', '10-19-20sUser20', '10-19-20sUser6', '10-19-20sUser92', '10-19-20sUser6', '10-19-20sUser165', '10-19-20sUser141', '10-19-20sUser121', '10-19-20sUser30', '10-19-20sUser7', '10-19-20sUser6', '10-19-20sUser111', '10-19-20sUser7', '10-19-20sUser121', '10-19-20sUser155', '10-19-20sUser83', '10-19-20sUser2', '10-19-20sUser6', '10-19-20sUser116', '10-19-20sUser115', '10-19-20sUser6', '10-19-20sUser83', '10-19-20sUser165', '10-19-20sUser160', '10-19-20sUser6', '10-19-20sUser115', '10-19-20sUser121', '10-19-20sUser84', '10-19-20sUser6', '10-19-20sUser164', '10-19-20sUser7', '10-19-20sUser7', '10-19-20sUser83', '10-19-20sUser165', '10-19-20sUser14', '10-19-20sUser128', '10-19-20sUser6', '10-19-20sUser95', '10-19-20sUser23', '10-19-20sUser116', '10-19-20sUser6', '10-19-20sUser121', '10-19-20sUser115', '10-19-20sUser21', '10-19-20sUser6', '10-19-20sUser115', '10-19-20sUser83', '10-19-20sUser6', '10-19-20sUser64', '10-19-20sUser155', '10-19-20sUser166', '10-19-20sUser6', '10-19-20sUser137', '10-19-20sUser128', '10-19-20sUser7', '10-19-20sUser165', '10-19-20sUser6', '10-19-20sUser64', '10-19-20sUser7', '10-19-20sUser165', '10-19-20sUser6', '10-19-20sUser115', '10-19-20sUser167', '10-19-20sUser144', '10-19-20sUser128', '10-19-20sUser140', '10-19-20sUser168', '10-19-20sUser7', '10-19-20sUser168', '10-19-20sUser6', '10-19-20sUser64', '10-19-20sUser115', '10-19-20sUser23']\n",
      "100\n"
     ]
    }
   ],
   "source": [
    "print(caculate('10-19-20s_706posts.xml'))\n",
    "\n",
    "o=set(caculate('10-19-20s_706posts.xml'))\n",
    "print(len(o))                      #  e.g    \n"
   ]
  },
  {
   "cell_type": "code",
   "execution_count": 202,
   "metadata": {
    "collapsed": false
   },
   "outputs": [],
   "source": [
    "dic={}\n",
    "\n",
    "for f in c:\n",
    "    e=caculate(f)\n",
    "    age=f[6:8]\n",
    "    if age in dic.keys():\n",
    "        dic[age].extend(e)\n",
    "    else:\n",
    "        dic[age]=e\n",
    "        \n",
    "        \n",
    "    \n",
    "    \n",
    "  \n",
    "\n",
    "\n",
    "\n",
    "\n"
   ]
  },
  {
   "cell_type": "code",
   "execution_count": 206,
   "metadata": {
    "collapsed": false
   },
   "outputs": [
    {
     "name": "stdout",
     "output_type": "stream",
     "text": [
      "{'te': 443, '20': 305, '40': 228, 'ad': 357, '30': 44}\n"
     ]
    }
   ],
   "source": [
    "answer={}\n",
    "\n",
    "for k in dic.keys():\n",
    "    answer[k]=len(set(dic[k]))\n",
    "    \n",
    "    \n",
    "    \n",
    "print(answer)    \n",
    "    \n",
    "\n",
    "\n",
    "\n"
   ]
  }
 ],
 "metadata": {
  "anaconda-cloud": {},
  "kernelspec": {
   "display_name": "Python [conda root]",
   "language": "python",
   "name": "conda-root-py"
  },
  "language_info": {
   "codemirror_mode": {
    "name": "ipython",
    "version": 3
   },
   "file_extension": ".py",
   "mimetype": "text/x-python",
   "name": "python",
   "nbconvert_exporter": "python",
   "pygments_lexer": "ipython3",
   "version": "3.5.2"
  }
 },
 "nbformat": 4,
 "nbformat_minor": 1
}
