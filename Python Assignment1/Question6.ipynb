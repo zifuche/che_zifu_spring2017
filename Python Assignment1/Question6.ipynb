{
 "cells": [
  {
   "cell_type": "markdown",
   "metadata": {},
   "source": [
    "# Question6\n",
    "Under Inaugural Address package\n",
    "For every president, find out how many unique words they used in speech. \n",
    "We will just assume that President Bush means one person (technically it is incorrect but we will ignore it)\n"
   ]
  },
  {
   "cell_type": "code",
   "execution_count": 1,
   "metadata": {
    "collapsed": false
   },
   "outputs": [
    {
     "name": "stdout",
     "output_type": "stream",
     "text": [
      "['Washington', 'Washington', 'Adams', 'Jefferson', 'Jefferson', 'Madison', 'Madison', 'Monroe', 'Monroe', 'Adams', 'Jackson', 'Jackson', 'VanBuren', 'Harrison', 'Polk', 'Taylor', 'Pierce', 'Buchanan', 'Lincoln', 'Lincoln', 'Grant', 'Grant', 'Hayes', 'Garfield', 'Cleveland', 'Harrison', 'Cleveland', 'McKinley', 'McKinley', 'Roosevelt', 'Taft', 'Wilson', 'Wilson', 'Harding', 'Coolidge', 'Hoover', 'Roosevelt', 'Roosevelt', 'Roosevelt', 'Roosevelt', 'Truman', 'Eisenhower', 'Eisenhower', 'Kennedy', 'Johnson', 'Nixon', 'Nixon', 'Carter', 'Reagan', 'Reagan', 'Bush', 'Clinton', 'Clinton', 'Bush', 'Bush', 'Obama']\n"
     ]
    }
   ],
   "source": [
    "import nltk\n",
    "\n",
    "\n",
    "\n",
    "c=nltk.corpus.inaugural.fileids()\n",
    "\n",
    "\n",
    "e=nltk.corpus.inaugural.words()\n",
    "\n",
    "\n",
    "t=[f[5:-4] for f in c]           #?\n",
    "print(t)"
   ]
  },
  {
   "cell_type": "code",
   "execution_count": 2,
   "metadata": {
    "collapsed": true
   },
   "outputs": [],
   "source": [
    "def outputword(f):\n",
    "    list1=[]\n",
    "    for word in nltk.corpus.inaugural.words(f):\n",
    "        word=word.lower()\n",
    "        if word.isalpha():\n",
    "            list1.append(word)\n",
    "    return list1 \n",
    "            \n",
    "            \n",
    "        \n",
    "        "
   ]
  },
  {
   "cell_type": "code",
   "execution_count": 3,
   "metadata": {
    "collapsed": false
   },
   "outputs": [],
   "source": [
    "pre={}\n",
    "for f in c:\n",
    "    list1=outputword(f)\n",
    "    name=f[5:-4]\n",
    "    if name in pre.keys():\n",
    "        pre[name].extend(list1)\n",
    "    else:\n",
    "        pre[name]=list1\n",
    "       "
   ]
  },
  {
   "cell_type": "code",
   "execution_count": 4,
   "metadata": {
    "collapsed": false
   },
   "outputs": [
    {
     "name": "stdout",
     "output_type": "stream",
     "text": [
      "{'Roosevelt': 1598, 'Coolidge': 1159, 'Carter': 490, 'Hoover': 992, 'Taylor': 481, 'Hayes': 798, 'Jefferson': 1207, 'Bush': 1471, 'Harrison': 2538, 'Madison': 864, 'Wilson': 948, 'Grant': 812, 'Harding': 1117, 'Reagan': 1352, 'Truman': 739, 'Clinton': 1052, 'Buchanan': 890, 'Eisenhower': 1174, 'Lincoln': 1173, 'Jackson': 807, 'Adams': 1439, 'Monroe': 1675, 'VanBuren': 1252, 'Cleveland': 1166, 'Taft': 1372, 'Pierce': 1114, 'Nixon': 976, 'Obama': 889, 'Johnson': 524, 'Washington': 625, 'McKinley': 1588, 'Kennedy': 532, 'Garfield': 965, 'Polk': 1256}\n"
     ]
    }
   ],
   "source": [
    "answer={}\n",
    "for k in pre.keys():\n",
    "    answer[k]=len(set(pre[k]))\n",
    "\n",
    "print(answer)   "
   ]
  }
 ],
 "metadata": {
  "anaconda-cloud": {},
  "kernelspec": {
   "display_name": "Python [conda root]",
   "language": "python",
   "name": "conda-root-py"
  },
  "language_info": {
   "codemirror_mode": {
    "name": "ipython",
    "version": 3
   },
   "file_extension": ".py",
   "mimetype": "text/x-python",
   "name": "python",
   "nbconvert_exporter": "python",
   "pygments_lexer": "ipython3",
   "version": "3.5.2"
  }
 },
 "nbformat": 4,
 "nbformat_minor": 1
}
